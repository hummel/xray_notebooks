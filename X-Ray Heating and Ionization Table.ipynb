{
 "metadata": {
  "name": "",
  "signature": "sha256:78f0c744fad0b4477b2a7dd68d756c2a4f1d64cce3f2eba603136b70db5fa265"
 },
 "nbformat": 3,
 "nbformat_minor": 0,
 "worksheets": [
  {
   "cells": [
    {
     "cell_type": "code",
     "collapsed": false,
     "input": [
      "%matplotlib inline\n",
      "import numpy as np\n",
      "import pandas as pd\n",
      "import seaborn as sns\n",
      "from matplotlib import pyplot as plt"
     ],
     "language": "python",
     "metadata": {},
     "outputs": [],
     "prompt_number": 1
    },
    {
     "cell_type": "code",
     "collapsed": false,
     "input": [
      "sns.set_context('poster')"
     ],
     "language": "python",
     "metadata": {},
     "outputs": [],
     "prompt_number": 2
    },
    {
     "cell_type": "markdown",
     "metadata": {},
     "source": [
      "#Calculate $\\tau_{\\rm \\small effective}$ from $\\tau_{\\rm \\small pole}$ and $\\tau_{\\rm \\small equator}$.\n",
      "\n",
      "###$\\tau_{\\rm \\small effective} = \\tau_{\\rm \\small pole} \\frac{2 \\Omega_{\\rm \\small pole}}{4\\pi} + \\tau_{\\rm \\small equator} \\frac{4\\pi - 2 \\Omega_{\\rm \\small pole}}{4\\pi}$\n",
      "\n",
      "###$\\Omega_{\\rm \\small pole} = \\int_0^{2\\pi}{\\rm d}\\phi \\int_0^{\\pi/4}{\\rm sin}\\theta \\,{\\rm d}\\theta  = 2\\pi \\left( 1 - \\frac{1}{\\sqrt{2}} \\right) \\approx 2\\pi \\times 0.29289 = 1.840282$"
     ]
    },
    {
     "cell_type": "markdown",
     "metadata": {},
     "source": [
      "#From our [fit](Local Optical Depth Prescription.ipynb),\n",
      "##$\\tau_{\\rm \\small pole} = 10^{0.532301 {\\rm log_{10}}(n) - 3.306544}$ and $\\tau_{\\rm \\small equator} = 10^{0.626204 {\\rm log_{10}}(n) - 3.369605}$"
     ]
    },
    {
     "cell_type": "code",
     "collapsed": false,
     "input": [
      "def tau_p(n):\n",
      "    exponent = 0.532301 * np.log10(n) - 3.306544\n",
      "    return 10**exponent\n",
      "\n",
      "def tau_eq(n):\n",
      "    exponent = 0.626204 * np.log10(n) - 3.369605\n",
      "    return 10**exponent"
     ],
     "language": "python",
     "metadata": {},
     "outputs": [],
     "prompt_number": 3
    },
    {
     "cell_type": "code",
     "collapsed": false,
     "input": [
      "Omega_pole = 1.840282\n",
      "fourpi = 4 * np.pi\n",
      "a = 2 * Omega_pole / fourpi\n",
      "b = (fourpi - 2*Omega_pole)/fourpi\n",
      "def tau_eff(n):\n",
      "    x = tau_p(n)\n",
      "    y = tau_eq(n)\n",
      "    return a*x + b*y"
     ],
     "language": "python",
     "metadata": {},
     "outputs": [],
     "prompt_number": 4
    },
    {
     "cell_type": "code",
     "collapsed": false,
     "input": [
      "pi = 3.1415927\n",
      "c = 2.99792458e10\n",
      "h_nu = 6.6262e-27\n",
      "h_eV = 4.13567e-15\n",
      "k_B = 1.3806e-16\n",
      "pc = 3.085678e18"
     ],
     "language": "python",
     "metadata": {},
     "outputs": [],
     "prompt_number": 5
    },
    {
     "cell_type": "code",
     "collapsed": false,
     "input": [
      "def calculate_heat_ion_rates(rad_type, J_0):\n",
      "    i = 0\n",
      "    N_i_steps = 100\n",
      "    A_0 = 6.3e-18\n",
      "    ion_rate = 0.\n",
      "    heat_rate = 0.\n",
      "    E_0 = 1e3\n",
      "    E_min = 1e3\n",
      "    E_max = 1e4\n",
      "    Z_HI = 1.0\n",
      "    Z_HeI = 0.89\n",
      "    Z_HeII = 2.0\n",
      "    nu_ion_HI = 3.3e15\n",
      "    nu_ion_HeI = 5.95e15\n",
      "    nu_ion_HeII = 1.32e16\n",
      "    \n",
      "    if rad_type == 0:\n",
      "        Z = Z_HI\n",
      "        nu_ion = nu_ion_HI\n",
      "    elif rad_type == 1:\n",
      "        Z = Z_HeI\n",
      "        nu_ion = nu_ion_HeI\n",
      "    elif rad_type == 2:\n",
      "        Z = Z_HeII\n",
      "        nu_ion = nu_ion_HeII\n",
      "\n",
      "    nu_0 = E_0 / h_eV\n",
      "    nu_min = E_min / h_eV\n",
      "    nu_max = E_max / h_eV\n",
      "    logvmin = np.log10(nu_min)\n",
      "    logvmax = np.log10(nu_max)\n",
      "    for i in range(N_i_steps):\n",
      "        Freq = (logvmax - logvmin) / (N_i_steps) * (i + 0.5) + logvmin\n",
      "        Freq_start = (logvmax - logvmin) / (N_i_steps) * (i) + logvmin\n",
      "        Freq_end = (logvmax - logvmin) / (N_i_steps) * (i + 1.0) + logvmin\n",
      "        Freq = np.power(10, Freq)\n",
      "        Freq_start = np.power(10, Freq_start)\n",
      "        Freq_end = np.power(10, Freq_end)\n",
      "        DFreq = Freq_end - Freq_start\n",
      "        \n",
      "        F_nu = 4 * pi * J_0 * np.power( Freq/nu_0, -1.5)\n",
      "        epsilon = np.sqrt(Freq / nu_ion - 1.0)\n",
      "        sigma = A_0 / np.power(Z,2.0) * np.power(nu_ion/Freq,4.0) \\\n",
      "            * np.exp(4.0 - (4.0*np.arctan(epsilon) / epsilon)) \\\n",
      "            / (1.0-np.exp(-2.0*pi / epsilon))\n",
      "        ion_rate += F_nu * sigma / (h_nu * Freq) * DFreq\n",
      "        heat_rate += F_nu * sigma * ( 1.0 - nu_ion / Freq ) * DFreq\n",
      "    return ion_rate, heat_rate"
     ],
     "language": "python",
     "metadata": {},
     "outputs": [],
     "prompt_number": 6
    },
    {
     "cell_type": "code",
     "collapsed": false,
     "input": [
      "J0 = 1.0\n",
      "irate = 0\n",
      "hrate = 0\n",
      "print 'HI::'\n",
      "a,b = calculate_heat_ion_rates(0, J0)\n",
      "print a, b\n",
      "irate += a\n",
      "hrate += b\n",
      "print 'HeI::'\n",
      "a,b = calculate_heat_ion_rates(1, J0)\n",
      "print a, b\n",
      "irate += a\n",
      "hrate += b\n",
      "print 'HeII::'\n",
      "a,b = calculate_heat_ion_rates(2, J0)\n",
      "print a, b\n",
      "irate += a\n",
      "hrate += b"
     ],
     "language": "python",
     "metadata": {},
     "outputs": [
      {
       "output_type": "stream",
       "stream": "stdout",
       "text": [
        "HI::\n",
        "4502.57223194 8.98168583722e-06\n",
        "HeI::\n",
        "40500.3596057 8.02502982536e-05\n",
        "HeII::\n",
        "108813.560896 0.000211211690756\n"
       ]
      }
     ],
     "prompt_number": 7
    },
    {
     "cell_type": "code",
     "collapsed": false,
     "input": [],
     "language": "python",
     "metadata": {},
     "outputs": []
    }
   ],
   "metadata": {}
  }
 ]
}