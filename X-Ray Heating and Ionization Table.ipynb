{
 "cells": [
  {
   "cell_type": "code",
   "execution_count": null,
   "metadata": {
    "collapsed": false
   },
   "outputs": [],
   "source": [
    "%matplotlib inline\n",
    "import os\n",
    "import numpy as np\n",
    "import pandas as pd\n",
    "import seaborn as sns\n",
    "from scipy import integrate\n",
    "import matplotlib as mpl\n",
    "from matplotlib import pyplot as plt\n",
    "import pyGadget"
   ]
  },
  {
   "cell_type": "code",
   "execution_count": null,
   "metadata": {
    "collapsed": false
   },
   "outputs": [],
   "source": [
    "sns.set_context('poster')\n",
    "mpl.rc('figure', figsize=(8,6))\n",
    "mpl.rc('font', size=40.)\n",
    "mpl.rc('font', family='serif')\n",
    "mpl.rc('text', usetex=True)"
   ]
  },
  {
   "cell_type": "markdown",
   "metadata": {},
   "source": [
    "#Calculate $N_{\\rm \\small effective}$ from $N_{\\rm \\small pole}$ and $N_{\\rm \\small equator}$.\n",
    "\n",
    "###$N_{\\rm \\small effective} = N_{\\rm \\small pole} \\frac{2 \\Omega_{\\rm \\small pole}}{4\\pi} + N_{\\rm \\small equator} \\frac{4\\pi - 2 \\Omega_{\\rm \\small pole}}{4\\pi}$\n",
    "\n",
    "###$\\Omega_{\\rm \\small pole} = \\int_0^{2\\pi}{\\rm d}\\phi \\int_0^{\\pi/4}{\\rm sin}\\theta \\,{\\rm d}\\theta  = 2\\pi \\left( 1 - \\frac{1}{\\sqrt{2}} \\right) \\approx 2\\pi \\times 0.29289 = 1.840282$"
   ]
  },
  {
   "cell_type": "markdown",
   "metadata": {},
   "source": [
    "#From our [fit](Local Optical Depth Prescription.ipynb),\n",
    "##$N_{\\rm \\small pole} = 10^{0.532301 {\\rm log_{10}}(n) + 19.636552}$ and $N_{\\rm \\small equator} = 10^{0.626204 {\\rm log_{10}}(n) + 19.573490}$"
   ]
  },
  {
   "cell_type": "code",
   "execution_count": null,
   "metadata": {
    "collapsed": false
   },
   "outputs": [],
   "source": [
    "def N_p(n):\n",
    "    exponent = 0.532301 * np.log10(n) + 19.636552\n",
    "    return 10**exponent\n",
    "\n",
    "def N_eq(n):\n",
    "    exponent = 0.626204 * np.log10(n) + 19.573490\n",
    "    return 10**exponent"
   ]
  },
  {
   "cell_type": "code",
   "execution_count": null,
   "metadata": {
    "collapsed": false
   },
   "outputs": [],
   "source": [
    "def N_eff(n):\n",
    "    Omega_pole = 1.840282\n",
    "    fourpi = 4 * np.pi\n",
    "    a = 2 * Omega_pole / fourpi\n",
    "    b = (fourpi - 2*Omega_pole)/fourpi\n",
    "    x = N_p(n)\n",
    "    y = N_eq(n)\n",
    "    return a*x + b*y\n",
    "N_eff(1e-2)"
   ]
  },
  {
   "cell_type": "markdown",
   "metadata": {},
   "source": [
    "This algorithm is copied almost verbatim from what I've implemented in GADGET; it calculates the X-Ray heating and ionization for each species we're tracking. **Note: Technically, these are the rates/J$_0$.  J$_0$ depends on redshift, so that has to be included at runtime.**"
   ]
  },
  {
   "cell_type": "code",
   "execution_count": null,
   "metadata": {
    "collapsed": false
   },
   "outputs": [],
   "source": [
    "def calculate_heat_ion_rates(rad_type, n):\n",
    "    h_nu = 6.6262e-27\n",
    "    h_eV = 4.13567e-15\n",
    "    \n",
    "    E_0 = 1e3\n",
    "    E_min = 1e3\n",
    "    E_max = 1e4\n",
    "\n",
    "    i = 0\n",
    "    ion_rate = 0.\n",
    "    heat_rate = 0.\n",
    "    N_i_steps = 1000\n",
    "\n",
    "    if (rad_type == 'H'):\n",
    "        Z = 1.\n",
    "        nu_ion = 3.3e15\n",
    "    elif rad_type == 'He':\n",
    "        Z = 0.89\n",
    "        nu_ion = 5.95e15\n",
    "    elif rad_type == 'HeII':\n",
    "        Z = 2.0\n",
    "        nu_ion = 1.32e16\n",
    "    else:\n",
    "        raise KeyError\n",
    "\n",
    "    nu_0 = E_0 / h_eV\n",
    "    nu_min = E_min / h_eV\n",
    "    nu_max = E_max / h_eV\n",
    "    logvmin = np.log10(nu_min)\n",
    "    logvmax = np.log10(nu_max)\n",
    "    for i in range(N_i_steps):\n",
    "        Freq = (logvmax - logvmin) / (N_i_steps) * (i + 0.5) + logvmin\n",
    "        Freq_start = (logvmax - logvmin) / (N_i_steps) * (i) + logvmin\n",
    "        Freq_end = (logvmax - logvmin) / (N_i_steps) * (i + 1.0) + logvmin\n",
    "        Freq = np.power(10, Freq)\n",
    "        Freq_start = np.power(10, Freq_start)\n",
    "        Freq_end = np.power(10, Freq_end)\n",
    "        DFreq = Freq_end - Freq_start\n",
    "        \n",
    "        F_nu = 4 * np.pi * np.power( Freq/nu_0, -1.5)\n",
    "        epsilon = np.sqrt(Freq / nu_ion - 1.0)\n",
    "        sigma = 6.3e-18 / np.power(Z,2.0) * np.power(nu_ion/Freq,4.0) \\\n",
    "            * np.exp(4.0 - (4.0*np.arctan(epsilon) / epsilon)) \\\n",
    "            / (1.0-np.exp(-2.0*np.pi / epsilon))\n",
    "        \n",
    "        ion_rate += F_nu * sigma * np.exp(-sigma * N_eff(n)) / (h_nu * Freq) * DFreq\n",
    "        heat_rate += F_nu * sigma * np.exp(-sigma * N_eff(n)) * ( 1.0 - nu_ion / Freq ) * DFreq\n",
    "    return ion_rate, heat_rate"
   ]
  },
  {
   "cell_type": "code",
   "execution_count": null,
   "metadata": {
    "collapsed": false
   },
   "outputs": [],
   "source": [
    "n = 1e-50\n",
    "print 'HI::'\n",
    "print calculate_heat_ion_rates('H', n)\n",
    "print 'HeI::'\n",
    "print calculate_heat_ion_rates('He', n)\n",
    "print 'HeII::'\n",
    "print calculate_heat_ion_rates('HeII', n)"
   ]
  },
  {
   "cell_type": "markdown",
   "metadata": {},
   "source": [
    "$$\\sigma^{i}(\\nu) = 6.30\\times10^{-18} {\\rm cm}^2 \\times \\frac{1}{Z_i^2} \\left(\\frac{\\nu_{\\rm \\small ion}}{\\nu} \\right)^4 \n",
    "\\frac{{\\rm e}^{4-(4 {\\rm tan}^{-1} \\epsilon)/\\epsilon}}{1-{\\rm e}^{-2\\pi / \\epsilon}}; \\quad\n",
    "\\epsilon(\\nu, \\nu_{\\rm \\small ion}) = \\sqrt{\\frac{\\nu}{\\nu_{\\rm \\small ion}-1}} $$"
   ]
  },
  {
   "cell_type": "code",
   "execution_count": null,
   "metadata": {
    "collapsed": false
   },
   "outputs": [],
   "source": [
    "def sigma(freq, species):\n",
    "    def epsilon(nu, nu_ion):\n",
    "        return np.sqrt(nu / nu_ion - 1.0)\n",
    "    \n",
    "    if (species == 'H'):\n",
    "        Z = 1.\n",
    "        nu_ion = 3.3e15\n",
    "    elif (species == 'He'):\n",
    "        Z = 0.89\n",
    "        nu_ion = 5.95e15\n",
    "    elif (species == 'HeII'):\n",
    "        Z = 2.0\n",
    "        nu_ion = 1.32e16\n",
    "    else:\n",
    "        raise KeyError\n",
    "\n",
    "    ep = epsilon(freq, nu_ion)\n",
    "    x =  np.exp(4.0 - (4.0*np.arctan(ep) / ep)) / (1.0-np.exp(-2.0*np.pi / ep))\n",
    "    return x * 6.3e-18 / np.power(Z,2.0) * np.power(nu_ion/freq,4.0) "
   ]
  },
  {
   "cell_type": "markdown",
   "metadata": {},
   "source": [
    "$$F_{\\rm \\small XR}(z,\\nu) = 4\\pi \\times J_{\\rm \\small XR}(z,\\nu) = 4\\pi \\times J_0(z) \\left(\\frac{\\nu}{\\nu_0}\\right)^{-1.5}$$"
   ]
  },
  {
   "cell_type": "code",
   "execution_count": null,
   "metadata": {
    "collapsed": false
   },
   "outputs": [],
   "source": [
    "def normed_flux(J0, nu, nu_0, alpha):\n",
    "    return 4 * np.pi * J0 * np.power(nu/nu_0, alpha)"
   ]
  },
  {
   "cell_type": "markdown",
   "metadata": {},
   "source": [
    "$$\\frac{F_{\\rm \\small XR}(z,\\nu)}{J_0(z)} = 4\\pi \\left(\\frac{\\nu}{\\nu_0}\\right)^{-1.5}$$"
   ]
  },
  {
   "cell_type": "code",
   "execution_count": null,
   "metadata": {
    "collapsed": false
   },
   "outputs": [],
   "source": [
    "def unnormed_flux(nu, nu_0, alpha):\n",
    "    return 4 * np.pi * np.power(nu/nu_0, alpha)"
   ]
  },
  {
   "cell_type": "markdown",
   "metadata": {},
   "source": [
    "$$ {\\rm k}^i_{\\rm \\small ion, p}(z, n) = \\int_{1 {\\rm keV}}^{10 {\\rm keV}} \\frac{F_{\\rm \\small XR}(z,\\nu) \\sigma^{i}_{\\nu}}{h\\nu} {\\rm e}^{- \\sigma^{i}_{\\nu} N_{\\rm \\small eff}(n)} d\\nu; \\quad \n",
    "\\Gamma_{\\rm \\small XR} = n \\int_{1 {\\rm keV}}^{10 {\\rm keV}} F_{\\rm \\small XR}(z,\\nu) \\sigma^i_{\\nu}\n",
    "\\left(1 - \\frac{\\nu_{\\rm ion}}{\\nu} \\right) {\\rm e}^{- \\sigma^{i}_{\\nu} N_{\\rm \\small eff}(n)} d\\nu$$"
   ]
  },
  {
   "cell_type": "code",
   "execution_count": null,
   "metadata": {
    "collapsed": false
   },
   "outputs": [],
   "source": [
    "def k_integrand(frequency, species, nu_0, alpha, n, attenuation=True, tau=None, tau_sig=None):\n",
    "    h_nu = 6.6262e-27\n",
    "    f_nu = unnormed_flux(frequency, nu_0, alpha)\n",
    "    sigma_nu = sigma(frequency, species)\n",
    "    if attenuation:\n",
    "        Omega_pole = 1.840282\n",
    "        fourpi = 4 * np.pi\n",
    "        a = 2 * Omega_pole / fourpi\n",
    "        b = (fourpi - 2*Omega_pole)/fourpi\n",
    "        if tau is None:\n",
    "            if tau_sig is None:\n",
    "#                shielding = np.exp(-sigma_nu * N_eff(n))\n",
    "                shielding = a*np.exp(-sigma_nu * N_p(n)) + b*np.exp(-sigma_nu * N_eq(n))\n",
    "            else:\n",
    "#                shielding = np.exp(-tau_sig * N_eff(n))\n",
    "                shielding = a*np.exp(-tau_sig * N_p(n)) + b*np.exp(-tau_sig * N_eq(n))\n",
    "        else:\n",
    "            shielding = np.exp(-tau)\n",
    "        return f_nu * sigma_nu * shielding / (h_nu * frequency)\n",
    "    else:\n",
    "        return f_nu * sigma_nu / (h_nu * frequency)\n",
    "\n",
    "def h_integrand(frequency, species, nu_0, alpha, n, attenuation=True, tau=None, tau_sig=None):\n",
    "    h_nu = 6.6262e-27\n",
    "    if (species == 'H'):\n",
    "        nu_ion = 3.3e15\n",
    "    elif (species == 'He'):\n",
    "        nu_ion = 5.95e15\n",
    "    elif (species == 'HeII'):\n",
    "        nu_ion = 1.32e16\n",
    "    else:\n",
    "        raise KeyError\n",
    "\n",
    "    f_nu = unnormed_flux(frequency, nu_0, alpha)\n",
    "    sigma_nu = sigma(frequency, species)\n",
    "    if attenuation:\n",
    "        Omega_pole = 1.840282\n",
    "        fourpi = 4 * np.pi\n",
    "        a = 2 * Omega_pole / fourpi\n",
    "        b = (fourpi - 2*Omega_pole)/fourpi\n",
    "        if tau is None:\n",
    "            if tau_sig is None:\n",
    "#                shielding = np.exp(-sigma_nu * N_eff(n))\n",
    "                shielding = a*np.exp(-sigma_nu * N_p(n)) + b*np.exp(-sigma_nu * N_eq(n))\n",
    "            else:\n",
    "#                shielding = np.exp(-tau_sig * N_eff(n))\n",
    "                shielding = a*np.exp(-tau_sig * N_p(n)) + b*np.exp(-tau_sig * N_eq(n))\n",
    "        else:\n",
    "            shielding = np.exp(-tau)\n",
    "        return f_nu * sigma_nu * shielding * (1.0 - nu_ion / frequency)\n",
    "    else:\n",
    "        return f_nu * sigma_nu * (1.0 - nu_ion / frequency)"
   ]
  },
  {
   "cell_type": "code",
   "execution_count": null,
   "metadata": {
    "collapsed": false
   },
   "outputs": [],
   "source": [
    "h_eV = 4.13567e-15\n",
    "E_0 = 1e3\n",
    "E_min = 1e3\n",
    "E_max = 1e4"
   ]
  },
  {
   "cell_type": "code",
   "execution_count": null,
   "metadata": {
    "collapsed": false
   },
   "outputs": [],
   "source": [
    "integrate.quad(k_integrand, E_min/h_eV, E_max/h_eV, args=('H', E_0/h_eV, -1.5, 1e-50))"
   ]
  },
  {
   "cell_type": "code",
   "execution_count": null,
   "metadata": {
    "collapsed": false
   },
   "outputs": [],
   "source": [
    "e_xr = np.logspace(3, 4, 100)\n",
    "plt.loglog(e_xr, sigma(e_xr/h_eV, 'H'))\n",
    "plt.loglog(e_xr, sigma(e_xr/h_eV, 'He'))\n",
    "plt.loglog(e_xr, sigma(e_xr/h_eV, 'HeII'))"
   ]
  },
  {
   "cell_type": "code",
   "execution_count": null,
   "metadata": {
    "collapsed": false
   },
   "outputs": [],
   "source": [
    "@np.vectorize\n",
    "def k_rates(n, species, attenuation=True, tau=None, tau_sig=None):\n",
    "    h_eV = 4.13567e-15\n",
    "    E_0 = 1e3\n",
    "    E_min = 1e3\n",
    "    E_max = 1e4\n",
    "    alpha = -1.5\n",
    "    ans, err = integrate.quad(k_integrand, E_min/h_eV, E_max/h_eV, args=(species, E_0/h_eV, alpha, n, attenuation, tau, tau_sig))\n",
    "    return ans\n",
    "\n",
    "@np.vectorize\n",
    "def h_rates(n, species, attenuation=True, tau=None, tau_sig=None):\n",
    "    h_eV = 4.13567e-15\n",
    "    E_0 = 1e3\n",
    "    E_min = 1e3\n",
    "    E_max = 1e4\n",
    "    alpha = -1.5\n",
    "    ans, err = integrate.quad(h_integrand, E_min/h_eV, E_max/h_eV, args=(species, E_0/h_eV, alpha, n, attenuation, tau, tau_sig))\n",
    "    return ans"
   ]
  },
  {
   "cell_type": "code",
   "execution_count": null,
   "metadata": {
    "collapsed": false
   },
   "outputs": [],
   "source": [
    "k_rates(1e-50, 'H')"
   ]
  },
  {
   "cell_type": "code",
   "execution_count": null,
   "metadata": {
    "collapsed": false
   },
   "outputs": [],
   "source": [
    "(12 - -4)*5+1"
   ]
  },
  {
   "cell_type": "code",
   "execution_count": null,
   "metadata": {
    "collapsed": false
   },
   "outputs": [],
   "source": [
    "attenuation = True\n",
    "n = np.logspace(-4,12.2,82)\n",
    "nhe = .1*n\n",
    "nhep = nhe/1e3\n",
    "kh_rates = pd.DataFrame(index=np.linspace(-4,12.2,82))\n",
    "kh_rates['kH'] = k_rates(n, 'H', attenuation)\n",
    "kh_rates['kHe'] = k_rates(nhe, 'He', attenuation)\n",
    "kh_rates['kHeII'] = k_rates(nhe, 'HeII', attenuation)\n",
    "kh_rates['hH'] = h_rates(n, 'H', attenuation)\n",
    "kh_rates['hHe'] = h_rates(nhe, 'He', attenuation)\n",
    "kh_rates['hHeII'] = h_rates(nhep, 'HeII', attenuation)\n",
    "kh_rates['nhH'] = h_rates(n, 'H', attenuation) * n\n",
    "kh_rates['nhHe'] = h_rates(nhe, 'He', attenuation) * nhe\n",
    "kh_rates['nhHeII'] = h_rates(nhep, 'HeII', attenuation) * nhep"
   ]
  },
  {
   "cell_type": "code",
   "execution_count": null,
   "metadata": {
    "collapsed": false
   },
   "outputs": [],
   "source": [
    "attenuation = False\n",
    "n = np.logspace(-4,12.2,82)\n",
    "nhe = .1*n\n",
    "nhep = nhe/1e3\n",
    "khr = pd.DataFrame(index=np.linspace(-4,12.2,82))\n",
    "khr['kH'] = k_rates(n, 'H', attenuation)\n",
    "khr['kHe'] = k_rates(nhe, 'He', attenuation)\n",
    "khr['kHeII'] = k_rates(nhep, 'HeII', attenuation)\n",
    "khr['hH'] = h_rates(n, 'H', attenuation)\n",
    "khr['hHe'] = h_rates(nhe, 'He', attenuation)\n",
    "khr['hHeII'] = h_rates(nhep, 'HeII', attenuation)\n",
    "khr['nhH'] = h_rates(n, 'H', attenuation) * n\n",
    "khr['nhHe'] = h_rates(nhe, 'He', attenuation) * nhe\n",
    "khr['nhHeII'] = h_rates(nhe, 'HeII', attenuation) * nhep"
   ]
  },
  {
   "cell_type": "code",
   "execution_count": null,
   "metadata": {
    "collapsed": false
   },
   "outputs": [],
   "source": [
    "kh_rates.head(3)"
   ]
  },
  {
   "cell_type": "code",
   "execution_count": null,
   "metadata": {
    "collapsed": false
   },
   "outputs": [],
   "source": [
    "kh_rates.tail(3)"
   ]
  },
  {
   "cell_type": "code",
   "execution_count": null,
   "metadata": {
    "collapsed": false
   },
   "outputs": [],
   "source": [
    "kh_rates[['kH', 'kHe', 'kHeII']].plot(logy=True, ylim=(1e-3, 2e5), xlim=(0,12), style=['-', '--', '-.'])\n",
    "plt.plot(khr.index, khr.kH, '-', color='grey')\n",
    "plt.plot(khr.index, khr.kHe, '--', color='grey')\n",
    "plt.plot(khr.index, khr.kHeII, '-.', color='grey')\n",
    "plt.xlabel('n [cm$^{-3}$]')\n",
    "plt.ylabel('Ionization Rate [s$^{-1}$]')\n",
    "plt.title('J$_0 = 1$')\n",
    "plt.savefig('figures/khrates/ionrate2.png', bbox_inches='tight')"
   ]
  },
  {
   "cell_type": "code",
   "execution_count": null,
   "metadata": {
    "collapsed": false
   },
   "outputs": [],
   "source": [
    "kh_rates[['hH', 'hHe', 'hHeII']].plot(logy=True, ylim=(1e-12, 1e-3), xlim=(0,12), style=['-', '--', '-.'])\n",
    "plt.plot(khr.index, khr.hH, '-', color='grey')\n",
    "plt.plot(khr.index, khr.hHe, '--', color='grey')\n",
    "plt.plot(khr.index, khr.hHeII, '-.', color='grey')\n",
    "plt.xlabel('n [cm$^{-3}$]')\n",
    "plt.ylabel('Heating Rate / n [erg s$^{-1}$]')\n",
    "plt.title('J$_0 = 1$')\n",
    "plt.savefig('figures/khrates/hrate2.png', bbox_inches='tight')"
   ]
  },
  {
   "cell_type": "code",
   "execution_count": null,
   "metadata": {
    "collapsed": false
   },
   "outputs": [],
   "source": [
    "kh_rates[['nhH', 'nhHe', 'nhHeII']].plot(logy=True, ylim=(1e-2, 1e3), xlim=(0,12), style=['-', '--', '-.'])\n",
    "plt.plot(khr.index, khr.nhH, 'grey')\n",
    "plt.plot(khr.index, khr.nhHe, '--', color='grey')\n",
    "plt.plot(khr.index, khr.nhHeII, '-.', color='grey')\n",
    "plt.xlabel('n [cm$^{-3}$]')\n",
    "plt.ylabel('Heating Rate [erg s$^{-1}$ cm$^{-3}$]')\n",
    "plt.title('J$_0 = 1$')\n",
    "plt.savefig('figures/khrates/nhrate2.png', bbox_inches='tight')"
   ]
  },
  {
   "cell_type": "markdown",
   "metadata": {},
   "source": [
    "###### As currently designed, the optical depth for each individual species is calculated using the total column density.  Thinking I probably need to use the column density specific to each species."
   ]
  },
  {
   "cell_type": "code",
   "execution_count": null,
   "metadata": {
    "collapsed": false
   },
   "outputs": [],
   "source": [
    "kh_data = np.column_stack((kh_rates.index.values, kh_rates[['kH', 'kHe', 'kHeII', 'hH', 'hHe', 'hHeII']].values))"
   ]
  },
  {
   "cell_type": "code",
   "execution_count": null,
   "metadata": {
    "collapsed": false
   },
   "outputs": [],
   "source": [
    "kh_data.shape"
   ]
  },
  {
   "cell_type": "code",
   "execution_count": null,
   "metadata": {
    "collapsed": false
   },
   "outputs": [],
   "source": [
    "np.savetxt('kh_rates.dat', kh_data, fmt='%.8e %.8e %.8e %.8e %.8e %.8e %.8e')"
   ]
  },
  {
   "cell_type": "code",
   "execution_count": null,
   "metadata": {
    "collapsed": false
   },
   "outputs": [],
   "source": [
    "!head kh_rates.dat"
   ]
  },
  {
   "cell_type": "code",
   "execution_count": null,
   "metadata": {
    "collapsed": false
   },
   "outputs": [],
   "source": [
    "!tail kh_rates.dat"
   ]
  },
  {
   "cell_type": "markdown",
   "metadata": {},
   "source": [
    "## Testing/Verification"
   ]
  },
  {
   "cell_type": "code",
   "execution_count": null,
   "metadata": {
    "collapsed": false
   },
   "outputs": [],
   "source": [
    "n = np.logspace(-6,12.2,82)\n",
    "ktest = pd.DataFrame(index=np.linspace(-6,12.2,82))\n",
    "ktest['full attenuation'] = k_rates(n, 'H', True)\n",
    "ktest['1 keV'] = k_rates(n, 'H', True, tau_sig=1.14e-23)\n",
    "ktest['10 keV'] = k_rates(n, 'H', True, tau_sig=4.54e-27)\n",
    "ktest['1 keV, n=$10^{-4}$ cm$^{-3}$'] = k_rates(n, 'H', True, tau=-1.14e-23*N_eff(1e-4))\n",
    "ktest['no attenuation'] = k_rates(n, 'H', False)\n",
    "ktest.plot(logy=True, ylim=(1e-6, 1e4), xlim=(0,12), style=['-', '--', '-.',':'])\n",
    "plt.xlabel('Log$_{10}$ n [cm$^{-3}$]')\n",
    "plt.ylabel('Ionization Rate [s$^{-1}$]')\n",
    "plt.savefig('figures/khrates/ktest.png', bbox_inches='tight')"
   ]
  },
  {
   "cell_type": "code",
   "execution_count": null,
   "metadata": {
    "collapsed": false
   },
   "outputs": [],
   "source": [
    "n = np.logspace(-6,12.2,82)\n",
    "htest = pd.DataFrame(index=np.linspace(-6,12.2,82))\n",
    "htest['full attenuation'] = h_rates(n, 'H', True)\n",
    "htest['1 keV'] = h_rates(n, 'H', True, tau_sig=1.14e-23)\n",
    "htest['10 keV'] = h_rates(n, 'H', True, tau_sig=4.54e-27)\n",
    "htest['1 keV, n=$10^{-4}$ cm$^{-3}$'] = h_rates(n, 'H', True, tau=-1.14e-23*N_eff(1e-4))\n",
    "htest['no attenuation'] = h_rates(n, 'H', False)\n",
    "htest.plot(logy=True, ylim=(1e-12, 2e-5), xlim=(0,12), style=['-', '--', '-.', ':'])\n",
    "plt.xlabel('Log$_{10}$ n [cm$^{-3}$]')\n",
    "plt.ylabel('Heating Rate / n [erg s$^{-1}$]')\n",
    "plt.savefig('figures/khrates/htest.png', bbox_inches='tight')"
   ]
  },
  {
   "cell_type": "markdown",
   "metadata": {},
   "source": [
    "# Ionization vs Recombination:"
   ]
  },
  {
   "cell_type": "code",
   "execution_count": null,
   "metadata": {
    "collapsed": false
   },
   "outputs": [],
   "source": [
    "bkg = {'vanilla':0, 'xr_tau_J0': 1e0, 'xr_tau_J1': 1e1, 'xr_tau_J2': 1e2, 'xr_tau_J3': 1e3}"
   ]
  },
  {
   "cell_type": "code",
   "execution_count": null,
   "metadata": {
    "collapsed": false
   },
   "outputs": [],
   "source": [
    "def find_closest(A, target):\n",
    "    #A must be sorted\n",
    "    idx = A.searchsorted(target)\n",
    "    idx = np.clip(idx, 1, len(A)-1)\n",
    "    left = A[idx-1]\n",
    "    right = A[idx]\n",
    "    idx -= target - left < right - target\n",
    "    return idx"
   ]
  },
  {
   "cell_type": "code",
   "execution_count": null,
   "metadata": {
    "collapsed": false
   },
   "outputs": [],
   "source": [
    "jxr = pd.read_csv('jxr.dat', delim_whitespace=True, names=['z', 'J0'])\n",
    "jxr.sort('z', inplace=True)"
   ]
  },
  {
   "cell_type": "code",
   "execution_count": null,
   "metadata": {
    "collapsed": false
   },
   "outputs": [],
   "source": [
    "simV = pyGadget.sim.Simulation('stampede/vanilla',length='pc', refine=False)\n",
    "sim0 = pyGadget.sim.Simulation('stampede/xr_tau_J0',length='pc', refine=False)\n",
    "sim1 = pyGadget.sim.Simulation('stampede/xr_tau_J1',length='pc', refine=False)\n",
    "sim2 = pyGadget.sim.Simulation('stampede/xr_tau_J2',length='pc', refine=False)\n",
    "sim3 = pyGadget.sim.Simulation('stampede/xr_tau_J3',length='pc', refine=False)\n",
    "sims = [simV, sim0, sim1, sim2, sim3]\n",
    "simlist = ['vanilla', 'xr_tau_J0', 'xr_tau_J1', 'xr_tau_J2', 'xr_tau_J3']\n",
    "nsnap = [355, 306, 327, 271, 235]\n",
    "snaps= {}\n",
    "for name, n, sim in zip(simlist, nsnap, sims):\n",
    "    s = sim.load_snapshot(n)\n",
    "    snaps[name] = s\n",
    "simname = {'vanilla':r'J = 0',\n",
    "        'xr_tau_J0': r'J = J$_{0}$', \n",
    "        'xr_tau_J1': r'J = 10 J$_{0}$', \n",
    "        'xr_tau_J2': r'J = 10$^2$ J$_{0}$',\n",
    "        'xr_tau_J3': r'J = 10$^3$ J$_{0}$'}"
   ]
  },
  {
   "cell_type": "code",
   "execution_count": null,
   "metadata": {
    "collapsed": false
   },
   "outputs": [],
   "source": [
    "hydrogen = kh_rates[['kH', 'hH', 'hHe']].reset_index()\n",
    "hydrogen.columns = ['log_n', 'ion_tau', 'gammaH', 'gammaHe']"
   ]
  },
  {
   "cell_type": "code",
   "execution_count": null,
   "metadata": {
    "collapsed": true
   },
   "outputs": [],
   "source": [
    "abHe = .06/.76\n",
    "store = pd.HDFStore(os.getenv(\"HOME\")+'/data/simdata/xrays/binned_averages.hdf5')\n",
    "combined = {}\n",
    "for sim in simname.keys():\n",
    "    df = store[sim]\n",
    "    df = hydrogen.join(df.reset_index(), how='inner')\n",
    "    combined[sim] = df[np.isfinite(df.ID)]\n",
    "store.close()"
   ]
  },
  {
   "cell_type": "code",
   "execution_count": null,
   "metadata": {
    "collapsed": false
   },
   "outputs": [],
   "source": [
    "for sim in simname.keys():\n",
    "    snap = snaps[sim]\n",
    "    z, J0 = jxr.iloc[find_closest(jxr.z.values, snap.header.Redshift)]\n",
    "    print sim, snap.header.Redshift, J0\n",
    "    df = combined[sim]\n",
    "    df['k_rec'] = df.ndensity * df.efrac * 4e-11 * df.temp**-.5\n",
    "    df['abHI'] = 1.0 - 2*df.abH2 - df.abHp - df.abHD\n",
    "    df['abHeI'] = abHe - df.abHep - df.abHepp\n",
    "    df['fH_ion'] = 0.3908 * (1.0 - df.abHp**(0.4092))**(1.7592)\n",
    "    df['fH_heat'] = 0.9971 * (1.0 - (1.0 - df.abHp**(0.2263))**(1.3163))\n",
    "    df['fHe_ion'] = 0.0554 * (1.0 - df.abHp**(0.4614))**(1.6660)\n",
    "    df['ion_sec'] = (df.abHI*df.gammaH + df.abHeI*df.gammaHe) * df.fH_ion / (13.6 * 1.60217646e-12)\n",
    "    df['ion_tot'] = J0*bkg[sim] * (df.ion_tau + df.ion_sec)\n",
    "    df['ion_free'] = k_rates(df.logn, 'H', tau=False)"
   ]
  },
  {
   "cell_type": "code",
   "execution_count": null,
   "metadata": {
    "collapsed": false
   },
   "outputs": [],
   "source": [
    "df = combined['xr_tau_J3']"
   ]
  },
  {
   "cell_type": "code",
   "execution_count": null,
   "metadata": {
    "collapsed": false
   },
   "outputs": [],
   "source": [
    "with sns.color_palette(n_colors=2):\n",
    "    f,ax = plt.subplots()\n",
    "#plt.plot(df.logn, df.abHp)\n",
    "#plt.plot(df.logn, df.fH_ion)\n",
    "#plt.plot(df.logn, df.fHe_ion)\n",
    "#plt.plot(df.logn, df.fH_heat, ls='--')\n",
    "#plt.plot(df.logn,  1. - (df.fH_ion/df.fHe_ion), ls=':')\n",
    "#plt.plot(df.logn,  df.fH_ion/df.fHe_ion)\n",
    "#plt.plot(df.logn, df.gammaH)\n",
    "#plt.semilogy(df.logn, df.gammaH*df.fH_heat)\n",
    "#plt.plot(df.logn, df.gammaHe, ls='--')\n",
    "#plt.semilogy(df.logn, df.gammaHe*df.fH_heat, ls='--')\n",
    "plt.plot(df.logn, (df.gammaH + (df.gammaH * df.fH_heat))/df.gammaH)\n",
    "plt.plot(df.logn, (df.gammaHe + (df.gammaHe * df.fH_heat))/df.gammaHe)\n",
    "#ax.set_ylim(1e-12, 5e-5)\n",
    "#ax.set_xlim(-3.23, 3)"
   ]
  },
  {
   "cell_type": "code",
   "execution_count": null,
   "metadata": {
    "collapsed": false
   },
   "outputs": [],
   "source": [
    "with sns.axes_style(\"white\"):\n",
    "    with sns.color_palette(n_colors=4):\n",
    "        f,ax = plt.subplots()\n",
    "df = combined['vanilla']\n",
    "ax.semilogy(df.logn, df.k_rec, color='.25', ls='-', label=r' $k_{\\rm \\small rec}$')\n",
    "#for sim in simlist[1:]:\n",
    "#    snap = snaps[sim]\n",
    "#    z, J0 = jxr.iloc[find_closest(jxr.z.values, snap.header.Redshift)]\n",
    "#    df = combined[sim]\n",
    "#    ax.semilogy(df.logn, J0*bkg[sim] * df.ion_tau, '--', alpha=.4)\n",
    "for sim in simlist[1:]:\n",
    "    df = combined[sim]\n",
    "    ax.semilogy(df.logn, df.ion_tot/df.ion_tau*df.ion_free, ls='--', lw=2)\n",
    "\n",
    "#for sim in simlist[1:]:\n",
    "#    df = combined[sim]\n",
    "#    ax.plot(df.logn, df.k_rec, ls='-', lw=4)\n",
    "for sim in simlist[1:]:\n",
    "    snap = snaps[sim]\n",
    "    z, J0 = jxr.iloc[find_closest(jxr.z.values, snap.header.Redshift)]\n",
    "    df = combined[sim]\n",
    "    ax.semilogy(df.logn, df.ion_tot, ls='-', label=simname[sim])\n",
    "\n",
    "\n",
    "\n",
    "ax.legend(loc=0)\n",
    "ax.set_xlim(-3.1, 8)\n",
    "ax.set_ylim(5e-23, 2e-14)\n",
    "ax.set_xlabel('Log n [cm$^{-3}$]')\n",
    "ax.set_ylabel('Ionisation / Recombination Rate [$s^{-1}$]')\n",
    "f.savefig('figures/khrates/k_ion-k_rec2.png', bbox_inches='tight')\n",
    "#f.savefig('figures/khrates/k_ion-k_rec.pdf', bbox_inches='tight')"
   ]
  },
  {
   "cell_type": "code",
   "execution_count": null,
   "metadata": {
    "collapsed": true
   },
   "outputs": [],
   "source": []
  }
 ],
 "metadata": {
  "kernelspec": {
   "display_name": "Python 2",
   "language": "python",
   "name": "python2"
  },
  "language_info": {
   "codemirror_mode": {
    "name": "ipython",
    "version": 2
   },
   "file_extension": ".py",
   "mimetype": "text/x-python",
   "name": "python",
   "nbconvert_exporter": "python",
   "pygments_lexer": "ipython2",
   "version": "2.7.9"
  }
 },
 "nbformat": 4,
 "nbformat_minor": 0
}
