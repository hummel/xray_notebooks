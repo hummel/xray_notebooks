{
 "metadata": {
  "name": ""
 },
 "nbformat": 3,
 "nbformat_minor": 0,
 "worksheets": [
  {
   "cells": [
    {
     "cell_type": "code",
     "collapsed": false,
     "input": [
      "%matplotlib inline\n",
      "import copy\n",
      "import numpy as np\n",
      "import matplotlib as mpl\n",
      "\n",
      "mpl.rc('figure', figsize=(16,9))\n",
      "mpl.rc('font', size=20.)\n",
      "mpl.rc('font', family='serif')\n",
      "mpl.rc('text', usetex=True)\n",
      "mpl.interactive(True)\n",
      "\n",
      "from matplotlib import pyplot as plt\n",
      "from mpl_toolkits.mplot3d.axes3d import Axes3D\n",
      "from scipy.interpolate import griddata\n",
      "import pyGadget\n",
      "\n",
      "view = 'face'"
     ],
     "language": "python",
     "metadata": {},
     "outputs": [],
     "prompt_number": "*"
    },
    {
     "cell_type": "code",
     "collapsed": false,
     "input": [
      "sim = pyGadget.sim.Simulation('stampede/vanilla', track_sinks=True)\n",
      "sim.set_coordinate_system('physical')\n",
      "snap = sim.load_snapshot(615)"
     ],
     "language": "python",
     "metadata": {},
     "outputs": [],
     "prompt_number": "*"
    },
    {
     "cell_type": "code",
     "collapsed": false,
     "input": [
      "length_unit = 'cm'\n",
      "mass_unit = 'solar'\n",
      "velocity_unit = 'cgs'\n",
      "dens_lim = 2e9\n",
      "\n",
      "snap.gas.units.set_velocity(velocity_unit)\n",
      "xyz = snap.gas.get_coords(length_unit)\n",
      "vxyz = snap.gas.get_velocities()\n",
      "snap.update_sink_frame_ofR(xyz, vxyz)\n",
      "\n",
      "sink = snap.sinks[0]\n",
      "sinkpos = (sink.x, sink.y, sink.z)\n",
      "sinkvel = (sink.vx, sink.vy, sink.vz)\n",
      "pos = snap.gas.get_coords(system='spherical', centering='avg', vcenter=sinkvel, view=view)\n",
      "vel = snap.gas.get_velocities(system='spherical')\n",
      "xyz = snap.gas.get_coords()\n",
      "vxyz = snap.gas.get_velocities()\n",
      "dens = snap.gas.get_number_density('cgs')\n",
      "mass = snap.gas.get_masses(mass_unit)\n",
      "\n",
      "arrs = [dens,pos,xyz,vxyz,mass,vel]\n",
      "dens,pos,xyz,vxyz,mass,vel = pyGadget.analyze.data_slice(dens > dens_lim,*arrs)\n",
      "\n"
     ],
     "language": "python",
     "metadata": {},
     "outputs": [],
     "prompt_number": "*"
    },
    {
     "cell_type": "code",
     "collapsed": false,
     "input": [
      "r = pos[:,0]\n",
      "vr = vel[:,0]\n",
      "vphi = vel[:,2]\n",
      "orbital_frequency = vphi/r\n",
      "\n",
      "print 'Data loaded.  Analyzing...'\n",
      "\n",
      "GRAVITY = 6.6726e-8 # dyne * cm**2 / g**2\n",
      "disk_properties = []\n",
      "n = 0\n",
      "old_n = 0\n",
      "old_r = 0\n",
      "density = 0\n",
      "energy = 0\n",
      "rmax = 1.49597871e13\n",
      "while n < r.size:\n",
      "    inR = np.where(r <= rmax)[0]\n",
      "    n = inR.size\n",
      "    if n > old_n + 32:\n",
      "        inShell = np.where((r > old_r) & (r <= rmax))[0]\n",
      "        rau = rmax/1.49597871e13\n",
      "        Mtot = mass[inR].sum()\n",
      "        Mshell = mass[inShell].sum()\n",
      "        Msun = Mtot/1.989e33\n",
      "        print 'R = %.2e AU' %rau,\n",
      "        print 'Mass enclosed: %.2e' %Msun,\n",
      "        #print 'density: %.3e' %density,\n",
      "        #print 'vphi: %.3e' %vr,\n",
      "        #print 'vrot: %.3e' %vrot,\n",
      "        print 'npart: {}'.format(n)\n",
      "    old_n = n\n",
      "    old_r = rmax\n",
      "rmax *= 1.4"
     ],
     "language": "python",
     "metadata": {},
     "outputs": [],
     "prompt_number": "*"
    },
    {
     "cell_type": "code",
     "collapsed": false,
     "input": [
      "r.min(), r.max()"
     ],
     "language": "python",
     "metadata": {},
     "outputs": [],
     "prompt_number": "*"
    },
    {
     "cell_type": "raw",
     "metadata": {},
     "source": [
      "f1 = plt.figure()\n",
      "\n",
      "ax1 = f1.add_subplot(111, projection='3d')\n",
      "ax1.scatter(xyz[:,0], xyz[:,1], xyz[:,2],s=5)\n",
      "halfbox = xyz.max()\n",
      "ax1.auto_scale_xyz([halfbox,-halfbox],[halfbox,-halfbox],[halfbox,-halfbox])"
     ]
    },
    {
     "cell_type": "raw",
     "metadata": {},
     "source": [
      "f2 = plt.figure()\n",
      "ax2 = f2.add_subplot(111)\n",
      "ax2.imshow(im, extent=[x.min(),x.max(),y.min(),y.max()], cmap=plt.cm.RdGy_r, origin='lower')\n",
      "ax2.quiver(x[::10,::10],y[::10,::10],vx[::10,::10],vy[::10,::10])"
     ]
    },
    {
     "cell_type": "code",
     "collapsed": false,
     "input": [
      "snap.gas.cleanup()"
     ],
     "language": "python",
     "metadata": {},
     "outputs": [],
     "prompt_number": "*"
    },
    {
     "cell_type": "code",
     "collapsed": false,
     "input": [
      "#f2.savefig('figures/vorticity_356_500AU_1e10n.png', bbox_inches='tight')"
     ],
     "language": "python",
     "metadata": {},
     "outputs": [],
     "prompt_number": "*"
    },
    {
     "cell_type": "code",
     "collapsed": false,
     "input": [
      "#snap.close()"
     ],
     "language": "python",
     "metadata": {},
     "outputs": [],
     "prompt_number": "*"
    },
    {
     "cell_type": "code",
     "collapsed": false,
     "input": [],
     "language": "python",
     "metadata": {},
     "outputs": []
    }
   ],
   "metadata": {}
  }
 ]
}