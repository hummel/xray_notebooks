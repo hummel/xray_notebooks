{
 "cells": [
  {
   "cell_type": "markdown",
   "metadata": {},
   "source": [
    "# The First Stars: Formation under X-ray Feedback -- Phase Diagrams"
   ]
  },
  {
   "cell_type": "markdown",
   "metadata": {},
   "source": [
    "This notebook generates all simulation results figures for my current paper.  All simulations run on stampede.tacc.utexas.edu"
   ]
  },
  {
   "cell_type": "code",
   "execution_count": 1,
   "metadata": {
    "collapsed": false
   },
   "outputs": [],
   "source": [
    "%matplotlib inline\n",
    "import numpy as np\n",
    "import matplotlib as mpl\n",
    "from matplotlib import pyplot as plt\n",
    "mpl.rc('font', size=20.)\n",
    "mpl.rc('font', family='serif')\n",
    "mpl.rc('text', usetex=True)\n",
    "import pyGadget"
   ]
  },
  {
   "cell_type": "code",
   "execution_count": 2,
   "metadata": {
    "collapsed": false
   },
   "outputs": [
    {
     "name": "stdout",
     "output_type": "stream",
     "text": [
      "No sink specified: Selecting first sink to form...\n",
      "Key set: nform = 1\n",
      "Using sink ID 3103667\n",
      "Found sinkfiles.  Loading sinkdata.\n",
      "Key set: nform = 2\n",
      "Using sink ID 3975878\n",
      "No sink specified: Selecting first sink to form...\n",
      "Key set: nform = 1\n",
      "Using sink ID 3362134\n",
      "Found sinkfiles.  Loading sinkdata.\n",
      "Key set: nform = 2\n",
      "Using sink ID 4394567\n",
      "Key set: nform = 3\n",
      "Using sink ID 4011741\n",
      "No sink specified: Selecting first sink to form...\n",
      "Key set: nform = 1\n",
      "Using sink ID 3768236\n",
      "Found sinkfiles.  Loading sinkdata.\n",
      "Key set: nform = 2\n",
      "Using sink ID 3755849\n",
      "Key set: nform = 3\n",
      "Using sink ID 3754749\n",
      "Key set: nform = 4\n",
      "Using sink ID 3975112\n",
      "Key set: nform = 5\n",
      "Using sink ID 4088092\n",
      "Key set: nform = 6\n",
      "Using sink ID 3719531\n",
      "Key set: nform = 7\n",
      "Using sink ID 4088845\n",
      "Key set: nform = 8\n",
      "Using sink ID 4407511\n",
      "Key set: nform = 9\n",
      "Using sink ID 4015446\n",
      "Key set: nform = 10\n",
      "Using sink ID 4958838\n",
      "No sink specified: Selecting first sink to form...\n",
      "Key set: nform = 1\n",
      "Using sink ID 3962586\n",
      "Found sinkfiles.  Loading sinkdata.\n",
      "Key set: nform = 2\n",
      "Using sink ID 4036631\n",
      "Key set: nform = 3\n",
      "Using sink ID 4062203\n"
     ]
    }
   ],
   "source": [
    "simV = pyGadget.sim.Simulation('stampede/vanilla',length='AU', track_sinks=True)\n",
    "sim1 = pyGadget.sim.Simulation('stampede/XR_sfr_1e-3',length='AU', track_sinks=True)\n",
    "sim2 = pyGadget.sim.Simulation('stampede/XR_sfr_1e-2',length='AU', track_sinks=True)\n",
    "sim3 = pyGadget.sim.Simulation('stampede/XR_sfr_1e-1',length='AU', track_sinks=True)"
   ]
  },
  {
   "cell_type": "code",
   "execution_count": 3,
   "metadata": {
    "collapsed": false
   },
   "outputs": [],
   "source": [
    "#n0, n1, n2, n3, tag = 100, 102, 202, 135, '_z26'\n",
    "#n0, n1, n2, n3, tag = 615, 609, 236, 277, ''\n",
    "#n0, n1, n2, n3, tag = 355, 269, 201, 200, '_t0'\n",
    "#n0, n1, n2, n3, tag = 665, 575, 502, 501, '_t1k'\n",
    "#n0, n1, n2, n3, tag = 974, 880, 802, 800, '_t2k'\n",
    "#n0, n1, n2, n3, tag = 1128, 1032, 951, 950, '_t2500'\n",
    "#n0, n1, n2, n3, tag = 1283, 1184, 1100, 1100, '_t3k'\n",
    "#n0, n1, n2, n3, tag = 1437, 1337, 1251, 1250, '_t3500'\n",
    "#n0, n1, n2, n3, tag = 1592, 1489, 1401, 1400, '_t4k'\n",
    "n0, n1, n2, n3, tag = 1900, 1794, 1701, 1700, '_t5k'"
   ]
  },
  {
   "cell_type": "code",
   "execution_count": 4,
   "metadata": {
    "collapsed": false
   },
   "outputs": [
    {
     "name": "stdout",
     "output_type": "stream",
     "text": [
      "Turning on gas particle refinement.\n",
      "There are 7997231 highest resolution particles.\n",
      "Tracking sinks.\n",
      "2 sinks found.\n",
      "Warning: Not Re-centering particle Velocities!\n",
      "Loading data...\n",
      "Turning on gas particle refinement.\n",
      "There are 7998436 highest resolution particles.\n",
      "Tracking sinks.\n",
      "2 sinks found.\n",
      "Warning: Not Re-centering particle Velocities!\n",
      "Loading data...\n",
      "Turning on gas particle refinement.\n",
      "There are 7995003 highest resolution particles.\n",
      "Tracking sinks.\n",
      "6 sinks found.\n",
      "Warning: Not Re-centering particle Velocities!\n",
      "Loading data...\n",
      "Turning on gas particle refinement.\n",
      "There are 7999275 highest resolution particles.\n",
      "Tracking sinks.\n",
      "3 sinks found.\n",
      "Warning: Not Re-centering particle Velocities!\n",
      "Loading data...\n"
     ]
    }
   ],
   "source": [
    "snapV = simV.load_snapshot(n0, 'ndensity', 'temp', 'h2frac', 'HDfrac', 'electron_frac','coordinates')#,stride=1e3)\n",
    "snap1 = sim1.load_snapshot(n1, 'ndensity', 'temp', 'h2frac', 'HDfrac', 'electron_frac','coordinates')#,stride=1e3)\n",
    "snap2 = sim2.load_snapshot(n2, 'ndensity', 'temp', 'h2frac', 'HDfrac', 'electron_frac','coordinates')#,stride=1e3)\n",
    "snap3 = sim3.load_snapshot(n3, 'ndensity', 'temp', 'h2frac', 'HDfrac', 'electron_frac','coordinates')#,stride=1e3)"
   ]
  },
  {
   "cell_type": "code",
   "execution_count": 5,
   "metadata": {
    "collapsed": false
   },
   "outputs": [
    {
     "name": "stderr",
     "output_type": "stream",
     "text": [
      "/home/r900-4/jhummel/research/pyGadget/pyGadget/coordinates.py:8: RuntimeWarning: invalid value encountered in divide\n",
      "  theta = np.arccos(z/r)\n",
      "/home/r900-4/jhummel/research/pyGadget/pyGadget/coordinates.py:43: RuntimeWarning: invalid value encountered in divide\n",
      "  unit_r = xyz / r\n"
     ]
    },
    {
     "name": "stdout",
     "output_type": "stream",
     "text": [
      "Warning: Not Re-centering particle Velocities!\n",
      "Locating sink...\n",
      "Done\n",
      "Warning: Not Re-centering particle Velocities!\n",
      "Locating sink...\n",
      "Done\n",
      "Warning: Not Re-centering particle Velocities!\n",
      "Locating sink...\n",
      "Done\n",
      "Warning: Not Re-centering particle Velocities!\n",
      "Locating sink...\n",
      "Done\n"
     ]
    }
   ],
   "source": [
    "for snap in [snapV, snap1, snap2, snap3]:\n",
    "    xyz = snap.gas.get_coords()\n",
    "    uvw = snap.gas.get_velocities()\n",
    "    snap.update_sink_frame_ofR(xyz, uvw)\n",
    "    i = 0\n",
    "    print 'Locating sink...'\n",
    "    while snap.sinks[i].pid != snap.sim.sink1.sink_id:\n",
    "        i += 1\n",
    "    print 'Done'\n",
    "    sink = snap.sinks[i]\n",
    "    sinkpos = (sink.x, sink.y, sink.z)\n",
    "    sinkvel = (sink.vx, sink.vy, sink.vz)\n",
    "    pos = snap.gas.get_coords(system='spherical',\n",
    "                              center=sinkpos, vcenter=sinkvel)\n"
   ]
  },
  {
   "cell_type": "code",
   "execution_count": 6,
   "metadata": {
    "collapsed": false
   },
   "outputs": [],
   "source": [
    "r1List = []\n",
    "r2List = []\n",
    "for snap in [snapV, snap1, snap2, snap3]:\n",
    "    inR1 = np.where(snap.gas.spherical_coords[:,0] < 1e3)[0]\n",
    "    inR2 = np.where((snap.gas.spherical_coords[:,0] > 1e3) & (snap.gas.spherical_coords[:,0] < 3.5e3))[0]\n",
    "    r1List.append(inR1)\n",
    "    r2List.append(inR2)"
   ]
  }
 ],
 "metadata": {
  "kernelspec": {
   "display_name": "Python 2",
   "language": "python",
   "name": "python2"
  },
  "language_info": {
   "codemirror_mode": {
    "name": "ipython",
    "version": 2
   },
   "file_extension": ".py",
   "mimetype": "text/x-python",
   "name": "python",
   "nbconvert_exporter": "python",
   "pygments_lexer": "ipython2",
   "version": "2.7.9"
  }
 },
 "nbformat": 4,
 "nbformat_minor": 0
}
