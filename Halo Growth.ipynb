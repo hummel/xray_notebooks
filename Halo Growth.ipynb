{
 "cells": [
  {
   "cell_type": "code",
   "execution_count": null,
   "metadata": {
    "collapsed": false
   },
   "outputs": [],
   "source": [
    "%matplotlib inline\n",
    "import os\n",
    "import numpy as np\n",
    "import pandas as pd\n",
    "import pyGadget\n",
    "import matplotlib as mpl\n",
    "from matplotlib import pyplot as plt"
   ]
  },
  {
   "cell_type": "code",
   "execution_count": null,
   "metadata": {
    "collapsed": false
   },
   "outputs": [],
   "source": [
    "import seaborn as sns\n",
    "sns.set_context('poster')\n",
    "sns.set_style('darkgrid')\n",
    "#sns.despine()\n",
    "mpl.rc('figure', figsize=(8,6))\n",
    "mpl.rc('font', size=40.)\n",
    "mpl.rc('font', family='serif')\n",
    "mpl.rc('text', usetex=True)"
   ]
  },
  {
   "cell_type": "markdown",
   "metadata": {},
   "source": [
    "# Halo Mass Growth History"
   ]
  },
  {
   "cell_type": "code",
   "execution_count": null,
   "metadata": {
    "collapsed": false
   },
   "outputs": [],
   "source": [
    "simname = {'vanilla':r'J = 0',\n",
    "        'xr_tau_J0': r'J = J$_{0}$', \n",
    "        'xr_tau_J1': r'J = 10 J$_{0}$', \n",
    "        'xr_tau_J2': r'J = 10$^2$ J$_{0}$',\n",
    "        'xr_tau_J3': r'J = 10$^3$ J$_{0}$'}\n",
    "simlist = ['vanilla', 'xr_tau_J0', 'xr_tau_J1', 'xr_tau_J2', 'xr_tau_J3', 'XR_sfr_1e-3', 'xr_sfr_J1', 'XR_sfr_1e-1']"
   ]
  },
  {
   "cell_type": "code",
   "execution_count": null,
   "metadata": {
    "collapsed": false
   },
   "outputs": [],
   "source": [
    "store = pd.HDFStore(os.getenv(\"HOME\")+'/data/stampede/mass_history.hdf5')\n",
    "mg = store['vanilla']\n",
    "mg0 = store['xr_tau_J0']\n",
    "mg1 = store['xr_tau_J1']\n",
    "mg2 = store['xr_tau_J2']\n",
    "mg3 = store['xr_tau_J3']\n",
    "mg4 = store['XR_sfr_1e-3']\n",
    "mg5 = store['xr_sfr_J1']\n",
    "mg6 = store['XR_sfr_1e-1']\n",
    "store.close()"
   ]
  },
  {
   "cell_type": "code",
   "execution_count": null,
   "metadata": {
    "collapsed": false
   },
   "outputs": [],
   "source": [
    "store = pd.HDFStore(os.getenv(\"HOME\")+'/data/stampede/sinkdata.hdf5')\n",
    "sinksV = store['vanilla']\n",
    "sinks0 = store['xr_tau_J0']\n",
    "sinks1 = store['xr_tau_J1']\n",
    "sinks2 = store['xr_tau_J2']\n",
    "sinks3 = store['xr_tau_J3']\n",
    "store.close()"
   ]
  },
  {
   "cell_type": "code",
   "execution_count": null,
   "metadata": {
    "collapsed": false,
    "scrolled": true
   },
   "outputs": [],
   "source": [
    "sinksV.groupby('ID').last().describe()"
   ]
  },
  {
   "cell_type": "code",
   "execution_count": null,
   "metadata": {
    "collapsed": false
   },
   "outputs": [],
   "source": [
    "data = {'vanilla':mg, 'xr_tau_J0':mg0, 'xr_tau_J1':mg1, 'xr_tau_J2':mg2, 'xr_tau_J3':mg3,\n",
    "        'XR_sfr_1e-3':mg4, 'xr_sfr_J1':mg5, 'XR_sfr_1e-1':mg6}\n",
    "sinkdata = {'vanilla':sinksV, 'xr_tau_J0':sinks0, 'xr_tau_J1':sinks1, 'xr_tau_J2':sinks2, 'xr_tau_J3':sinks3}"
   ]
  },
  {
   "cell_type": "code",
   "execution_count": null,
   "metadata": {
    "collapsed": false
   },
   "outputs": [],
   "source": [
    "for sim in data.keys():\n",
    "    df = data[sim]\n",
    "    print sim, df[df.time > 0].z.iloc[0]"
   ]
  },
  {
   "cell_type": "code",
   "execution_count": null,
   "metadata": {
    "collapsed": false
   },
   "outputs": [],
   "source": [
    "total_mass = {}\n",
    "for i, sim in enumerate(simlist[:5]):\n",
    "    mtot = sinkdata[sim][['time','mass']].groupby('time').sum()\n",
    "    mtot.rename(columns = {'mass':simname[sim]}, inplace=True)\n",
    "    total_mass[sim] = mtot.reset_index()"
   ]
  },
  {
   "cell_type": "code",
   "execution_count": null,
   "metadata": {
    "collapsed": false
   },
   "outputs": [],
   "source": [
    "combined = {}\n",
    "for i, sim in enumerate(simlist[:5]):\n",
    "    df = data[sim]\n",
    "    sdf = total_mass[sim].rename(columns = {simname[simlist[i]]:'sinks'})\n",
    "    cdf = pd.merge(df, sdf, on='time')\n",
    "    cdf['SFE'] = cdf['sinks'] / cdf['100cc']\n",
    "    cdf[\"DFE\"] = cdf['1e8cc'] / cdf['100cc']\n",
    "    cdf['AcE'] = cdf['sinks'] / cdf['1e8cc']\n",
    "    combined[sim] = cdf\n",
    "#    df['SFE'] = df['100cc'] / "
   ]
  },
  {
   "cell_type": "code",
   "execution_count": null,
   "metadata": {
    "collapsed": false
   },
   "outputs": [],
   "source": [
    "nkeys = ['10cc', '100cc', '1e4cc', '1e8cc', '1e10cc']\n",
    "rkeys = ['100pc', '10pc', '1pc', '.1pc', '1e4AU', '5e3AU', '1e3AU']"
   ]
  },
  {
   "cell_type": "code",
   "execution_count": null,
   "metadata": {
    "collapsed": false
   },
   "outputs": [],
   "source": [
    "fig, axarr = plt.subplots(3, 1, sharex=True, figsize=(9,15))\n",
    "\n",
    "for i, dlim in enumerate(nkeys[2:]):\n",
    "    axarr[i].axvline(0, lw=1, ls='-', c='.8')\n",
    "    df = mg[mg[dlim] > 0]\n",
    "    axarr[i].plot(df.time, df[dlim], ls='-', color='.25', label=simname['vanilla'])\n",
    "\n",
    "    for sim in simlist[1:5]:\n",
    "        df = data[sim]\n",
    "        df = df[df[dlim] > 0]\n",
    "        axarr[i].plot(df.time, df[dlim], label=simname[sim])\n",
    "    axarr[i].set_ylabel('Mass [M$_{\\odot}$]')\n",
    "    axarr[i].set_xlabel(\"\")\n",
    "    axarr[i].text(.97,.03,\"$n >$ \"+dlim.replace('cc', ' cm$^{-3}$') , ha='right', va='bottom', \n",
    "                  size=20, transform=axarr[i].transAxes)\n",
    "\n",
    "axarr[0].set_ylim(500, 1.4e3)\n",
    "axarr[1].set_ylim(0, 130)\n",
    "axarr[2].set_ylim(0, 75)\n",
    "axarr[1].legend(loc=0)\n",
    "axarr[2].set_xlabel(\"Time since sink formation [yr]\")\n",
    "plt.xlim(-5e3, 5e3)\n",
    "fig.subplots_adjust(hspace=0.1)\n",
    "sns.despine()\n",
    "#plt.setp([a.get_xticklabels() for a in fig.axes[:-1]], visible=False)"
   ]
  },
  {
   "cell_type": "code",
   "execution_count": null,
   "metadata": {
    "collapsed": false
   },
   "outputs": [],
   "source": [
    "with sns.axes_style(\"darkgrid\"):\n",
    "    fig, ax = plt.subplots()\n",
    "    df = data['vanilla']\n",
    "    df = df[df['1e8cc'] > 0]\n",
    "    ax.plot(df.time, df['1e8cc'], color='.25', label=simname['vanilla'])\n",
    "    for sim in simlist[1:5]:\n",
    "        df = data[sim]\n",
    "        df[df['1e8cc'] > 0]\n",
    "        ax.plot(df.time, df['1e8cc'], label=simname[sim])\n",
    "    ax.set_xlim(-7500,5000)\n",
    "    ax.set_ylim(0,120)\n",
    "    ax.legend(loc=0)\n",
    "    ax.set_ylabel('Mass [M$_{\\odot}$]')\n",
    "    ax.set_xlabel(\"Time since sink formation [yr]\")"
   ]
  },
  {
   "cell_type": "code",
   "execution_count": null,
   "metadata": {
    "collapsed": false
   },
   "outputs": [],
   "source": [
    "with sns.axes_style(\"white\"):\n",
    "    fig, ax = plt.subplots()\n",
    "df = data['vanilla']\n",
    "df = df[df['1pc'] > 0]\n",
    "ax.semilogy(df.z, df['1pc'], color='.25', label=simname['vanilla'])\n",
    "for sim in simlist[1:5]:\n",
    "    df = data[sim]\n",
    "    df = df[df['1pc'] > 0]\n",
    "    ax.plot(df.z, df['1pc'], label=simname[sim])\n",
    "ax.set_color_cycle(None)\n",
    "for sim in simlist[5:]:\n",
    "    df = data[sim]\n",
    "    df = df[df['1pc'] > 0]\n",
    "    ax.plot(df.z, df['1pc'], ls='--')\n",
    "ax.set_xlim(34, 25)\n",
    "ax.set_ylim(2,2e3)\n",
    "ax.legend(loc=0)\n",
    "ax.set_ylabel('Mass within 1 pc [M$_{\\odot}$]')\n",
    "ax.set_xlabel(\"Redshift\")\n",
    "#fig.savefig('figures/growth/collapse.png', bbox_inches='tight')\n",
    "fig.savefig('figures/growth/collapse.pdf', bbox_inches='tight')"
   ]
  },
  {
   "cell_type": "code",
   "execution_count": null,
   "metadata": {
    "collapsed": false
   },
   "outputs": [],
   "source": [
    "fig, axarr = plt.subplots(3, sharex=True, figsize=(9,15))\n",
    "\n",
    "for i, dlim in enumerate(nkeys[:3]):\n",
    "    axarr[i].axvline(0, lw=1, ls='-', c='.8')\n",
    "    df = mg[mg[dlim] > 0]\n",
    "    axarr[i].semilogy(df.z, df[dlim], label=simname['vanilla'], ls='-', color='.25')\n",
    "    for sim in simlist[1:5]:\n",
    "        df = data[sim]\n",
    "        df= df[df[dlim] > 0]\n",
    "        axarr[i].plot(df.z, df[dlim], label=simname[sim])\n",
    "    axarr[i].set_ylabel('Mass [M$_{\\odot}$]')\n",
    "    axarr[i].set_xlabel(\"\")\n",
    "    axarr[i].text(.5,.95,\"$n >$ \"+dlim.replace('cc', ' cm$^{-3}$') , ha='center', va='top', \n",
    "                  size=20, transform=axarr[i].transAxes)\n",
    "\n",
    "axarr[0].set_ylim(1, 1e4)\n",
    "axarr[1].set_ylim(.2, 5e3)\n",
    "axarr[2].set_ylim(.2, 5e3)\n",
    "axarr[1].legend(loc=0)\n",
    "axarr[2].set_xlabel(\"Redshift\")\n",
    "plt.xlim(42, 25)\n",
    "fig.subplots_adjust(hspace=0.0)\n",
    "sns.despine()\n",
    "#plt.setp([a.get_xticklabels() for a in fig.axes[:-1]], visible=False)"
   ]
  },
  {
   "cell_type": "code",
   "execution_count": null,
   "metadata": {
    "collapsed": false
   },
   "outputs": [],
   "source": [
    "fig, axarr = plt.subplots(3, sharex=True, figsize=(8,15))\n",
    "\n",
    "for i, dlim in enumerate(rkeys[:3]):\n",
    "    axarr[i].axvline(0, lw=1, ls='-', c='.8')\n",
    "    df = mg[mg[dlim] > 0]\n",
    "    axarr[i].plot(df.z, df[dlim], label=simname['vanilla'], color='.25')\n",
    "\n",
    "    for sim in simlist[1:5]:\n",
    "        df = data[sim]\n",
    "        df = df[df[dlim] > 0]\n",
    "        axarr[i].plot(df.z, df[dlim], label=simname[sim])\n",
    "    axarr[i].set_ylabel('Mass [M$_{\\odot}$]')\n",
    "    axarr[i].set_xlabel(\"\")\n",
    "    axarr[i].text(.5,.95,\"$r <$ \"+dlim, ha='center', va='top', \n",
    "                  size=20, transform=axarr[i].transAxes)\n",
    "\n",
    "#axarr[0].set_ylim(1, 1e4)\n",
    "#axarr[1].set_ylim(.2, 5e3)\n",
    "#axarr[2].set_ylim(.2, 5e3)\n",
    "axarr[1].legend(loc=0)\n",
    "axarr[2].set_xlabel(\"Redshift\")\n",
    "plt.xlim(35, 24.95)\n",
    "fig.subplots_adjust(hspace=0.003)\n",
    "sns.despine()\n",
    "fig.savefig('figures/growth/massgrowth_lores.png', bbox_inches='tight')"
   ]
  },
  {
   "cell_type": "code",
   "execution_count": null,
   "metadata": {
    "collapsed": false
   },
   "outputs": [],
   "source": [
    "fig, axarr = plt.subplots(3, sharex=True, figsize=(9,15))\n",
    "\n",
    "for i, dlim in enumerate([rkeys[i] for i in [3,4,5]]):\n",
    "    axarr[i].axvline(0, lw=1, ls='-', c='.8')\n",
    "    df = mg[mg[dlim] > 0]\n",
    "    axarr[i].plot(df.time, df[dlim], label=simname['vanilla'], color='.25')\n",
    "    for sim in simlist[1:5]:\n",
    "        df = data[sim]\n",
    "        df = df[df[dlim] > 0]\n",
    "        axarr[i].plot(df.time, df[dlim], label=simname[sim])\n",
    "    axarr[i].set_ylabel('Mass [M$_{\\odot}$]')\n",
    "    axarr[i].set_xlabel(\"\")\n",
    "    axarr[i].text(.97,.03,\"$r <$ \"+dlim , ha='right', va='bottom', \n",
    "                  size=20, transform=axarr[i].transAxes)\n",
    "\n",
    "axarr[0].set_ylim(125, 450)\n",
    "axarr[1].set_ylim(75, 275)\n",
    "axarr[2].set_ylim(25, 190)\n",
    "axarr[2].legend(loc=0)\n",
    "axarr[2].set_xlabel(\"Time since sink formation [yr]\")\n",
    "plt.xlim(-5e3, 5e3)\n",
    "fig.subplots_adjust(hspace=0.0)\n",
    "sns.despine()\n",
    "#plt.setp([a.get_xticklabels() for a in fig.axes[:-1]], visible=False)"
   ]
  },
  {
   "cell_type": "code",
   "execution_count": null,
   "metadata": {
    "collapsed": false
   },
   "outputs": [],
   "source": [
    "eff_label = {'SFE':\"Star Formation Efficiency\", 'DFE':\"Disk Formation Efficiency\", 'AcE':\"Sink Accretion Efficiency\"}"
   ]
  },
  {
   "cell_type": "code",
   "execution_count": null,
   "metadata": {
    "collapsed": false
   },
   "outputs": [],
   "source": [
    "eff = 'SFE'\n",
    "with sns.axes_style(\"darkgrid\"):\n",
    "    fig, ax = plt.subplots()\n",
    "    df = combined['vanilla'].set_index('time')\n",
    "    ax = df[eff].plot(ax=ax, label=simname['vanilla'], ls='-', color='.25')#, grid=False)\n",
    "    for sim in simlist[1:5]:\n",
    "        df = combined[sim].set_index('time')\n",
    "        ax = df[eff].plot(ax=ax, label=simname[sim])#, grid=False)\n",
    "    ax.set_ylabel(eff_label[eff])\n",
    "    ax.set_xlim(0,5000)\n",
    "    ax.set_ylim(0,.04)\n",
    "    ax.legend(loc=2)\n",
    "#sns.despine()\n",
    "fig.savefig('figures/growth/efficiency.png', bbox_inches='tight')"
   ]
  },
  {
   "cell_type": "code",
   "execution_count": null,
   "metadata": {
    "collapsed": false
   },
   "outputs": [],
   "source": [
    "with sns.axes_style(\"darkgrid\"):\n",
    "    fig, axl = plt.subplots(1,2, sharex=True, figsize=(15,6))\n",
    "    eff_label = {'SFE':\"Star Formation Efficiency\", 'DFE':\"Disk Formation Efficiency\", 'AcE':\"Sink Accretion Efficiency\"}\n",
    "    for i, eff in enumerate(['SFE', 'DFE']):\n",
    "        df = combined['vanilla'].set_index('time')\n",
    "        axl[i] = df[eff].plot(ax=axl[i], label=simname['vanilla'], ls='-', color='.25')#, grid=False)\n",
    "        for sim in simlist[1:5]:\n",
    "            df = combined[sim].set_index('time')\n",
    "            axl[i] = df[eff].plot(ax=axl[i], label=simname[sim])#, grid=False)\n",
    "        axl[i].set_ylabel(eff_label[eff])\n",
    "    axl[0].set_xlim(0,5000)\n",
    "    axl[0].set_ylim(0,.035)\n",
    "    axl[1].set_ylim(0,0.055)#1.005)\n",
    "    axl[0].legend(loc=2)\n",
    "#sns.despine()\n",
    "fig.savefig('figures/growth/efficiency.png', bbox_inches='tight')"
   ]
  },
  {
   "cell_type": "code",
   "execution_count": null,
   "metadata": {
    "collapsed": false
   },
   "outputs": [],
   "source": [
    "fig, ((ax0,ax1),(ax2,ax3)) = plt.subplots(2,2, figsize=(12,10))\n",
    "\n",
    "for ax in fig.axes:\n",
    "    ax.axvline(0, lw=1.2, ls='-', c='.75')\n",
    "    \n",
    "ax0.plot(mg.time, mg['100cc'], ls='-', color='.25')\n",
    "ax1.plot(mg.time, mg['1e8cc'], ls='-', color='.25', label=simname['vanilla'])\n",
    "df = combined['vanilla']\n",
    "ax2.plot(df.time, df['SFE'], ls='-', color='.25')\n",
    "df = total_mass['vanilla']\n",
    "ax3.plot(df.time, df[simname['vanilla']], ls='-', color='.25')\n",
    "\n",
    "#============ Panel A ==============\n",
    "for sim in simlist[1:5]:\n",
    "    df = data[sim]\n",
    "    ax0.plot(df.time, df['100cc'], label=simname[sim])\n",
    "ax0.set_ylim(1900,2700)\n",
    "ax0.set_ylabel('$n >$ 100 cm$^{-3}$ Mass [M$_{\\odot}$]')\n",
    "\n",
    "#============ Panel B ==============\n",
    "for sim in simlist[1:5]:\n",
    "    df = data[sim]\n",
    "    ax1.plot(df.time, df['1e8cc'], label=simname[sim])\n",
    "ax1.set_ylim(0,120)\n",
    "ax1.set_ylabel('$n > 10^8$ cm$^{-3}$ Mass [M$_{\\odot}$]')\n",
    "ax1.legend(loc=0)\n",
    "\n",
    "#============ Panel C ==============\n",
    "for sim in simlist[1:5]:\n",
    "    df = combined[sim]\n",
    "    ax2.plot(df.time, df[\"SFE\"], label=simname[sim])\n",
    "ax2.set_ylim(0,.035)\n",
    "ax2.set_ylabel('Star Formation Efficiency')\n",
    "\n",
    "#============ Panel D ==============\n",
    "for sim in simlist[1:5]:\n",
    "    df = total_mass[sim]\n",
    "    ax3.plot(df.time, df[simname[sim]], label=simname[sim])\n",
    "ax3.set_ylim(0,70)\n",
    "ax3.set_ylabel('Total Sink Mass [M$_{\\odot}$]')\n",
    "\n",
    "\n",
    "for ax in fig.axes:\n",
    "    ax.set_xlim(-1.8e3,5e3)\n",
    "    ax.set_xticks((-1e3, 0, 1e3, 3e3, 5e3))\n",
    "    ax.set_xlabel('Time Since Sink Formation [yr]')\n",
    "#fig.subplots_adjust(vspace=1)\n",
    "fig.tight_layout()\n",
    "fig.savefig('figures/growth/sinkgrowth.png', bbox_inches='tight')"
   ]
  },
  {
   "cell_type": "code",
   "execution_count": null,
   "metadata": {
    "collapsed": false
   },
   "outputs": [],
   "source": []
  }
 ],
 "metadata": {
  "kernelspec": {
   "display_name": "Python 2",
   "language": "python",
   "name": "python2"
  },
  "language_info": {
   "codemirror_mode": {
    "name": "ipython",
    "version": 2
   },
   "file_extension": ".py",
   "mimetype": "text/x-python",
   "name": "python",
   "nbconvert_exporter": "python",
   "pygments_lexer": "ipython2",
   "version": "2.7.9"
  }
 },
 "nbformat": 4,
 "nbformat_minor": 0
}
