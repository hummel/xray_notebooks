{
 "cells": [
  {
   "cell_type": "code",
   "execution_count": null,
   "metadata": {
    "collapsed": false
   },
   "outputs": [],
   "source": [
    "%matplotlib inline\n",
    "import numpy as np\n",
    "import pandas as pd\n",
    "import seaborn as sns\n",
    "import statsmodels.formula.api as sm\n",
    "from matplotlib import pyplot as plt"
   ]
  },
  {
   "cell_type": "code",
   "execution_count": null,
   "metadata": {
    "collapsed": false
   },
   "outputs": [],
   "source": [
    "sns.set_context('poster')\n",
    "sns.set_style('white')\n",
    "plt.rcParams['text.usetex']=True"
   ]
  },
  {
   "cell_type": "code",
   "execution_count": null,
   "metadata": {
    "collapsed": false
   },
   "outputs": [],
   "source": [
    "opd = pd.read_hdf(\"/data/research/results/simdata/xrays/optical_depth.hdf5\",'optical_depth')"
   ]
  },
  {
   "cell_type": "code",
   "execution_count": null,
   "metadata": {
    "collapsed": false
   },
   "outputs": [],
   "source": [
    "opd = opd[opd.view != 'native']"
   ]
  },
  {
   "cell_type": "code",
   "execution_count": null,
   "metadata": {
    "collapsed": false
   },
   "outputs": [],
   "source": [
    "opd['log n'] = np.log10(opd['n'])\n",
    "opd['log N'] = np.log10(opd['N'])\n",
    "opd['log tau'] = np.log10(opd['tau'])\n",
    "opd['orientation'] = 'random'\n",
    "opd.orientation[opd.view == 'face (xy)'] = 'polar'\n",
    "opd.orientation[opd.view == 'xz'] = 'equator'\n",
    "opd.orientation[opd.view == 'yz'] = 'equator'"
   ]
  },
  {
   "cell_type": "code",
   "execution_count": null,
   "metadata": {
    "collapsed": false
   },
   "outputs": [],
   "source": [
    "opd.head()"
   ]
  },
  {
   "cell_type": "code",
   "execution_count": null,
   "metadata": {
    "collapsed": false
   },
   "outputs": [],
   "source": [
    "g = sns.FacetGrid(opd, col='orientation', hue='snapshot', size=5)\n",
    "g.map(plt.loglog, 'z', 'N')\n",
    "g.set(xlim=(1, 9e5), ylim=(1e21, 1e28))\n",
    "g.set_xlabels(\"Radius [AU]\")\n",
    "g.set_ylabels('Column Density [cm$^{-2}$]')\n",
    "g.fig.subplots_adjust(wspace=.02)\n",
    "#g.fig.savefig('figures/optical_depth/column_density.png', bbox_inches='tight')\n",
    "g.fig.savefig('figures/optical_depth/column_density.pdf', bbox_inches='tight')"
   ]
  },
  {
   "cell_type": "code",
   "execution_count": null,
   "metadata": {
    "collapsed": true
   },
   "outputs": [],
   "source": []
  },
  {
   "cell_type": "raw",
   "metadata": {
    "collapsed": false
   },
   "source": [
    "g = sns.FacetGrid(opd, col='orientation', hue='snapshot', size=4)\n",
    "g.map(plt.scatter, 'log n', 'log tau')\n",
    "g.set(xlim=(12,0), ylim=(-3,4))\n",
    "g.set_xlabels('Log n [cm$^{-3}$]')\n",
    "g.set_ylabels('Log Optical Depth')\n",
    "g.fig.subplots_adjust(wspace=.02)\n",
    "g.fig.savefig('figures/optical_depth/optical_depth_scatter.png', bbox_inches='tight')"
   ]
  },
  {
   "cell_type": "code",
   "execution_count": null,
   "metadata": {
    "collapsed": false
   },
   "outputs": [],
   "source": [
    "op_slice = opd[opd.n > 1e4]"
   ]
  },
  {
   "cell_type": "code",
   "execution_count": null,
   "metadata": {
    "collapsed": false
   },
   "outputs": [],
   "source": [
    "g = sns.lmplot(\"log n\", \"log N\", hue=\"orientation\", data=op_slice[::100], size=6)\n",
    "g.set_xlabels('Log n [cm$^{-3}$]')\n",
    "g.set_ylabels('Log N [cm$^{-2}$]')\n",
    "#g.fig.savefig('figures/optical_depth/col_density_fit.png', bbox_inches='tight', dpi=100)\n",
    "g.fig.savefig('figures/optical_depth/col_density_fit.pdf', bbox_inches='tight', rasterized=True)"
   ]
  },
  {
   "cell_type": "code",
   "execution_count": null,
   "metadata": {
    "collapsed": false
   },
   "outputs": [],
   "source": [
    "op_slice['Eins'] = np.ones(( len(op_slice), ))\n",
    "op_polar = op_slice[op_slice.orientation == 'polar']\n",
    "op_equator = op_slice[op_slice.orientation == 'equator']"
   ]
  },
  {
   "cell_type": "code",
   "execution_count": null,
   "metadata": {
    "collapsed": false
   },
   "outputs": [],
   "source": [
    "yp = op_polar['log N']\n",
    "xp = op_polar[['log n', 'Eins']]\n",
    "pmodel = sm.OLS(yp, xp)\n",
    "presults = pmodel.fit()\n",
    "presults.summary()"
   ]
  },
  {
   "cell_type": "code",
   "execution_count": null,
   "metadata": {
    "collapsed": false
   },
   "outputs": [],
   "source": [
    "ye = op_equator['log N']\n",
    "xe = op_equator[['log n', 'Eins']]\n",
    "emodel = sm.OLS(ye, xe)\n",
    "eresults = emodel.fit()\n",
    "eresults.summary()"
   ]
  },
  {
   "cell_type": "code",
   "execution_count": null,
   "metadata": {
    "collapsed": false
   },
   "outputs": [],
   "source": [
    "print 'Polar Parameters: \\n', presults.params\n",
    "print 'Polar R2: ', presults.rsquared\n",
    "print '\\nEquatorial Parameters: \\n', eresults.params\n",
    "print 'Equatorial R2: ', eresults.rsquared"
   ]
  },
  {
   "cell_type": "markdown",
   "metadata": {},
   "source": [
    "# Double-check the fit:"
   ]
  },
  {
   "cell_type": "code",
   "execution_count": null,
   "metadata": {
    "collapsed": false
   },
   "outputs": [],
   "source": [
    "plt.scatter(op_polar['log n'], op_polar['log N'])\n",
    "logn = np.linspace(0,13)\n",
    "logN = 0.532301 * logn + 19.636552 \n",
    "plt.plot(logn, logN)"
   ]
  },
  {
   "cell_type": "markdown",
   "metadata": {},
   "source": [
    "#Calculate $\\tau_{\\rm \\small effective}$ from $\\tau_{\\rm \\small pole}$ and $\\tau_{\\rm \\small equator}$.\n",
    "\n",
    "###$\\tau_{\\rm \\small effective} = \\tau_{\\rm \\small pole} \\frac{2 \\Omega_{\\rm \\small pole}}{4\\pi} + \\tau_{\\rm \\small equator} \\frac{4\\pi - 2 \\Omega_{\\rm \\small pole}}{4\\pi}$\n",
    "\n",
    "###$\\Omega_{\\rm \\small pole} = \\int_0^{2\\pi}{\\rm d}\\phi \\int_0^{\\pi/4}{\\rm sin}\\theta \\,{\\rm d}\\theta  = 2\\pi \\left( 1 - \\frac{1}{\\sqrt{2}} \\right) \\approx 2\\pi \\times 0.29289 = 1.840282$"
   ]
  },
  {
   "cell_type": "markdown",
   "metadata": {},
   "source": [
    "#From our fit,\n",
    "##$\\tau_{\\rm \\small pole} = 10^{0.532301 {\\rm log_{10}}(n) + 19.636552}$ and $\\tau_{\\rm \\small equator} = 10^{0.626204 {\\rm log_{10}}(n) + 19.573490}$"
   ]
  },
  {
   "cell_type": "code",
   "execution_count": null,
   "metadata": {
    "collapsed": false
   },
   "outputs": [],
   "source": [
    "def tau_p(n):\n",
    "    exponent = 0.532301 * np.log10(n) + 19.636552\n",
    "    return 10**exponent\n",
    "\n",
    "def tau_eq(n):\n",
    "    exponent = 0.626204 * np.log10(n) + 19.573490\n",
    "    return 10**exponent"
   ]
  },
  {
   "cell_type": "code",
   "execution_count": null,
   "metadata": {
    "collapsed": false
   },
   "outputs": [],
   "source": [
    "Omega_pole = 1.840282\n",
    "fourpi = 4 * np.pi\n",
    "a = 2 * Omega_pole / fourpi\n",
    "b = (fourpi - 2*Omega_pole)/fourpi\n",
    "def tau_eff(n):\n",
    "    x = tau_p(n)\n",
    "    y = tau_eq(n)\n",
    "    return a*x + b*y"
   ]
  },
  {
   "cell_type": "markdown",
   "metadata": {},
   "source": [
    "### Let's check the results:"
   ]
  },
  {
   "cell_type": "code",
   "execution_count": null,
   "metadata": {
    "collapsed": false
   },
   "outputs": [],
   "source": [
    "Omega_pole, 4*np.pi"
   ]
  },
  {
   "cell_type": "code",
   "execution_count": null,
   "metadata": {
    "collapsed": false
   },
   "outputs": [],
   "source": [
    "a,b"
   ]
  },
  {
   "cell_type": "code",
   "execution_count": null,
   "metadata": {
    "collapsed": false
   },
   "outputs": [],
   "source": [
    "n = np.logspace(0,12)\n",
    "plt.loglog(n, tau_p(n), '--')\n",
    "plt.loglog(n, tau_eq(n), '--')\n",
    "plt.loglog(n, tau_eff(n))\n",
    "plt.xlabel('n [cm$^{-3}$]')\n",
    "plt.ylabel('N [cm$^{-2}$]')"
   ]
  },
  {
   "cell_type": "code",
   "execution_count": null,
   "metadata": {
    "collapsed": false
   },
   "outputs": [],
   "source": [
    "n = np.linspace(1e10,1e12)\n",
    "plt.plot(n, tau_p(n), '--')\n",
    "plt.plot(n, tau_eq(n), '--')\n",
    "plt.plot(n, tau_eff(n))\n",
    "plt.xlabel('n [cm$^{-3}$]')\n",
    "plt.ylabel('N [cm$^{-2}$]')"
   ]
  },
  {
   "cell_type": "code",
   "execution_count": null,
   "metadata": {
    "collapsed": false
   },
   "outputs": [],
   "source": [
    "n = np.linspace(1,10)\n",
    "plt.plot(n, tau_p(n), '--')\n",
    "plt.plot(n, tau_eq(n), '--')\n",
    "plt.plot(n, tau_eff(n))\n",
    "plt.xlabel('n [cm$^{-3}$]')\n",
    "plt.ylabel('N [cm$^{-2}$]')"
   ]
  }
 ],
 "metadata": {
  "kernelspec": {
   "display_name": "Python 2",
   "language": "python",
   "name": "python2"
  },
  "language_info": {
   "codemirror_mode": {
    "name": "ipython",
    "version": 2
   },
   "file_extension": ".py",
   "mimetype": "text/x-python",
   "name": "python",
   "nbconvert_exporter": "python",
   "pygments_lexer": "ipython2",
   "version": "2.7.9"
  }
 },
 "nbformat": 4,
 "nbformat_minor": 0
}
