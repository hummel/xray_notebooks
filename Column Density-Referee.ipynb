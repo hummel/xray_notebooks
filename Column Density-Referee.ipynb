{
 "cells": [
  {
   "cell_type": "code",
   "execution_count": null,
   "metadata": {
    "collapsed": false
   },
   "outputs": [],
   "source": [
    "%matplotlib inline\n",
    "import numpy as np\n",
    "import pandas as pd\n",
    "from scipy.interpolate import griddata\n",
    "import seaborn as sns\n",
    "from matplotlib import pyplot as plt\n",
    "import pyGadget"
   ]
  },
  {
   "cell_type": "code",
   "execution_count": null,
   "metadata": {
    "collapsed": false
   },
   "outputs": [],
   "source": [
    "sns.set_context('poster')"
   ]
  },
  {
   "cell_type": "code",
   "execution_count": null,
   "metadata": {
    "collapsed": false
   },
   "outputs": [],
   "source": [
    "rad = 1e5\n",
    "views = {'native':None, 'face (xy)':'face', 'xz':'xz', 'yz':'yz'}\n",
    "particles = {'x':[], 'y':[], 'z':[], 'n':[], 'view':[], 'snapshot':[]}\n",
    "for sim, snap in [('vanilla',355), ('xr_tau_J0',306), ('xr_tau_J1',327), ('xr_tau_J2',271), ('xr_tau_J3',235)]:\n",
    "    sim = pyGadget.sim.Simulation('stampede/'+sim,length='AU')\n",
    "    s = sim.load_snapshot(snap)\n",
    "    s.gas.load_coords()\n",
    "    for v in ['native', 'face (xy)', 'xz', 'yz']:\n",
    "        vv = views[v]\n",
    "        s.gas.orient_box(centering='max', view=vv)\n",
    "        r2d = np.linalg.norm(s.gas.coordinates[:,:2], axis=1)\n",
    "        pos, n = pyGadget.analyze.data_slice(r2d < rad, s.gas.coordinates, s.gas.ndensity)\n",
    "        particles['x'].extend(pos[:,0])\n",
    "        particles['y'].extend(pos[:,1])\n",
    "        particles['z'].extend(pos[:,2])\n",
    "        particles['n'].extend(n)\n",
    "        particles['view'].extend([v for i in range(n.size)])\n",
    "        particles['snapshot'].extend([snap for i in range(n.size)])\n",
    "\n",
    "    s.gas.cleanup()\n",
    "    s.close()"
   ]
  },
  {
   "cell_type": "code",
   "execution_count": null,
   "metadata": {
    "collapsed": false
   },
   "outputs": [],
   "source": [
    "particles = pd.DataFrame(particles)\n",
    "particles['log z'] = np.log10(particles['z'])\n",
    "particles['log n'] = np.log10(particles['n'])"
   ]
  },
  {
   "cell_type": "code",
   "execution_count": null,
   "metadata": {
    "collapsed": false
   },
   "outputs": [],
   "source": [
    "g = sns.FacetGrid(particles, col='view', hue='snapshot', col_wrap=2)\n",
    "g.map(plt.scatter, 'log z', 'log n', s=5, alpha=.5)#, linewidth=.5, edgecolor=\"white\")"
   ]
  },
  {
   "cell_type": "code",
   "execution_count": null,
   "metadata": {
    "collapsed": false
   },
   "outputs": [],
   "source": [
    "g.fig.savefig('figures/optical_depth/views-overlay.png', bbox_inches='tight')"
   ]
  },
  {
   "cell_type": "markdown",
   "metadata": {},
   "source": [
    "# Interpolating Column with griddata"
   ]
  },
  {
   "cell_type": "code",
   "execution_count": null,
   "metadata": {
    "collapsed": false
   },
   "outputs": [],
   "source": [
    "xmax = ymax = 1\n",
    "xmin = ymin = -1\n",
    "zmax = 1e7\n",
    "zmin = 0\n",
    "(zmax-zmin)"
   ]
  },
  {
   "cell_type": "code",
   "execution_count": null,
   "metadata": {
    "collapsed": false
   },
   "outputs": [],
   "source": [
    "grid_x, grid_y, grid_z = np.mgrid[xmin:xmax:3j, ymin:ymax:3j, zmin:zmax:10000001j]"
   ]
  },
  {
   "cell_type": "code",
   "execution_count": null,
   "metadata": {
    "collapsed": false
   },
   "outputs": [],
   "source": [
    "grid_z.shape, grid_z.size"
   ]
  },
  {
   "cell_type": "code",
   "execution_count": null,
   "metadata": {
    "collapsed": false
   },
   "outputs": [],
   "source": [
    "z = grid_z[1,1]\n",
    "z[1] - z[0] #Double-check grid spacing!"
   ]
  },
  {
   "cell_type": "code",
   "execution_count": null,
   "metadata": {
    "collapsed": false
   },
   "outputs": [],
   "source": [
    "sigma = 1.14e-23\n",
    "optical_depth = {'z':[], 'n':[], 'N':[], 'tau':[], 'view':[], 'snapshot':[]}\n",
    "for snap in [355, 306, 327, 271, 235]:\n",
    "    for view in ['native', 'face (xy)', 'xz', 'yz']:\n",
    "        selection = particles[(particles['view'] == view) & (particles['snapshot'] == snap)]\n",
    "        pos = np.column_stack([selection['x'].values, selection['y'].values, selection['z'].values])\n",
    "        n = selection['n'].values\n",
    "        grid_n = griddata(pos, n, (grid_x, grid_y, grid_z), method='linear')\n",
    "        nz = grid_n[1,1]\n",
    "        N = nz[::-1].cumsum() * 1.49597871e13 #convert from AU to cm\n",
    "        tau = N[::-1] * sigma\n",
    "        print snap, view, tau[0]\n",
    "        optical_depth['z'].extend(z)\n",
    "        optical_depth['n'].extend(nz)\n",
    "        optical_depth['N'].extend(N[::-1])\n",
    "        optical_depth['tau'].extend(tau)\n",
    "        optical_depth['view'].extend([view for i in range(z.size)])\n",
    "        optical_depth['snapshot'].extend([snap for i in range(z.size)])\n",
    "optical_depth = pd.DataFrame(optical_depth)"
   ]
  },
  {
   "cell_type": "code",
   "execution_count": null,
   "metadata": {
    "collapsed": false
   },
   "outputs": [],
   "source": [
    "store = pd.HDFStore(\"/home/r900-4/jhummel/data/simdata/xrays/optical_depth_referee.hdf5\")"
   ]
  },
  {
   "cell_type": "code",
   "execution_count": null,
   "metadata": {
    "collapsed": false
   },
   "outputs": [],
   "source": [
    "store['particles'] = particles\n",
    "store['optical_depth'] = optical_depth"
   ]
  },
  {
   "cell_type": "code",
   "execution_count": null,
   "metadata": {
    "collapsed": false
   },
   "outputs": [],
   "source": [
    "store.close()"
   ]
  },
  {
   "cell_type": "code",
   "execution_count": null,
   "metadata": {
    "collapsed": false
   },
   "outputs": [],
   "source": [
    "optical_depth[optical_depth['z'] == 0]"
   ]
  },
  {
   "cell_type": "code",
   "execution_count": null,
   "metadata": {
    "collapsed": false
   },
   "outputs": [],
   "source": [
    "g = sns.FacetGrid(optical_depth, col='snapshot', hue='view', col_wrap=2)\n",
    "g.map(plt.loglog, 'z', 'tau')\n",
    "g.set(xlim=(1,5e6), ylim=(2e-4, 5e4))\n",
    "g.set_xlabels('z [AU]')\n",
    "g.set_ylabels('Optical Depth')\n",
    "g.fig.subplots_adjust(wspace=.02)"
   ]
  },
  {
   "cell_type": "code",
   "execution_count": null,
   "metadata": {
    "collapsed": false
   },
   "outputs": [],
   "source": [
    "g = sns.FacetGrid(optical_depth, col='view', hue='snapshot', col_wrap=2)\n",
    "g.map(plt.loglog, 'z', 'tau')\n",
    "g.set(xlim=(1,5e6), ylim=(2e-4, 5e4))\n",
    "g.set_xlabels('z [AU]')\n",
    "g.set_ylabels('Optical Depth')\n",
    "g.fig.subplots_adjust(wspace=.02)"
   ]
  },
  {
   "cell_type": "code",
   "execution_count": null,
   "metadata": {
    "collapsed": false
   },
   "outputs": [],
   "source": [
    "g.fig.savefig('figures/optical_depth/optical_depth-r.png', bbox_inches='tight')"
   ]
  },
  {
   "cell_type": "code",
   "execution_count": null,
   "metadata": {
    "collapsed": false
   },
   "outputs": [],
   "source": [
    "g = sns.FacetGrid(optical_depth, col='snapshot', hue='view', col_wrap=2)\n",
    "g.map(plt.loglog, 'n', 'tau')\n",
    "g.set(xlim=(1e12,.1), ylim=(2e-4, 5e4))\n",
    "g.set_xlabels('n [cm$^{-3}$]')\n",
    "g.set_ylabels('Optical Depth')\n",
    "g.fig.subplots_adjust(wspace=.02)"
   ]
  },
  {
   "cell_type": "code",
   "execution_count": null,
   "metadata": {
    "collapsed": false
   },
   "outputs": [],
   "source": [
    "g = sns.FacetGrid(optical_depth, col='view', hue='snapshot', col_wrap=2)\n",
    "g.map(plt.loglog, 'n', 'tau')\n",
    "g.set(xlim=(1e12,.1), ylim=(2e-4, 5e4))\n",
    "g.set_xlabels('n [cm$^{-3}$]')\n",
    "g.set_ylabels('Optical Depth')\n",
    "g.fig.subplots_adjust(wspace=.02)"
   ]
  },
  {
   "cell_type": "code",
   "execution_count": null,
   "metadata": {
    "collapsed": false
   },
   "outputs": [],
   "source": [
    "g.fig.savefig('figures/optical_depth/optical_depth-n.png', bbox_inches='tight')"
   ]
  }
 ],
 "metadata": {
  "kernelspec": {
   "display_name": "Python 2",
   "language": "python",
   "name": "python2"
  },
  "language_info": {
   "codemirror_mode": {
    "name": "ipython",
    "version": 2
   },
   "file_extension": ".py",
   "mimetype": "text/x-python",
   "name": "python",
   "nbconvert_exporter": "python",
   "pygments_lexer": "ipython2",
   "version": "2.7.9"
  }
 },
 "nbformat": 4,
 "nbformat_minor": 0
}
