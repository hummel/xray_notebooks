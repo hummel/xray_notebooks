{
 "cells": [
  {
   "cell_type": "markdown",
   "metadata": {},
   "source": [
    "# The First Stars: Formation under X-ray Feedback -- Structure Visualization"
   ]
  },
  {
   "cell_type": "markdown",
   "metadata": {},
   "source": [
    "This notebook generates all simulation results figures for my current paper.  All simulations run on stampede.tacc.utexas.edu"
   ]
  },
  {
   "cell_type": "code",
   "execution_count": null,
   "metadata": {
    "collapsed": false
   },
   "outputs": [],
   "source": [
    "%matplotlib inline\n",
    "import numpy as np\n",
    "import matplotlib as mpl\n",
    "from matplotlib import pyplot as plt\n",
    "mpl.rc('font', size=20.)\n",
    "mpl.rc('font', family='serif')\n",
    "mpl.rc('text', usetex=True)"
   ]
  },
  {
   "cell_type": "code",
   "execution_count": null,
   "metadata": {
    "collapsed": false
   },
   "outputs": [],
   "source": [
    "import pyGadget"
   ]
  },
  {
   "cell_type": "markdown",
   "metadata": {},
   "source": [
    "## Density structure zoom-in to central minihalo"
   ]
  },
  {
   "cell_type": "markdown",
   "metadata": {},
   "source": [
    "Use the final snapshot of the vanilla simulation."
   ]
  },
  {
   "cell_type": "code",
   "execution_count": null,
   "metadata": {
    "collapsed": false
   },
   "outputs": [],
   "source": [
    "sims = ['vanilla', 'xr_tau_J0', 'xr_tau_J1', 'xr_tau_J2', 'xr_tau_J3', 'XR_sfr_1e-1', 'XR_sfr_1e-2', 'XR_sfr_1e-3']\n",
    "n0 = [355, 306, 327, 271, 235, 200, 201, 269]\n",
    "n5k = [1900, 1851, 1870, 1810, 1758, 1700, 1701, 1794]\n",
    "t0 = '_t0'\n",
    "t5k = '_t5k'\n",
    "n, tag = n5k, t5k"
   ]
  },
  {
   "cell_type": "code",
   "execution_count": null,
   "metadata": {
    "collapsed": false
   },
   "outputs": [],
   "source": [
    "i = 0\n",
    "sim = pyGadget.sim.Simulation('stampede/'+sims[i])\n",
    "sim.refine_by_mass(False)\n",
    "sim.set_coordinate_system('physical')\n",
    "snap = sim.load_snapshot(n[i])"
   ]
  },
  {
   "cell_type": "code",
   "execution_count": null,
   "metadata": {
    "collapsed": false
   },
   "outputs": [],
   "source": [
    "imzoom = []\n",
    "for scale in ['10pc', '1pc', '5000AU', '20626AU']:\n",
    "    imzoom.append(pyGadget.visualize.project(snap, 'ndensity', scale, 'xz', centering='avg'))\n",
    "snap.close()"
   ]
  },
  {
   "cell_type": "code",
   "execution_count": null,
   "metadata": {
    "collapsed": false
   },
   "outputs": [],
   "source": [
    "from mpl_toolkits.axes_grid1 import ImageGrid\n",
    "\n",
    "scales = ['10 pc',  '1 pc', '5000 AU', '.1 pc']\n",
    "ratio = [.1, .1, None, .2424]\n",
    "zoom = ['right', 'down', None, 'left']\n",
    "clims = [(.25,7.),(3.5,9.5),(6.5,11.5),(5.75,10.5)]\n",
    "ticks = [(1,2,3,4,5,6), (4,5,6,7,8,9), (7,8,9,10,11),(6,7,8,9,10)]\n",
    "cpad = [-15, -15, -18, -18]\n",
    "clabel = [False, True, False, True]\n",
    "bbox_props = dict(boxstyle=\"round\", fc=\"k\", ec=\"k\", alpha=0.5)\n",
    "zc = 'w'\n",
    "zls = '--'\n",
    "zlw = 1.5\n",
    "fig = plt.figure(1, (12., 12.), dpi=600)\n",
    "grid = ImageGrid(fig, 111, # similar to subplot(111)\n",
    "                nrows_ncols = (2, 2), # creates 2x2 grid of axes\n",
    "                axes_pad=0.0, # pad between axes in inch.\n",
    "                cbar_mode = 'each', cbar_size='7%', cbar_pad=0.\n",
    "                )\n",
    "\n",
    "for i in range(4):\n",
    "    x = imzoom[i][0]\n",
    "    y = imzoom[i][1]\n",
    "    im = imzoom[i][2]\n",
    "    ax = grid[i]\n",
    "    img = ax.imshow(im, cmap=plt.cm.bone, origin='lower')\n",
    "    ax.xaxis.set_visible(False)\n",
    "    ax.yaxis.set_visible(False)\n",
    "    img.set_clim(clims[i])\n",
    "    \n",
    "    cb = plt.colorbar(img, cax=grid.cbar_axes[i])\n",
    "    cb.set_ticks(ticks[i])\n",
    "    cb.ax.tick_params(left='on', pad=cpad[i],\n",
    "                      labelsize=15, labelcolor='k', labelleft='on', labelright='off')\n",
    "    if clabel[i]: cb.set_label('Log Number Density [cm$^{-3}$]')\n",
    "        \n",
    "    ax.text(0.5, 0.025, scales[i], color='w', ha='center', va='bottom', size=12, \n",
    "            transform=grid[i].transAxes, bbox=bbox_props)\n",
    "    \n",
    "    if ratio[i]:\n",
    "        axmin, axmax = ax.get_xlim()\n",
    "        axlength = axmax - axmin\n",
    "        mid = axlength/2\n",
    "        s = ratio[i] * axlength\n",
    "        s00 = [mid - s/2, mid - s/2]\n",
    "        s01 = [mid - s/2, mid + s/2]\n",
    "        s11 = [mid + s/2, mid + s/2]\n",
    "        ax.add_line(plt.Line2D(s00, s01, c=zc, lw=zlw))\n",
    "        ax.add_line(plt.Line2D(s11, s01, c=zc, lw=zlw))\n",
    "        ax.add_line(plt.Line2D(s01, s00, c=zc, lw=zlw))\n",
    "        ax.add_line(plt.Line2D(s01, s11, c=zc, lw=zlw))\n",
    "        if zoom[i] == 'right':\n",
    "            ax.add_line(plt.Line2D([mid+s/2, axmax], [mid+s/2, axmax], c=zc, lw=zlw, ls=zls))\n",
    "            ax.add_line(plt.Line2D([mid+s/2, axmax], [mid-s/2, axmin], c=zc, lw=zlw, ls=zls))\n",
    "        elif zoom[i] == 'down':\n",
    "            ax.add_line(plt.Line2D([mid-s/2, axmin], [mid-s/2, axmin], c=zc, lw=zlw, ls=zls))\n",
    "            ax.add_line(plt.Line2D([mid+s/2, axmax], [mid-s/2, axmin], c=zc, lw=zlw, ls=zls))\n",
    "        elif zoom[i] == 'left':\n",
    "            ax.add_line(plt.Line2D([mid-s/2, axmin], [mid+s/2, axmax], c=zc, lw=zlw, ls=zls))\n",
    "            ax.add_line(plt.Line2D([mid-s/2, axmin], [mid-s/2, axmin], c=zc, lw=zlw, ls=zls))\n",
    "plt.show()\n",
    "fig.savefig('figures/structure/halo-structure-'+sim.name.split('/')[-1]+tag+'.png', bbox_inches='tight', dpi=100)"
   ]
  },
  {
   "cell_type": "raw",
   "metadata": {},
   "source": [
    "from mpl_toolkits.axes_grid1 import make_axes_locatable\n",
    "\n",
    "def plot(llim, ulim):\n",
    "    i=0\n",
    "    f,ax = plt.subplots(figsize=(9.,9.))\n",
    "    img = ax.imshow(im, cmap=plt.cm.bone, origin='lower')\n",
    "    ax.xaxis.set_visible(False)\n",
    "    ax.yaxis.set_visible(False)\n",
    "    img.set_clim((llim, ulim))"
   ]
  },
  {
   "cell_type": "raw",
   "metadata": {},
   "source": [
    "from IPython.html import widgets\n",
    "i = 0\n",
    "im = imzoom[i][2]\n",
    "widgets.interact(plot, llim=(-1., 2, .25), ulim=(4., 8.0, .25))"
   ]
  },
  {
   "cell_type": "raw",
   "metadata": {},
   "source": [
    "i = 1\n",
    "im = imzoom[i][2]\n",
    "widgets.interact(plot, llim=(1., 5., .25), ulim=(5., 10.0, .25))"
   ]
  },
  {
   "cell_type": "raw",
   "metadata": {},
   "source": [
    "i = 3\n",
    "im = imzoom[i][2]\n",
    "widgets.interact(plot, llim=(5., 8., .25), ulim=(9., 12.0, .25))"
   ]
  },
  {
   "cell_type": "raw",
   "metadata": {},
   "source": [
    "i = 2\n",
    "im = imzoom[i][2]\n",
    "widgets.interact(plot, llim=(5., 9., .25), ulim=(9., 12.25, .25))"
   ]
  }
 ],
 "metadata": {
  "kernelspec": {
   "display_name": "Python 2",
   "language": "python",
   "name": "python2"
  },
  "language_info": {
   "codemirror_mode": {
    "name": "ipython",
    "version": 2
   },
   "file_extension": ".py",
   "mimetype": "text/x-python",
   "name": "python",
   "nbconvert_exporter": "python",
   "pygments_lexer": "ipython2",
   "version": "2.7.9"
  }
 },
 "nbformat": 4,
 "nbformat_minor": 0
}
