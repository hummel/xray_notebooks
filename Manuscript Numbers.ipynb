{
 "metadata": {
  "name": "",
  "signature": "sha256:892c6cff670966af9a2a3e163bf807edb8c1799493b79e0192d55f5a66c26f23"
 },
 "nbformat": 3,
 "nbformat_minor": 0,
 "worksheets": [
  {
   "cells": [
    {
     "cell_type": "code",
     "collapsed": false,
     "input": [
      "%matplotlib inline\n",
      "from matplotlib import pyplot as plt\n",
      "from scipy.cluster.vq import kmeans,vq\n",
      "import numpy as np\n",
      "import pandas as pd\n",
      "import pyGadget"
     ],
     "language": "python",
     "metadata": {},
     "outputs": [],
     "prompt_number": 115
    },
    {
     "cell_type": "code",
     "collapsed": false,
     "input": [
      "sim0 = pyGadget.sim.Simulation('stampede/vanilla')\n",
      "sim1 = pyGadget.sim.Simulation('stampede/XR_sfr_1e-3')\n",
      "sim2 = pyGadget.sim.Simulation('stampede/XR_sfr_1e-2')\n",
      "sim3 = pyGadget.sim.Simulation('stampede/XR_sfr_1e-1')\n",
      "simX = pyGadget.sim.Simulation('stampede/XR_sfr_1e-0')\n",
      "\n",
      "halo0 = pyGadget.halo.Halo(sim0)\n",
      "halo1 = pyGadget.halo.Halo(sim1)\n",
      "halo2 = pyGadget.halo.Halo(sim2)\n",
      "halo3 = pyGadget.halo.Halo(sim3)\n",
      "haloX = pyGadget.halo.Halo(simX)\n",
      "\n",
      "name = ['J = 0', 'J = J$_0$', 'J = 10 J$_0$', 'J = 100 J$_0$', 'J = 1000 J$_0$']"
     ],
     "language": "python",
     "metadata": {},
     "outputs": [],
     "prompt_number": 5
    },
    {
     "cell_type": "heading",
     "level": 3,
     "metadata": {},
     "source": [
      "Calculate Difference in Sink Formation Time"
     ]
    },
    {
     "cell_type": "code",
     "collapsed": false,
     "input": [
      "n0, n1, n2, n3, tag = 355, 269, 201, 200, '_t0'\n",
      "#n0, n1, n2, n3, tag = 665, 575, 502, 501, '_t1k'\n",
      "#n0, n1, n2, n3, tag = 974, 880, 802, 800, '_t2k'\n",
      "#n0, n1, n2, n3, tag = 1283, 1184, 1100, 1100, '_t3k'\n",
      "#n0, n1, n2, n3, tag = 1592, 1489, 1401, 1400, '_t4k'\n",
      "#n0, n1, n2, n3, tag = 1900, 1794, 1701, 1700, '_t5k'"
     ],
     "language": "python",
     "metadata": {},
     "outputs": [],
     "prompt_number": 25
    },
    {
     "cell_type": "code",
     "collapsed": false,
     "input": [
      "x = 'radius'\n",
      "y = 'total_gas'\n",
      "z = 'redshift'\n",
      "fields = (x,y,z)\n",
      "\n",
      "halo0.load(n0, *fields)\n",
      "halo1.load(n1, *fields)\n",
      "halo2.load(n2, *fields)\n",
      "halo3.load(n3, *fields)"
     ],
     "language": "python",
     "metadata": {},
     "outputs": [],
     "prompt_number": 26
    },
    {
     "cell_type": "code",
     "collapsed": false,
     "input": [
      "print halo0.data[-2]\n",
      "print halo1.data[-1]\n",
      "print halo2.data[-1]\n",
      "print halo3.data[-1]"
     ],
     "language": "python",
     "metadata": {},
     "outputs": [
      {
       "output_type": "stream",
       "stream": "stdout",
       "text": [
        "[    72.34561411  24020.50089157     25.03796438]\n",
        "[    72.34561411  21768.65186344     25.77417933]\n",
        "[    72.34561411  19180.8415483      26.67704075]\n",
        "[    72.34561411  11881.37543031     26.63172921]\n"
       ]
      }
     ],
     "prompt_number": 27
    },
    {
     "cell_type": "code",
     "collapsed": false,
     "input": [
      "pyGadget.units.Time_yr"
     ],
     "language": "python",
     "metadata": {},
     "outputs": [
      {
       "metadata": {},
       "output_type": "pyout",
       "prompt_number": 28,
       "text": [
        "977814043.838273"
       ]
      }
     ],
     "prompt_number": 28
    },
    {
     "cell_type": "code",
     "collapsed": false,
     "input": [
      "a0 = 1./(1 + halo0.data[-1, -1])\n",
      "a1 = 1./(1 + halo1.data[-1, -1])\n",
      "a2 = 1./(1 + halo2.data[-1, -1])\n",
      "a3 = 1./(1 + halo3.data[-1, -1])\n",
      "\n",
      "t0 = a0 * pyGadget.units.Time_yr\n",
      "t1 = a1 * pyGadget.units.Time_yr\n",
      "t2 = a2 * pyGadget.units.Time_yr\n",
      "t3 = a3 * pyGadget.units.Time_yr"
     ],
     "language": "python",
     "metadata": {},
     "outputs": [],
     "prompt_number": 29
    },
    {
     "cell_type": "code",
     "collapsed": false,
     "input": [
      "sc = [a0, a1, a2, a3]\n",
      "print sc, argmin(sc)"
     ],
     "language": "python",
     "metadata": {},
     "outputs": [
      {
       "output_type": "stream",
       "stream": "stdout",
       "text": [
        "[0.038405460020081036, 0.037349417430586812, 0.036131030376071814, 0.036190279378597978] 2\n"
       ]
      }
     ],
     "prompt_number": 30
    },
    {
     "cell_type": "code",
     "collapsed": false,
     "input": [
      "print \"{:.5e}\".format(t0 - t2)"
     ],
     "language": "python",
     "metadata": {},
     "outputs": [
      {
       "output_type": "stream",
       "stream": "stdout",
       "text": [
        "2.22397e+06\n"
       ]
      }
     ],
     "prompt_number": 24
    },
    {
     "cell_type": "markdown",
     "metadata": {},
     "source": [
      "So, sim0, sim1, sim2 and sim3 form at $z = 25.04$, $25.77$, $26.68$ and $26.63$ respectively.\n",
      "\n",
      "This is good for at time difference of $2.2$ million years."
     ]
    },
    {
     "cell_type": "heading",
     "level": 3,
     "metadata": {},
     "source": [
      "Calculate Total Gas Mass above 100 cc at Sink Formation"
     ]
    },
    {
     "cell_type": "code",
     "collapsed": false,
     "input": [
      "n0, n1, n2, n3, tag = 355, 269, 201, 200, '_t0'\n",
      "snap0 = sim0.load_snapshot(n0, 'ndensity', 'masses')\n",
      "snap1 = sim1.load_snapshot(n1, 'ndensity', 'masses')\n",
      "snap2 = sim2.load_snapshot(n2, 'ndensity', 'masses')\n",
      "snap3 = sim3.load_snapshot(n3, 'ndensity', 'masses')"
     ],
     "language": "python",
     "metadata": {},
     "outputs": [
      {
       "output_type": "stream",
       "stream": "stdout",
       "text": [
        "Turning on gas particle refinement.\n",
        "There are"
       ]
      },
      {
       "output_type": "stream",
       "stream": "stdout",
       "text": [
        " 8000000 highest resolution particles.\n",
        "Loading data...\n",
        "Turning on gas particle refinement."
       ]
      },
      {
       "output_type": "stream",
       "stream": "stdout",
       "text": [
        "\n",
        "There are"
       ]
      },
      {
       "output_type": "stream",
       "stream": "stdout",
       "text": [
        " 8000000 highest resolution particles.\n",
        "Loading data...\n",
        "Turning on gas particle refinement."
       ]
      },
      {
       "output_type": "stream",
       "stream": "stdout",
       "text": [
        "\n",
        "There are"
       ]
      },
      {
       "output_type": "stream",
       "stream": "stdout",
       "text": [
        " 8000000 highest resolution particles.\n",
        "Loading data...\n",
        "Turning on gas particle refinement."
       ]
      },
      {
       "output_type": "stream",
       "stream": "stdout",
       "text": [
        "\n",
        "There are"
       ]
      },
      {
       "output_type": "stream",
       "stream": "stdout",
       "text": [
        " 8000000 highest resolution particles.\n",
        "Loading data...\n"
       ]
      }
     ],
     "prompt_number": 36
    },
    {
     "cell_type": "code",
     "collapsed": false,
     "input": [
      "m10 = []\n",
      "m100 = []\n",
      "for snap in [snap0, snap1, snap2, snap3]:\n",
      "    dens = snap.gas.get_number_density()\n",
      "    mass = snap.gas.get_masses()\n",
      "    (m,) = pyGadget.analyze.data_slice(dens >= 10, mass)\n",
      "    m10.append(m.sum())\n",
      "    (m,) = pyGadget.analyze.data_slice(dens >= 100, mass)\n",
      "    m100.append(m.sum())\n",
      "    snap.close()"
     ],
     "language": "python",
     "metadata": {},
     "outputs": [],
     "prompt_number": 82
    },
    {
     "cell_type": "code",
     "collapsed": false,
     "input": [
      "m10"
     ],
     "language": "python",
     "metadata": {},
     "outputs": [
      {
       "metadata": {},
       "output_type": "pyout",
       "prompt_number": 80,
       "text": [
        "[4533.38731451077, 4347.6743549213534, 3703.2401933110255, 1966.2708556098048]"
       ]
      }
     ],
     "prompt_number": 80
    },
    {
     "cell_type": "code",
     "collapsed": false,
     "input": [
      "m100"
     ],
     "language": "python",
     "metadata": {},
     "outputs": [
      {
       "metadata": {},
       "output_type": "pyout",
       "prompt_number": 81,
       "text": [
        "[2478.1373076587702,\n",
        " 2198.5708409325402,\n",
        " 2104.1560443290605,\n",
        " 1276.1654563433501]"
       ]
      }
     ],
     "prompt_number": 81
    },
    {
     "cell_type": "markdown",
     "metadata": {},
     "source": [
      "So, cold core mass is 2478, 2198, 2104 and 1276 $M_{\\odot}$ in each simulation."
     ]
    },
    {
     "cell_type": "heading",
     "level": 3,
     "metadata": {},
     "source": [
      "Disk Mass at Final Snapshot"
     ]
    },
    {
     "cell_type": "code",
     "collapsed": false,
     "input": [
      "snaplist = ((355, 269, 201, 200), (665, 575, 502, 501),(974, 880, 802, 800), (1283, 1184, 1100, 1100), \n",
      "            (1592, 1489, 1401, 1400), (1900, 1794, 1701, 1700))\n",
      "m8all = []\n",
      "for n0,n1,n2,n3 in snaplist:\n",
      "    snap0 = sim0.load_snapshot(n0, 'ndensity', 'masses')\n",
      "    snap1 = sim1.load_snapshot(n1, 'ndensity', 'masses')\n",
      "    snap2 = sim2.load_snapshot(n2, 'ndensity', 'masses')\n",
      "    snap3 = sim3.load_snapshot(n3, 'ndensity', 'masses')\n",
      "    m8 = []\n",
      "    for snap in [snap0, snap1, snap2, snap3]:\n",
      "        dens = snap.gas.get_number_density()\n",
      "        mass = snap.gas.get_masses()\n",
      "        (m,) = pyGadget.analyze.data_slice(dens >= 1e8, mass)\n",
      "        m8.append(m.sum())\n",
      "    m8all.append(m8)"
     ],
     "language": "python",
     "metadata": {},
     "outputs": [
      {
       "output_type": "stream",
       "stream": "stdout",
       "text": [
        "Turning on gas particle refinement.\n",
        "There are"
       ]
      },
      {
       "output_type": "stream",
       "stream": "stdout",
       "text": [
        " 8000000 highest resolution particles.\n",
        "Loading data...\n",
        "Turning on gas particle refinement."
       ]
      },
      {
       "output_type": "stream",
       "stream": "stdout",
       "text": [
        "\n",
        "There are"
       ]
      },
      {
       "output_type": "stream",
       "stream": "stdout",
       "text": [
        " 8000000 highest resolution particles.\n",
        "Loading data...\n",
        "Turning on gas particle refinement."
       ]
      },
      {
       "output_type": "stream",
       "stream": "stdout",
       "text": [
        "\n",
        "There are"
       ]
      },
      {
       "output_type": "stream",
       "stream": "stdout",
       "text": [
        " 8000000 highest resolution particles.\n",
        "Loading data...\n",
        "Turning on gas particle refinement."
       ]
      },
      {
       "output_type": "stream",
       "stream": "stdout",
       "text": [
        "\n",
        "There are"
       ]
      },
      {
       "output_type": "stream",
       "stream": "stdout",
       "text": [
        " 8000000 highest resolution particles.\n",
        "Loading data...\n",
        "Turning on gas particle refinement."
       ]
      },
      {
       "output_type": "stream",
       "stream": "stdout",
       "text": [
        "\n",
        "There are"
       ]
      },
      {
       "output_type": "stream",
       "stream": "stdout",
       "text": [
        " 7998938 highest resolution particles.\n",
        "Loading data...\n",
        "Turning on gas particle refinement."
       ]
      },
      {
       "output_type": "stream",
       "stream": "stdout",
       "text": [
        "\n",
        "There are"
       ]
      },
      {
       "output_type": "stream",
       "stream": "stdout",
       "text": [
        " 7999483 highest resolution particles.\n",
        "Loading data...\n",
        "Turning on gas particle refinement."
       ]
      },
      {
       "output_type": "stream",
       "stream": "stdout",
       "text": [
        "\n",
        "There are"
       ]
      },
      {
       "output_type": "stream",
       "stream": "stdout",
       "text": [
        " 7999057 highest resolution particles.\n",
        "Loading data...\n",
        "Turning on gas particle refinement."
       ]
      },
      {
       "output_type": "stream",
       "stream": "stdout",
       "text": [
        "\n",
        "There are"
       ]
      },
      {
       "output_type": "stream",
       "stream": "stdout",
       "text": [
        " 7999643 highest resolution particles.\n",
        "Loading data...\n",
        "Turning on gas particle refinement."
       ]
      },
      {
       "output_type": "stream",
       "stream": "stdout",
       "text": [
        "\n",
        "There are"
       ]
      },
      {
       "output_type": "stream",
       "stream": "stdout",
       "text": [
        " 7998137 highest resolution particles.\n",
        "Loading data...\n",
        "Turning on gas particle refinement."
       ]
      },
      {
       "output_type": "stream",
       "stream": "stdout",
       "text": [
        "\n",
        "There are"
       ]
      },
      {
       "output_type": "stream",
       "stream": "stdout",
       "text": [
        " 7999085 highest resolution particles.\n",
        "Loading data...\n",
        "Turning on gas particle refinement."
       ]
      },
      {
       "output_type": "stream",
       "stream": "stdout",
       "text": [
        "\n",
        "There are"
       ]
      },
      {
       "output_type": "stream",
       "stream": "stdout",
       "text": [
        " 7998515 highest resolution particles.\n",
        "Loading data...\n",
        "Turning on gas particle refinement."
       ]
      },
      {
       "output_type": "stream",
       "stream": "stdout",
       "text": [
        "\n",
        "There are"
       ]
      },
      {
       "output_type": "stream",
       "stream": "stdout",
       "text": [
        " 7999565 highest resolution particles.\n",
        "Loading data...\n",
        "Turning on gas particle refinement."
       ]
      },
      {
       "output_type": "stream",
       "stream": "stdout",
       "text": [
        "\n",
        "There are"
       ]
      },
      {
       "output_type": "stream",
       "stream": "stdout",
       "text": [
        " 7997730 highest resolution particles.\n",
        "Loading data...\n",
        "Turning on gas particle refinement."
       ]
      },
      {
       "output_type": "stream",
       "stream": "stdout",
       "text": [
        "\n",
        "There are"
       ]
      },
      {
       "output_type": "stream",
       "stream": "stdout",
       "text": [
        " 7998665 highest resolution particles.\n",
        "Loading data...\n",
        "Turning on gas particle refinement."
       ]
      },
      {
       "output_type": "stream",
       "stream": "stdout",
       "text": [
        "\n",
        "There are"
       ]
      },
      {
       "output_type": "stream",
       "stream": "stdout",
       "text": [
        " 7998063 highest resolution particles.\n",
        "Loading data...\n",
        "Turning on gas particle refinement."
       ]
      },
      {
       "output_type": "stream",
       "stream": "stdout",
       "text": [
        "\n",
        "There are"
       ]
      },
      {
       "output_type": "stream",
       "stream": "stdout",
       "text": [
        " 7999427 highest resolution particles.\n",
        "Loading data...\n",
        "Turning on gas particle refinement."
       ]
      },
      {
       "output_type": "stream",
       "stream": "stdout",
       "text": [
        "\n",
        "There are"
       ]
      },
      {
       "output_type": "stream",
       "stream": "stdout",
       "text": [
        " 7997612 highest resolution particles.\n",
        "Loading data...\n",
        "Turning on gas particle refinement."
       ]
      },
      {
       "output_type": "stream",
       "stream": "stdout",
       "text": [
        "\n",
        "There are"
       ]
      },
      {
       "output_type": "stream",
       "stream": "stdout",
       "text": [
        " 7998619 highest resolution particles.\n",
        "Loading data...\n",
        "Turning on gas particle refinement."
       ]
      },
      {
       "output_type": "stream",
       "stream": "stdout",
       "text": [
        "\n",
        "There are"
       ]
      },
      {
       "output_type": "stream",
       "stream": "stdout",
       "text": [
        " 7996420 highest resolution particles.\n",
        "Loading data...\n",
        "Turning on gas particle refinement."
       ]
      },
      {
       "output_type": "stream",
       "stream": "stdout",
       "text": [
        "\n",
        "There are"
       ]
      },
      {
       "output_type": "stream",
       "stream": "stdout",
       "text": [
        " 7999380 highest resolution particles.\n",
        "Loading data...\n",
        "Turning on gas particle refinement."
       ]
      },
      {
       "output_type": "stream",
       "stream": "stdout",
       "text": [
        "\n",
        "There are"
       ]
      },
      {
       "output_type": "stream",
       "stream": "stdout",
       "text": [
        " 7997231 highest resolution particles.\n",
        "Loading data...\n",
        "Turning on gas particle refinement."
       ]
      },
      {
       "output_type": "stream",
       "stream": "stdout",
       "text": [
        "\n",
        "There are"
       ]
      },
      {
       "output_type": "stream",
       "stream": "stdout",
       "text": [
        " 7998436 highest resolution particles.\n",
        "Loading data...\n",
        "Turning on gas particle refinement."
       ]
      },
      {
       "output_type": "stream",
       "stream": "stdout",
       "text": [
        "\n",
        "There are"
       ]
      },
      {
       "output_type": "stream",
       "stream": "stdout",
       "text": [
        " 7995003 highest resolution particles.\n",
        "Loading data...\n",
        "Turning on gas particle refinement."
       ]
      },
      {
       "output_type": "stream",
       "stream": "stdout",
       "text": [
        "\n",
        "There are"
       ]
      },
      {
       "output_type": "stream",
       "stream": "stdout",
       "text": [
        " 7999275 highest resolution particles.\n",
        "Loading data...\n"
       ]
      },
      {
       "metadata": {},
       "output_type": "pyout",
       "prompt_number": 113,
       "text": [
        "[[65.966283108694, 22.082309280677137, 52.096524971869499, 11.979098880688015],\n",
        " [78.181714396399599,\n",
        "  30.560734382422314,\n",
        "  84.178649224460116,\n",
        "  15.952437473665963],\n",
        " [86.940784231474197,\n",
        "  38.315391487675782,\n",
        "  99.00850776479389,\n",
        "  18.493010849101935],\n",
        " [91.002747477085023,\n",
        "  41.299088126268607,\n",
        "  106.17233385250637,\n",
        "  19.970088392960104],\n",
        " [94.976086070065321,\n",
        "  43.130664280651999,\n",
        "  117.45720628758083,\n",
        "  20.280274677170233],\n",
        " [99.023278540231544,\n",
        "  46.764275038541882,\n",
        "  125.92086061388619,\n",
        "  21.373312059625114]]"
       ]
      }
     ],
     "prompt_number": 113
    },
    {
     "cell_type": "code",
     "collapsed": false,
     "input": [
      "dm = pd.DataFrame(m8all,index=[0, 1000, 2000, 3000, 4000, 5000], columns=['J=0', 'J0', 'J10', 'J100'])\n",
      "dm"
     ],
     "language": "python",
     "metadata": {},
     "outputs": [
      {
       "html": [
        "<div style=\"max-height:1000px;max-width:1500px;overflow:auto;\">\n",
        "<table border=\"1\" class=\"dataframe\">\n",
        "  <thead>\n",
        "    <tr style=\"text-align: right;\">\n",
        "      <th></th>\n",
        "      <th>J=0</th>\n",
        "      <th>J0</th>\n",
        "      <th>J10</th>\n",
        "      <th>J100</th>\n",
        "    </tr>\n",
        "  </thead>\n",
        "  <tbody>\n",
        "    <tr>\n",
        "      <th>0   </th>\n",
        "      <td> 65.966283</td>\n",
        "      <td> 22.082309</td>\n",
        "      <td>  52.096525</td>\n",
        "      <td> 11.979099</td>\n",
        "    </tr>\n",
        "    <tr>\n",
        "      <th>1000</th>\n",
        "      <td> 78.181714</td>\n",
        "      <td> 30.560734</td>\n",
        "      <td>  84.178649</td>\n",
        "      <td> 15.952437</td>\n",
        "    </tr>\n",
        "    <tr>\n",
        "      <th>2000</th>\n",
        "      <td> 86.940784</td>\n",
        "      <td> 38.315391</td>\n",
        "      <td>  99.008508</td>\n",
        "      <td> 18.493011</td>\n",
        "    </tr>\n",
        "    <tr>\n",
        "      <th>3000</th>\n",
        "      <td> 91.002747</td>\n",
        "      <td> 41.299088</td>\n",
        "      <td> 106.172334</td>\n",
        "      <td> 19.970088</td>\n",
        "    </tr>\n",
        "    <tr>\n",
        "      <th>4000</th>\n",
        "      <td> 94.976086</td>\n",
        "      <td> 43.130664</td>\n",
        "      <td> 117.457206</td>\n",
        "      <td> 20.280275</td>\n",
        "    </tr>\n",
        "    <tr>\n",
        "      <th>5000</th>\n",
        "      <td> 99.023279</td>\n",
        "      <td> 46.764275</td>\n",
        "      <td> 125.920861</td>\n",
        "      <td> 21.373312</td>\n",
        "    </tr>\n",
        "  </tbody>\n",
        "</table>\n",
        "<p>6 rows \u00d7 4 columns</p>\n",
        "</div>"
       ],
       "metadata": {},
       "output_type": "pyout",
       "prompt_number": 117,
       "text": [
        "            J=0         J0         J10       J100\n",
        "0     65.966283  22.082309   52.096525  11.979099\n",
        "1000  78.181714  30.560734   84.178649  15.952437\n",
        "2000  86.940784  38.315391   99.008508  18.493011\n",
        "3000  91.002747  41.299088  106.172334  19.970088\n",
        "4000  94.976086  43.130664  117.457206  20.280275\n",
        "5000  99.023279  46.764275  125.920861  21.373312\n",
        "\n",
        "[6 rows x 4 columns]"
       ]
      }
     ],
     "prompt_number": 117
    },
    {
     "cell_type": "code",
     "collapsed": false,
     "input": [
      "dm.plot()"
     ],
     "language": "python",
     "metadata": {},
     "outputs": [
      {
       "metadata": {},
       "output_type": "pyout",
       "prompt_number": 118,
       "text": [
        "<matplotlib.axes.AxesSubplot at 0x7575750>"
       ]
      },
      {
       "metadata": {},
       "output_type": "display_data",
       "png": "[encoded data removed]",
       "text": [
        "<matplotlib.figure.Figure at 0x574b510>"
       ]
      }
     ],
     "prompt_number": 118
    },
    {
     "cell_type": "code",
     "collapsed": false,
     "input": [
      "snap = sim2.load_snapshot(1701, 'ndensity', 'masses', 'coordinates', 'velocities')\n",
      "xyz = snap.gas.get_coords('AU',centering='avg')\n",
      "uvw = snap.gas.get_velocities()\n",
      "dens = snap.gas.get_number_density()\n",
      "xyz, uvw, dens, mass = pyGadget.analyze.data_slice(snap.gas.ndensity > 1e8, snap.gas.coordinates, snap.gas.velocities,\n",
      "                                                   snap.gas.ndensity, snap.gas.masses)"
     ],
     "language": "python",
     "metadata": {},
     "outputs": [
      {
       "output_type": "stream",
       "stream": "stdout",
       "text": [
        "Turning on gas particle refinement.\n",
        "There are"
       ]
      },
      {
       "output_type": "stream",
       "stream": "stdout",
       "text": [
        " 7995003 highest resolution particles.\n",
        "Loading data...\n",
        "Warning: Not Re-centering particle Velocities!"
       ]
      },
      {
       "output_type": "stream",
       "stream": "stdout",
       "text": [
        "\n",
        "Center averaged over 3528 particles"
       ]
      },
      {
       "output_type": "stream",
       "stream": "stdout",
       "text": [
        "\n",
        "Center averaged over all particles with density greater than 1.00e+08 particles/cc\n",
        "Density averaged box center: 5.355e+08 5.365e+08 5.291e+08\n",
        "Center averaged over 3528 particles"
       ]
      },
      {
       "output_type": "stream",
       "stream": "stdout",
       "text": [
        "\n",
        "Center averaged over all particles with density greater than 1.00e+08 particles/cc\n",
        "Density averaged box center: -4.538e-01 1.481e-01 1.523e+00\n"
       ]
      }
     ],
     "prompt_number": 91
    },
    {
     "cell_type": "code",
     "collapsed": false,
     "input": [
      "centroids,_ = kmeans(xyz, 4)\n",
      "idx,_ = vq(xyz, centroids)"
     ],
     "language": "python",
     "metadata": {},
     "outputs": [],
     "prompt_number": 94
    },
    {
     "cell_type": "code",
     "collapsed": false,
     "input": [
      "plt.plot(-xyz[idx==0,0],-xyz[idx==0,1],'ok',\n",
      "         -xyz[idx==1,0],-xyz[idx==1,1],'ob',\n",
      "         -xyz[idx==2,0],-xyz[idx==2,1],'og',\n",
      "         -xyz[idx==3,0],-xyz[idx==3,1],'or')\n",
      "plt.xlabel('AU')\n",
      "plt.ylabel('AU')"
     ],
     "language": "python",
     "metadata": {},
     "outputs": [
      {
       "metadata": {},
       "output_type": "pyout",
       "prompt_number": 95,
       "text": [
        "<matplotlib.text.Text at 0x3f18f10>"
       ]
      },
      {
       "metadata": {},
       "output_type": "display_data",
       "png": "[encoded data removed]",
       "text": [
        "<matplotlib.figure.Figure at 0x3f2a3d0>"
       ]
      }
     ],
     "prompt_number": 95
    },
    {
     "cell_type": "code",
     "collapsed": false,
     "input": [
      "m = mass[idx==2]"
     ],
     "language": "python",
     "metadata": {},
     "outputs": [],
     "prompt_number": 96
    },
    {
     "cell_type": "code",
     "collapsed": false,
     "input": [
      "m.sum()"
     ],
     "language": "python",
     "metadata": {},
     "outputs": [
      {
       "metadata": {},
       "output_type": "pyout",
       "prompt_number": 97,
       "text": [
        "66.113990863080843"
       ]
      }
     ],
     "prompt_number": 97
    },
    {
     "cell_type": "code",
     "collapsed": false,
     "input": [
      "np.unique(mass)"
     ],
     "language": "python",
     "metadata": {},
     "outputs": [
      {
       "metadata": {},
       "output_type": "pyout",
       "prompt_number": 103,
       "text": [
        "array([  1.47707754e-02,   3.27911215e+00,   6.52868274e+00,\n",
        "         1.01475227e+01,   1.10189985e+01,   1.85668647e+01,\n",
        "         2.43570087e+01])"
       ]
      }
     ],
     "prompt_number": 103
    },
    {
     "cell_type": "code",
     "collapsed": false,
     "input": [
      "mass.sum()"
     ],
     "language": "python",
     "metadata": {},
     "outputs": [
      {
       "metadata": {},
       "output_type": "pyout",
       "prompt_number": 98,
       "text": [
        "125.92086061388619"
       ]
      }
     ],
     "prompt_number": 98
    },
    {
     "cell_type": "markdown",
     "metadata": {},
     "source": [
      "So, total mass of the central disk feature in each simulation in order is 99, 46, **66** and 21 $M_{\\odot}$\n",
      "\n",
      "Total cold dense ($n>10^8$) gas in each simulation is 99, 46, **125**, and 21 $M_{\\odot}$."
     ]
    },
    {
     "cell_type": "heading",
     "level": 3,
     "metadata": {},
     "source": [
      "Disk Mass vs Sink Mass"
     ]
    },
    {
     "cell_type": "code",
     "collapsed": false,
     "input": [
      "disk = np.array([99.023278540231544, 46.764275038541882, 66.113990863080843, 21.373312059625114])\n",
      "sink = np.array([41., 23.3, 43., 10.7])"
     ],
     "language": "python",
     "metadata": {},
     "outputs": [],
     "prompt_number": 99
    },
    {
     "cell_type": "code",
     "collapsed": false,
     "input": [
      "sink/disk"
     ],
     "language": "python",
     "metadata": {},
     "outputs": [
      {
       "metadata": {},
       "output_type": "pyout",
       "prompt_number": 100,
       "text": [
        "array([ 0.41404406,  0.49824358,  0.65039184,  0.50062433])"
       ]
      }
     ],
     "prompt_number": 100
    },
    {
     "cell_type": "code",
     "collapsed": false,
     "input": [
      "disk = np.array([99.023278540231544, 46.764275038541882, 125.92086061388619, 21.373312059625114])\n",
      "sink = np.array([41., 23.3, 43.+30.9, 10.7])"
     ],
     "language": "python",
     "metadata": {},
     "outputs": [],
     "prompt_number": 104
    },
    {
     "cell_type": "code",
     "collapsed": false,
     "input": [
      "sink/disk"
     ],
     "language": "python",
     "metadata": {},
     "outputs": [
      {
       "metadata": {},
       "output_type": "pyout",
       "prompt_number": 105,
       "text": [
        "array([ 0.41404406,  0.49824358,  0.58687655,  0.50062433])"
       ]
      }
     ],
     "prompt_number": 105
    }
   ],
   "metadata": {}
  }
 ]
}