{
 "cells": [
  {
   "cell_type": "code",
   "execution_count": 115,
   "metadata": {
    "collapsed": false
   },
   "outputs": [],
   "source": [
    "%matplotlib inline\n",
    "from matplotlib import pyplot as plt\n",
    "from scipy.cluster.vq import kmeans,vq\n",
    "import numpy as np\n",
    "import pandas as pd\n",
    "import pyGadget"
   ]
  },
  {
   "cell_type": "code",
   "execution_count": 5,
   "metadata": {
    "collapsed": false
   },
   "outputs": [],
   "source": [
    "sim0 = pyGadget.sim.Simulation('stampede/vanilla')\n",
    "sim1 = pyGadget.sim.Simulation('stampede/XR_sfr_1e-3')\n",
    "sim2 = pyGadget.sim.Simulation('stampede/XR_sfr_1e-2')\n",
    "sim3 = pyGadget.sim.Simulation('stampede/XR_sfr_1e-1')\n",
    "simX = pyGadget.sim.Simulation('stampede/XR_sfr_1e-0')\n",
    "\n",
    "halo0 = pyGadget.halo.Halo(sim0)\n",
    "halo1 = pyGadget.halo.Halo(sim1)\n",
    "halo2 = pyGadget.halo.Halo(sim2)\n",
    "halo3 = pyGadget.halo.Halo(sim3)\n",
    "haloX = pyGadget.halo.Halo(simX)\n",
    "\n",
    "name = ['J = 0', 'J = J$_0$', 'J = 10 J$_0$', 'J = 100 J$_0$', 'J = 1000 J$_0$']"
   ]
  },
  {
   "cell_type": "markdown",
   "metadata": {},
   "source": [
    "### Calculate Difference in Sink Formation Time"
   ]
  },
  {
   "cell_type": "code",
   "execution_count": 25,
   "metadata": {
    "collapsed": false
   },
   "outputs": [],
   "source": [
    "n0, n1, n2, n3, tag = 355, 269, 201, 200, '_t0'\n",
    "#n0, n1, n2, n3, tag = 665, 575, 502, 501, '_t1k'\n",
    "#n0, n1, n2, n3, tag = 974, 880, 802, 800, '_t2k'\n",
    "#n0, n1, n2, n3, tag = 1283, 1184, 1100, 1100, '_t3k'\n",
    "#n0, n1, n2, n3, tag = 1592, 1489, 1401, 1400, '_t4k'\n",
    "#n0, n1, n2, n3, tag = 1900, 1794, 1701, 1700, '_t5k'"
   ]
  },
  {
   "cell_type": "code",
   "execution_count": 26,
   "metadata": {
    "collapsed": false
   },
   "outputs": [],
   "source": [
    "x = 'radius'\n",
    "y = 'total_gas'\n",
    "z = 'redshift'\n",
    "fields = (x,y,z)\n",
    "\n",
    "halo0.load(n0, *fields)\n",
    "halo1.load(n1, *fields)\n",
    "halo2.load(n2, *fields)\n",
    "halo3.load(n3, *fields)"
   ]
  },
  {
   "cell_type": "code",
   "execution_count": 27,
   "metadata": {
    "collapsed": false
   },
   "outputs": [
    {
     "name": "stdout",
     "output_type": "stream",
     "text": [
      "[    72.34561411  24020.50089157     25.03796438]\n",
      "[    72.34561411  21768.65186344     25.77417933]\n",
      "[    72.34561411  19180.8415483      26.67704075]\n",
      "[    72.34561411  11881.37543031     26.63172921]\n"
     ]
    }
   ],
   "source": [
    "print halo0.data[-2]\n",
    "print halo1.data[-1]\n",
    "print halo2.data[-1]\n",
    "print halo3.data[-1]"
   ]
  },
  {
   "cell_type": "code",
   "execution_count": 28,
   "metadata": {
    "collapsed": false
   },
   "outputs": [
    {
     "data": {
      "text/plain": [
       "977814043.838273"
      ]
     },
     "execution_count": 28,
     "metadata": {},
     "output_type": "execute_result"
    }
   ],
   "source": [
    "pyGadget.units.Time_yr"
   ]
  },
  {
   "cell_type": "code",
   "execution_count": 29,
   "metadata": {
    "collapsed": false
   },
   "outputs": [],
   "source": [
    "a0 = 1./(1 + halo0.data[-1, -1])\n",
    "a1 = 1./(1 + halo1.data[-1, -1])\n",
    "a2 = 1./(1 + halo2.data[-1, -1])\n",
    "a3 = 1./(1 + halo3.data[-1, -1])\n",
    "\n",
    "t0 = a0 * pyGadget.units.Time_yr\n",
    "t1 = a1 * pyGadget.units.Time_yr\n",
    "t2 = a2 * pyGadget.units.Time_yr\n",
    "t3 = a3 * pyGadget.units.Time_yr"
   ]
  },
  {
   "cell_type": "code",
   "execution_count": 30,
   "metadata": {
    "collapsed": false
   },
   "outputs": [
    {
     "name": "stdout",
     "output_type": "stream",
     "text": [
      "[0.038405460020081036, 0.037349417430586812, 0.036131030376071814, 0.036190279378597978] 2\n"
     ]
    }
   ],
   "source": [
    "sc = [a0, a1, a2, a3]\n",
    "print sc, argmin(sc)"
   ]
  },
  {
   "cell_type": "code",
   "execution_count": 24,
   "metadata": {
    "collapsed": false
   },
   "outputs": [
    {
     "name": "stdout",
     "output_type": "stream",
     "text": [
      "2.22397e+06\n"
     ]
    }
   ],
   "source": [
    "print \"{:.5e}\".format(t0 - t2)"
   ]
  },
  {
   "cell_type": "markdown",
   "metadata": {},
   "source": [
    "So, sim0, sim1, sim2 and sim3 form at $z = 25.04$, $25.77$, $26.68$ and $26.63$ respectively.\n",
    "\n",
    "This is good for at time difference of $2.2$ million years."
   ]
  },
  {
   "cell_type": "markdown",
   "metadata": {},
   "source": [
    "### Calculate Total Gas Mass above 100 cc at Sink Formation"
   ]
  },
  {
   "cell_type": "code",
   "execution_count": 36,
   "metadata": {
    "collapsed": false
   },
   "outputs": [
    {
     "name": "stdout",
     "output_type": "stream",
     "text": [
      "Turning on gas particle refinement.\n",
      "There are 8000000 highest resolution particles.\n",
      "Loading data...\n",
      "Turning on gas particle refinement.\n",
      "There are 8000000 highest resolution particles.\n",
      "Loading data...\n",
      "Turning on gas particle refinement.\n",
      "There are 8000000 highest resolution particles.\n",
      "Loading data...\n",
      "Turning on gas particle refinement.\n",
      "There are 8000000 highest resolution particles.\n",
      "Loading data...\n"
     ]
    }
   ],
   "source": [
    "n0, n1, n2, n3, tag = 355, 269, 201, 200, '_t0'\n",
    "snap0 = sim0.load_snapshot(n0, 'ndensity', 'masses')\n",
    "snap1 = sim1.load_snapshot(n1, 'ndensity', 'masses')\n",
    "snap2 = sim2.load_snapshot(n2, 'ndensity', 'masses')\n",
    "snap3 = sim3.load_snapshot(n3, 'ndensity', 'masses')"
   ]
  },
  {
   "cell_type": "code",
   "execution_count": 82,
   "metadata": {
    "collapsed": false
   },
   "outputs": [],
   "source": [
    "m10 = []\n",
    "m100 = []\n",
    "for snap in [snap0, snap1, snap2, snap3]:\n",
    "    dens = snap.gas.get_number_density()\n",
    "    mass = snap.gas.get_masses()\n",
    "    (m,) = pyGadget.analyze.data_slice(dens >= 10, mass)\n",
    "    m10.append(m.sum())\n",
    "    (m,) = pyGadget.analyze.data_slice(dens >= 100, mass)\n",
    "    m100.append(m.sum())\n",
    "    snap.close()"
   ]
  },
  {
   "cell_type": "code",
   "execution_count": 80,
   "metadata": {
    "collapsed": false
   },
   "outputs": [
    {
     "data": {
      "text/plain": [
       "[4533.38731451077, 4347.6743549213534, 3703.2401933110255, 1966.2708556098048]"
      ]
     },
     "execution_count": 80,
     "metadata": {},
     "output_type": "execute_result"
    }
   ],
   "source": [
    "m10"
   ]
  },
  {
   "cell_type": "code",
   "execution_count": 81,
   "metadata": {
    "collapsed": false
   },
   "outputs": [
    {
     "data": {
      "text/plain": [
       "[2478.1373076587702,\n",
       " 2198.5708409325402,\n",
       " 2104.1560443290605,\n",
       " 1276.1654563433501]"
      ]
     },
     "execution_count": 81,
     "metadata": {},
     "output_type": "execute_result"
    }
   ],
   "source": [
    "m100"
   ]
  },
  {
   "cell_type": "markdown",
   "metadata": {},
   "source": [
    "So, cold core mass is 2478, 2198, 2104 and 1276 $M_{\\odot}$ in each simulation."
   ]
  },
  {
   "cell_type": "markdown",
   "metadata": {},
   "source": [
    "### Disk Mass at Final Snapshot"
   ]
  },
  {
   "cell_type": "code",
   "execution_count": 113,
   "metadata": {
    "collapsed": false
   },
   "outputs": [
    {
     "name": "stdout",
     "output_type": "stream",
     "text": [
      "Turning on gas particle refinement.\n",
      "There are 8000000 highest resolution particles.\n",
      "Loading data...\n",
      "Turning on gas particle refinement.\n",
      "There are 8000000 highest resolution particles.\n",
      "Loading data...\n",
      "Turning on gas particle refinement.\n",
      "There are 8000000 highest resolution particles.\n",
      "Loading data...\n",
      "Turning on gas particle refinement.\n",
      "There are 8000000 highest resolution particles.\n",
      "Loading data...\n",
      "Turning on gas particle refinement.\n",
      "There are 7998938 highest resolution particles.\n",
      "Loading data...\n",
      "Turning on gas particle refinement.\n",
      "There are 7999483 highest resolution particles.\n",
      "Loading data...\n",
      "Turning on gas particle refinement.\n",
      "There are 7999057 highest resolution particles.\n",
      "Loading data...\n",
      "Turning on gas particle refinement.\n",
      "There are 7999643 highest resolution particles.\n",
      "Loading data...\n",
      "Turning on gas particle refinement.\n",
      "There are 7998137 highest resolution particles.\n",
      "Loading data...\n",
      "Turning on gas particle refinement.\n",
      "There are 7999085 highest resolution particles.\n",
      "Loading data...\n",
      "Turning on gas particle refinement.\n",
      "There are 7998515 highest resolution particles.\n",
      "Loading data...\n",
      "Turning on gas particle refinement.\n",
      "There are 7999565 highest resolution particles.\n",
      "Loading data...\n",
      "Turning on gas particle refinement.\n",
      "There are 7997730 highest resolution particles.\n",
      "Loading data...\n",
      "Turning on gas particle refinement.\n",
      "There are 7998665 highest resolution particles.\n",
      "Loading data...\n",
      "Turning on gas particle refinement.\n",
      "There are 7998063 highest resolution particles.\n",
      "Loading data...\n",
      "Turning on gas particle refinement.\n",
      "There are 7999427 highest resolution particles.\n",
      "Loading data...\n",
      "Turning on gas particle refinement.\n",
      "There are 7997612 highest resolution particles.\n",
      "Loading data...\n",
      "Turning on gas particle refinement.\n",
      "There are 7998619 highest resolution particles.\n",
      "Loading data...\n",
      "Turning on gas particle refinement.\n",
      "There are 7996420 highest resolution particles.\n",
      "Loading data...\n",
      "Turning on gas particle refinement.\n",
      "There are 7999380 highest resolution particles.\n",
      "Loading data...\n",
      "Turning on gas particle refinement.\n",
      "There are 7997231 highest resolution particles.\n",
      "Loading data...\n",
      "Turning on gas particle refinement.\n",
      "There are 7998436 highest resolution particles.\n",
      "Loading data...\n",
      "Turning on gas particle refinement.\n",
      "There are 7995003 highest resolution particles.\n",
      "Loading data...\n",
      "Turning on gas particle refinement.\n",
      "There are 7999275 highest resolution particles.\n",
      "Loading data...\n"
     ]
    },
    {
     "data": {
      "text/plain": [
       "[[65.966283108694, 22.082309280677137, 52.096524971869499, 11.979098880688015],\n",
       " [78.181714396399599,\n",
       "  30.560734382422314,\n",
       "  84.178649224460116,\n",
       "  15.952437473665963],\n",
       " [86.940784231474197,\n",
       "  38.315391487675782,\n",
       "  99.00850776479389,\n",
       "  18.493010849101935],\n",
       " [91.002747477085023,\n",
       "  41.299088126268607,\n",
       "  106.17233385250637,\n",
       "  19.970088392960104],\n",
       " [94.976086070065321,\n",
       "  43.130664280651999,\n",
       "  117.45720628758083,\n",
       "  20.280274677170233],\n",
       " [99.023278540231544,\n",
       "  46.764275038541882,\n",
       "  125.92086061388619,\n",
       "  21.373312059625114]]"
      ]
     },
     "execution_count": 113,
     "metadata": {},
     "output_type": "execute_result"
    }
   ],
   "source": [
    "snaplist = ((355, 269, 201, 200), (665, 575, 502, 501),(974, 880, 802, 800), (1283, 1184, 1100, 1100), \n",
    "            (1592, 1489, 1401, 1400), (1900, 1794, 1701, 1700))\n",
    "m8all = []\n",
    "for n0,n1,n2,n3 in snaplist:\n",
    "    snap0 = sim0.load_snapshot(n0, 'ndensity', 'masses')\n",
    "    snap1 = sim1.load_snapshot(n1, 'ndensity', 'masses')\n",
    "    snap2 = sim2.load_snapshot(n2, 'ndensity', 'masses')\n",
    "    snap3 = sim3.load_snapshot(n3, 'ndensity', 'masses')\n",
    "    m8 = []\n",
    "    for snap in [snap0, snap1, snap2, snap3]:\n",
    "        dens = snap.gas.get_number_density()\n",
    "        mass = snap.gas.get_masses()\n",
    "        (m,) = pyGadget.analyze.data_slice(dens >= 1e8, mass)\n",
    "        m8.append(m.sum())\n",
    "    m8all.append(m8)"
   ]
  },
  {
   "cell_type": "code",
   "execution_count": 117,
   "metadata": {
    "collapsed": false
   },
   "outputs": [
    {
     "data": {
      "text/html": [
       "<div style=\"max-height:1000px;max-width:1500px;overflow:auto;\">\n",
       "<table border=\"1\" class=\"dataframe\">\n",
       "  <thead>\n",
       "    <tr style=\"text-align: right;\">\n",
       "      <th></th>\n",
       "      <th>J=0</th>\n",
       "      <th>J0</th>\n",
       "      <th>J10</th>\n",
       "      <th>J100</th>\n",
       "    </tr>\n",
       "  </thead>\n",
       "  <tbody>\n",
       "    <tr>\n",
       "      <th>0   </th>\n",
       "      <td> 65.966283</td>\n",
       "      <td> 22.082309</td>\n",
       "      <td>  52.096525</td>\n",
       "      <td> 11.979099</td>\n",
       "    </tr>\n",
       "    <tr>\n",
       "      <th>1000</th>\n",
       "      <td> 78.181714</td>\n",
       "      <td> 30.560734</td>\n",
       "      <td>  84.178649</td>\n",
       "      <td> 15.952437</td>\n",
       "    </tr>\n",
       "    <tr>\n",
       "      <th>2000</th>\n",
       "      <td> 86.940784</td>\n",
       "      <td> 38.315391</td>\n",
       "      <td>  99.008508</td>\n",
       "      <td> 18.493011</td>\n",
       "    </tr>\n",
       "    <tr>\n",
       "      <th>3000</th>\n",
       "      <td> 91.002747</td>\n",
       "      <td> 41.299088</td>\n",
       "      <td> 106.172334</td>\n",
       "      <td> 19.970088</td>\n",
       "    </tr>\n",
       "    <tr>\n",
       "      <th>4000</th>\n",
       "      <td> 94.976086</td>\n",
       "      <td> 43.130664</td>\n",
       "      <td> 117.457206</td>\n",
       "      <td> 20.280275</td>\n",
       "    </tr>\n",
       "    <tr>\n",
       "      <th>5000</th>\n",
       "      <td> 99.023279</td>\n",
       "      <td> 46.764275</td>\n",
       "      <td> 125.920861</td>\n",
       "      <td> 21.373312</td>\n",
       "    </tr>\n",
       "  </tbody>\n",
       "</table>\n",
       "<p>6 rows × 4 columns</p>\n",
       "</div>"
      ],
      "text/plain": [
       "            J=0         J0         J10       J100\n",
       "0     65.966283  22.082309   52.096525  11.979099\n",
       "1000  78.181714  30.560734   84.178649  15.952437\n",
       "2000  86.940784  38.315391   99.008508  18.493011\n",
       "3000  91.002747  41.299088  106.172334  19.970088\n",
       "4000  94.976086  43.130664  117.457206  20.280275\n",
       "5000  99.023279  46.764275  125.920861  21.373312\n",
       "\n",
       "[6 rows x 4 columns]"
      ]
     },
     "execution_count": 117,
     "metadata": {},
     "output_type": "execute_result"
    }
   ],
   "source": [
    "dm = pd.DataFrame(m8all,index=[0, 1000, 2000, 3000, 4000, 5000], columns=['J=0', 'J0', 'J10', 'J100'])\n",
    "dm"
   ]
  },
  {
   "cell_type": "code",
   "execution_count": 118,
   "metadata": {
    "collapsed": false
   },
   "outputs": [
    {
     "data": {
      "text/plain": [
       "<matplotlib.axes.AxesSubplot at 0x7575750>"
      ]
     },
     "execution_count": 118,
     "metadata": {},
     "output_type": "execute_result"
    },
    {
     "data": {
      "image/png": "[encoded data removed]",
      "text/plain": [
       "<matplotlib.figure.Figure at 0x574b510>"
      ]
     },
     "metadata": {},
     "output_type": "display_data"
    }
   ],
   "source": [
    "dm.plot()"
   ]
  },
  {
   "cell_type": "code",
   "execution_count": 91,
   "metadata": {
    "collapsed": false
   },
   "outputs": [
    {
     "name": "stdout",
     "output_type": "stream",
     "text": [
      "Turning on gas particle refinement.\n",
      "There are 7995003 highest resolution particles.\n",
      "Loading data...\n",
      "Warning: Not Re-centering particle Velocities!\n",
      "Center averaged over 3528 particles\n",
      "Center averaged over all particles with density greater than 1.00e+08 particles/cc\n",
      "Density averaged box center: 5.355e+08 5.365e+08 5.291e+08\n",
      "Center averaged over 3528 particles\n",
      "Center averaged over all particles with density greater than 1.00e+08 particles/cc\n",
      "Density averaged box center: -4.538e-01 1.481e-01 1.523e+00\n"
     ]
    }
   ],
   "source": [
    "snap = sim2.load_snapshot(1701, 'ndensity', 'masses', 'coordinates', 'velocities')\n",
    "xyz = snap.gas.get_coords('AU',centering='avg')\n",
    "uvw = snap.gas.get_velocities()\n",
    "dens = snap.gas.get_number_density()\n",
    "xyz, uvw, dens, mass = pyGadget.analyze.data_slice(snap.gas.ndensity > 1e8, snap.gas.coordinates, snap.gas.velocities,\n",
    "                                                   snap.gas.ndensity, snap.gas.masses)"
   ]
  },
  {
   "cell_type": "code",
   "execution_count": 94,
   "metadata": {
    "collapsed": false
   },
   "outputs": [],
   "source": [
    "centroids,_ = kmeans(xyz, 4)\n",
    "idx,_ = vq(xyz, centroids)"
   ]
  },
  {
   "cell_type": "code",
   "execution_count": 95,
   "metadata": {
    "collapsed": false
   },
   "outputs": [
    {
     "data": {
      "text/plain": [
       "<matplotlib.text.Text at 0x3f18f10>"
      ]
     },
     "execution_count": 95,
     "metadata": {},
     "output_type": "execute_result"
    },
    {
     "data": {
      "image/png": "[encoded data removed]",
      "text/plain": [
       "<matplotlib.figure.Figure at 0x3f2a3d0>"
      ]
     },
     "metadata": {},
     "output_type": "display_data"
    }
   ],
   "source": [
    "plt.plot(-xyz[idx==0,0],-xyz[idx==0,1],'ok',\n",
    "         -xyz[idx==1,0],-xyz[idx==1,1],'ob',\n",
    "         -xyz[idx==2,0],-xyz[idx==2,1],'og',\n",
    "         -xyz[idx==3,0],-xyz[idx==3,1],'or')\n",
    "plt.xlabel('AU')\n",
    "plt.ylabel('AU')"
   ]
  },
  {
   "cell_type": "code",
   "execution_count": 96,
   "metadata": {
    "collapsed": false
   },
   "outputs": [],
   "source": [
    "m = mass[idx==2]"
   ]
  },
  {
   "cell_type": "code",
   "execution_count": 97,
   "metadata": {
    "collapsed": false
   },
   "outputs": [
    {
     "data": {
      "text/plain": [
       "66.113990863080843"
      ]
     },
     "execution_count": 97,
     "metadata": {},
     "output_type": "execute_result"
    }
   ],
   "source": [
    "m.sum()"
   ]
  },
  {
   "cell_type": "code",
   "execution_count": 103,
   "metadata": {
    "collapsed": false
   },
   "outputs": [
    {
     "data": {
      "text/plain": [
       "array([  1.47707754e-02,   3.27911215e+00,   6.52868274e+00,\n",
       "         1.01475227e+01,   1.10189985e+01,   1.85668647e+01,\n",
       "         2.43570087e+01])"
      ]
     },
     "execution_count": 103,
     "metadata": {},
     "output_type": "execute_result"
    }
   ],
   "source": [
    "np.unique(mass)"
   ]
  },
  {
   "cell_type": "code",
   "execution_count": 98,
   "metadata": {
    "collapsed": false
   },
   "outputs": [
    {
     "data": {
      "text/plain": [
       "125.92086061388619"
      ]
     },
     "execution_count": 98,
     "metadata": {},
     "output_type": "execute_result"
    }
   ],
   "source": [
    "mass.sum()"
   ]
  },
  {
   "cell_type": "markdown",
   "metadata": {},
   "source": [
    "So, total mass of the central disk feature in each simulation in order is 99, 46, **66** and 21 $M_{\\odot}$\n",
    "\n",
    "Total cold dense ($n>10^8$) gas in each simulation is 99, 46, **125**, and 21 $M_{\\odot}$."
   ]
  },
  {
   "cell_type": "markdown",
   "metadata": {},
   "source": [
    "### Disk Mass vs Sink Mass"
   ]
  },
  {
   "cell_type": "code",
   "execution_count": 99,
   "metadata": {
    "collapsed": false
   },
   "outputs": [],
   "source": [
    "disk = np.array([99.023278540231544, 46.764275038541882, 66.113990863080843, 21.373312059625114])\n",
    "sink = np.array([41., 23.3, 43., 10.7])"
   ]
  },
  {
   "cell_type": "code",
   "execution_count": 100,
   "metadata": {
    "collapsed": false
   },
   "outputs": [
    {
     "data": {
      "text/plain": [
       "array([ 0.41404406,  0.49824358,  0.65039184,  0.50062433])"
      ]
     },
     "execution_count": 100,
     "metadata": {},
     "output_type": "execute_result"
    }
   ],
   "source": [
    "sink/disk"
   ]
  },
  {
   "cell_type": "code",
   "execution_count": 104,
   "metadata": {
    "collapsed": false
   },
   "outputs": [],
   "source": [
    "disk = np.array([99.023278540231544, 46.764275038541882, 125.92086061388619, 21.373312059625114])\n",
    "sink = np.array([41., 23.3, 43.+30.9, 10.7])"
   ]
  },
  {
   "cell_type": "code",
   "execution_count": 105,
   "metadata": {
    "collapsed": false
   },
   "outputs": [
    {
     "data": {
      "text/plain": [
       "array([ 0.41404406,  0.49824358,  0.58687655,  0.50062433])"
      ]
     },
     "execution_count": 105,
     "metadata": {},
     "output_type": "execute_result"
    }
   ],
   "source": [
    "sink/disk"
   ]
  }
 ],
 "metadata": {
  "kernelspec": {
   "display_name": "Python 2",
   "language": "python",
   "name": "python2"
  },
  "language_info": {
   "codemirror_mode": {
    "name": "ipython",
    "version": 2
   },
   "file_extension": ".py",
   "mimetype": "text/x-python",
   "name": "python",
   "nbconvert_exporter": "python",
   "pygments_lexer": "ipython2",
   "version": "2.7.9"
  }
 },
 "nbformat": 4,
 "nbformat_minor": 0
}
