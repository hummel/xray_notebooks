{
 "cells": [
  {
   "cell_type": "code",
   "execution_count": null,
   "metadata": {
    "collapsed": false
   },
   "outputs": [],
   "source": [
    "%matplotlib inline\n",
    "import os\n",
    "import numpy as np\n",
    "import pandas as pd\n",
    "from scipy import stats\n",
    "import matplotlib as mpl\n",
    "import seaborn as sns\n",
    "import matplotlib.pyplot as plt\n",
    "import pyGadget as pyg"
   ]
  },
  {
   "cell_type": "code",
   "execution_count": null,
   "metadata": {
    "collapsed": false
   },
   "outputs": [],
   "source": [
    "palette = [\"#404040\", \"#4C72B0\", \"#55A868\", \"#C44E52\", \"#8172B2\"]\n",
    "sns.set(context='paper', style='ticks', palette=palette, font='serif', font_scale=1.6)\n",
    "mpl.rc('text', usetex=True)"
   ]
  },
  {
   "cell_type": "code",
   "execution_count": null,
   "metadata": {
    "collapsed": false
   },
   "outputs": [],
   "source": [
    "simname = {'vanilla': r'J = 0',\n",
    "        'xr_tau2_J0': r'J = J$_{0}$', \n",
    "        'xr_tau2_J1': r'J = 10 J$_{0}$', \n",
    "        'xr_tau2_J2': r'J = 10$^2$ J$_{0}$',\n",
    "        'xr_tau2_J3': r'J = 10$^3$ J$_{0}$'}\n",
    "simlist = ['vanilla', 'xr_tau2_J0', 'xr_tau2_J1', 'xr_tau2_J2', 'xr_tau2_J3']"
   ]
  },
  {
   "cell_type": "code",
   "execution_count": null,
   "metadata": {
    "collapsed": false
   },
   "outputs": [],
   "source": [
    "simV = pyg.sim.Simulation('stampede/vanilla',length='AU', mass='solar', refine=False)\n",
    "sim0 = pyg.sim.Simulation('stampede/xr_tau2_J0',length='AU', mass='solar', refine=False)\n",
    "sim1 = pyg.sim.Simulation('stampede/xr_tau2_J1',length='AU', mass='solar', refine=False)\n",
    "sim2 = pyg.sim.Simulation('stampede/xr_tau2_J2',length='AU', mass='solar', refine=False)\n",
    "nV, n0, n1, n2, tag = 355, 255, 169, 227, '_t0'\n",
    "snapV = simV.load_snapshot(nV)\n",
    "snap0 = sim0.load_snapshot(n0)\n",
    "snap1 = sim1.load_snapshot(n1)\n",
    "snap2 = sim2.load_snapshot(n2)\n",
    "t0 = [snapV, snap0, snap1, snap2]\n",
    "nV, n0, n1, n2, tag = 1900, 1778, 1669, 1727, '_t5k'\n",
    "snapV = simV.load_snapshot(nV)\n",
    "snap0 = sim0.load_snapshot(n0)\n",
    "snap1 = sim1.load_snapshot(n1)\n",
    "snap2 = sim2.load_snapshot(n2)\n",
    "t5k = [snapV, snap0, snap1, snap2]\n"
   ]
  },
  {
   "cell_type": "code",
   "execution_count": null,
   "metadata": {
    "collapsed": false
   },
   "outputs": [],
   "source": [
    "for t, snaplist in zip([0,5000], [t0,t5k]):\n",
    "    for i, snap in enumerate(snaplist):\n",
    "        print t, snap.number, snap.header.Redshift"
   ]
  },
  {
   "cell_type": "code",
   "execution_count": null,
   "metadata": {
    "collapsed": false
   },
   "outputs": [],
   "source": [
    "rdisk = 20000 #AU\n",
    "\n",
    "face = [[('x', 0.29518), ('z', 0.825), ('x',np.pi/2)],\n",
    "        [('z', 1.16486), ('x',np.pi/2)],\n",
    "        [('y', 1.87084), ('z', 2.1885), ('x',np.pi/2)],\n",
    "        [('y', 0.95307), ('z', 1.5884), ('x',np.pi/2)]\n",
    "       ]\n",
    "\n",
    "disk = pd.DataFrame()\n",
    "for t, snaplist in zip([0,5000], [t0,t5k]):\n",
    "    for i, snap in enumerate(snaplist):\n",
    "        snap.gas.cleanup()\n",
    "        print '\\n'+snap.sim.name, t\n",
    "        pos = snap.gas.get_coords(system='spherical', centering='avg', view=face[i])\n",
    "        indisk = np.where(snap.gas.spherical_coords[:,0] <= rdisk)[0]\n",
    "        print '   ', indisk.size, \"particles inside\", rdisk, snap.sim.units.length_unit\n",
    "        pos = pos[indisk]\n",
    "        vel = snap.gas.get_velocities(system='spherical')[indisk]\n",
    "        mass = snap.gas.get_masses()[indisk]\n",
    "        dens = snap.gas.get_number_density()[indisk]\n",
    "        temp = snap.gas.get_temperature()[indisk]\n",
    "        data = np.column_stack((pos[:,0],vel[:,0],vel[:,2],mass,dens,temp))\n",
    "        cols = ['radius', 'vr', 'vphi', 'mass', 'density', 'temperature']\n",
    "        df = pd.DataFrame(data, columns=cols)\n",
    "        df['sim'] = snap.sim.name.split('/')[1]\n",
    "        df['time'] = t\n",
    "        disk = pd.concat((disk, df))\n",
    "        snap.gas.cleanup()\n",
    "        snap.close()"
   ]
  },
  {
   "cell_type": "code",
   "execution_count": null,
   "metadata": {
    "collapsed": false
   },
   "outputs": [],
   "source": [
    "disk['cs'] = np.sqrt(pyg.constants.k_B * disk.temperature / pyg.constants.m_H)\n",
    "disk['omega'] = disk.vphi / (disk.radius * 149597871)\n",
    "disk['shu_acc'] = 0.975 * disk.cs**3 / pyg.constants.GRAVITY / 1.989e33 * 3.15569e7 * 1e3"
   ]
  },
  {
   "cell_type": "code",
   "execution_count": null,
   "metadata": {
    "collapsed": false
   },
   "outputs": [],
   "source": [
    "diskbins = np.linspace(0,1.1e4,21)\n",
    "rcm = diskbins * 1.49597871e13\n",
    "area = np.pi * (rcm[1:]**2 - rcm[:-1]**2)\n",
    "midpoints = diskbins[:-1] + np.diff(diskbins)/2\n",
    "# bin the data\n",
    "grouped = disk.groupby(['time', 'sim', pd.cut(disk.radius, diskbins, labels=diskbins[:-1])])\n",
    "binned = grouped.mean()\n",
    "binned.rename(columns={'radius':'r_avg'}, inplace=True)\n",
    "binned['mass'] = grouped['mass'].sum()\n",
    "binned['area'] = np.concatenate([area]*8)\n",
    "binned['sigma'] = binned.mass / binned.area * 1.989e33\n",
    "binned['q'] = binned.cs * binned.omega / (np.pi * pyg.constants.GRAVITY * binned.sigma)\n",
    "binned.reset_index('sim',inplace=True)\n",
    "binned.reset_index('time',inplace=True)"
   ]
  },
  {
   "cell_type": "code",
   "execution_count": null,
   "metadata": {
    "collapsed": false
   },
   "outputs": [],
   "source": [
    "with sns.axes_style(\"ticks\"):\n",
    "    fig, ax = plt.subplots(1, 1, sharex=True, sharey=True, figsize=(8,5))\n",
    "\n",
    "for i, time in enumerate([5000]):\n",
    "    for sim in simlist[:-1]:\n",
    "        df = binned[(binned.sim == sim) & (binned.time == time)]\n",
    "        ax.plot(df.index,df.q,\n",
    "                      ls='-', label=simname[sim], marker='o', ms=5, lw=2.5)\n",
    "        ax.axhline(1.0, color='.5', zorder=1)\n",
    "ax.set_ylim(.1,1.9)\n",
    "ax.set_xlim(1e2, 1e4)\n",
    "\n",
    "ax.legend(loc=0)\n",
    "ax.set_ylabel('Q')\n",
    "ax.set_xlabel(\"Radius [AU]\")\n",
    "fig.subplots_adjust(hspace=0.01)\n",
    "sns.despine()\n",
    "fig.savefig('figures/radial_bins/toomreQ.png', bbox_inches='tight')"
   ]
  },
  {
   "cell_type": "code",
   "execution_count": null,
   "metadata": {
    "collapsed": true
   },
   "outputs": [],
   "source": []
  }
 ],
 "metadata": {
  "kernelspec": {
   "display_name": "Python 2",
   "language": "python",
   "name": "python2"
  },
  "language_info": {
   "codemirror_mode": {
    "name": "ipython",
    "version": 2
   },
   "file_extension": ".py",
   "mimetype": "text/x-python",
   "name": "python",
   "nbconvert_exporter": "python",
   "pygments_lexer": "ipython2",
   "version": "2.7.10"
  }
 },
 "nbformat": 4,
 "nbformat_minor": 0
}
