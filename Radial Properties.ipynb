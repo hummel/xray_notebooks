{
 "cells": [
  {
   "cell_type": "markdown",
   "metadata": {},
   "source": [
    "# The First Stars: Formation under X-ray Feedback -- Phase Diagrams"
   ]
  },
  {
   "cell_type": "code",
   "execution_count": null,
   "metadata": {
    "collapsed": false
   },
   "outputs": [],
   "source": [
    "%matplotlib inline\n",
    "import os\n",
    "import numpy as np\n",
    "import pandas as pd\n",
    "import matplotlib as mpl\n",
    "from matplotlib import pyplot as plt\n",
    "import pyGadget"
   ]
  },
  {
   "cell_type": "code",
   "execution_count": null,
   "metadata": {
    "collapsed": false
   },
   "outputs": [],
   "source": [
    "import seaborn as sns\n",
    "sns.set_style('white')\n",
    "mpl.rc('font', size=20.)\n",
    "mpl.rc('font', family='serif')\n",
    "mpl.rc('text', usetex=True)"
   ]
  },
  {
   "cell_type": "code",
   "execution_count": null,
   "metadata": {
    "collapsed": false
   },
   "outputs": [],
   "source": [
    "simV = pyGadget.sim.Simulation('stampede/vanilla',length='AU', mass='solar', track_sinks=True)\n",
    "sim0 = pyGadget.sim.Simulation('stampede/xr_tau2_J0',length='AU', mass='solar', track_sinks=True)\n",
    "sim1 = pyGadget.sim.Simulation('stampede/xr_tau2_J1',length='AU', mass='solar', track_sinks=True)\n",
    "sim2 = pyGadget.sim.Simulation('stampede/xr_tau2_J2',length='AU', mass='solar', track_sinks=True)\n",
    "#sim3 = pyGadget.sim.Simulation('stampede/xr_tau2_J3',length='AU', mass='solar', track_sinks=True)"
   ]
  },
  {
   "cell_type": "code",
   "execution_count": null,
   "metadata": {
    "collapsed": false
   },
   "outputs": [],
   "source": [
    "#n0, n1, n2, n3, tag = 100, 102, 202, 135, '_z26'\n",
    "#n0, n1, n2, n3, tag = 615, 609, 236, 277, ''\n",
    "#n0, n1, n2, n3, tag = 355, 269, 201, 200, '_t0'\n",
    "nV, n0, n1, n2 = 355, 255, 169, 227\n",
    "#n0, n1, n2, n3, tag = 665, 575, 502, 501, '_t1k'\n",
    "#n0, n1, n2, n3, tag = 974, 880, 802, 800, '_t2k'\n",
    "#n0, n1, n2, n3, tag = 1128, 1032, 951, 950, '_t2500'\n",
    "#n0, n1, n2, n3, tag = 1283, 1184, 1100, 1100, '_t3k'\n",
    "#n0, n1, n2, n3, tag = 1437, 1337, 1251, 1250, '_t3500'\n",
    "#n0, n1, n2, n3, tag = 1592, 1489, 1401, 1400, '_t4k'\n",
    "#n0, n1, n2, n3, tag = 1900, 1794, 1701, 1700, '_t5k'"
   ]
  },
  {
   "cell_type": "code",
   "execution_count": null,
   "metadata": {
    "collapsed": false
   },
   "outputs": [],
   "source": [
    "snapV = simV.load_snapshot(nV, 'ndensity', 'temp', 'masses', 'coordinates')\n",
    "snap0 = sim0.load_snapshot(n0, 'ndensity', 'temp', 'masses', 'coordinates')\n",
    "snap1 = sim1.load_snapshot(n1, 'ndensity', 'temp', 'masses', 'coordinates')\n",
    "snap2 = sim2.load_snapshot(n2, 'ndensity', 'temp', 'masses', 'coordinates')\n",
    "#snap3 = sim3.load_snapshot(n3, 'ndensity', 'temp', 'masses', 'coordinates')\n",
    "snaplist = [snapV, snap0, snap1, snap2]"
   ]
  },
  {
   "cell_type": "code",
   "execution_count": null,
   "metadata": {
    "collapsed": false
   },
   "outputs": [],
   "source": [
    "for snap in snaplist:\n",
    "    xyz = snap.gas.get_coords()\n",
    "    uvw = snap.gas.get_velocities()\n",
    "    snap.update_sink_frame_ofR(xyz, uvw)\n",
    "    i = 0\n",
    "    #print 'Locating sink...'\n",
    "    #while snap.sinks[i].pid != snap.sim.sink1.sink_id:\n",
    "    #    i += 1\n",
    "    #print 'Done'\n",
    "    #sink = snap.sinks[i]\n",
    "    #sinkpos = (sink.x, sink.y, sink.z)\n",
    "    #sinkvel = (sink.vx, sink.vy, sink.vz)\n",
    "    pos = snap.gas.get_coords(system='spherical', centering='avg')\n",
    "                              #center=sinkpos, vcenter=sinkvel)\n",
    "    snap.update_sink_frame_ofR(snap.gas.coordinates, snap.gas.velocities)"
   ]
  },
  {
   "cell_type": "code",
   "execution_count": null,
   "metadata": {
    "collapsed": false
   },
   "outputs": [],
   "source": [
    "r1, r2, r3, r4, r5 = 1e3, 2e3, 3e3, 4e3, 5e3\n",
    "r1List = []\n",
    "r2List = []\n",
    "r3List = []\n",
    "r4List = []\n",
    "r5List = []\n",
    "for snap in snaplist:\n",
    "    print snap.sim.name\n",
    "    inR1 = np.where(snap.gas.spherical_coords[:,0] <= r1)[0]\n",
    "    print '   ', inR1.size, \"particles inside\", r1, snap.sim.units.length_unit\n",
    "    inR2 = np.where((snap.gas.spherical_coords[:,0] > r1) & (snap.gas.spherical_coords[:,0] <= r2))[0]\n",
    "    print '   ', inR2.size, \"particles between\", r1, 'and', r2, snap.sim.units.length_unit\n",
    "    inR3 = np.where((snap.gas.spherical_coords[:,0] > r2) & (snap.gas.spherical_coords[:,0] <= r3))[0]\n",
    "    print '   ', inR3.size, \"particles between\", r2, 'and', r3, snap.sim.units.length_unit\n",
    "    inR4 = np.where((snap.gas.spherical_coords[:,0] > r3) & (snap.gas.spherical_coords[:,0] <= r4))[0]\n",
    "    print '   ', inR4.size, \"particles between\", r3, 'and', r4, snap.sim.units.length_unit\n",
    "    inR5 = np.where((snap.gas.spherical_coords[:,0] > r4) & (snap.gas.spherical_coords[:,0] <= r5))[0]\n",
    "    print '   ', inR5.size, \"particles between\", r4, 'and', r5, snap.sim.units.length_unit\n",
    "    r1List.append(inR1)\n",
    "    r2List.append(inR2)\n",
    "    r3List.append(inR3)\n",
    "    r4List.append(inR4)\n",
    "    r5List.append(inR5)\n",
    "rls = [r1List, r2List, r3List, r4List, r5List]"
   ]
  },
  {
   "cell_type": "code",
   "execution_count": null,
   "metadata": {
    "collapsed": false
   },
   "outputs": [],
   "source": [
    "m1List = []\n",
    "m2List = []\n",
    "m3List = []\n",
    "m4List = []\n",
    "m5List = []\n",
    "mls = [m1List, m2List, m3List, m4List, m5List]\n",
    "for i,snap in enumerate(snaplist):\n",
    "    for j, ml in enumerate(mls):\n",
    "        ml.append(snap.gas.masses[rls[j][i]].sum())"
   ]
  },
  {
   "cell_type": "code",
   "execution_count": null,
   "metadata": {
    "collapsed": false
   },
   "outputs": [],
   "source": [
    "n1List = []\n",
    "n2List = []\n",
    "n3List = []\n",
    "n4List = []\n",
    "n5List = []\n",
    "nls = [n1List, n2List, n3List, n4List, n5List]\n",
    "for i,snap in enumerate(snaplist):\n",
    "    for j, nl in enumerate(nls):\n",
    "        nl.append(snap.gas.ndensity[rls[j][i]].mean())"
   ]
  },
  {
   "cell_type": "code",
   "execution_count": null,
   "metadata": {
    "collapsed": false
   },
   "outputs": [],
   "source": [
    "T1List = []\n",
    "T2List = []\n",
    "T3List = []\n",
    "T4List = []\n",
    "T5List = []\n",
    "TLs = [T1List, T2List, T3List, T4List, T5List]\n",
    "for i,snap in enumerate(snaplist):\n",
    "    for j,TL in enumerate(TLs):\n",
    "        T = pyGadget.analyze.reject_outliers(snap.gas.temp[rls[j][i]])\n",
    "        TL.append(T.mean())"
   ]
  },
  {
   "cell_type": "code",
   "execution_count": null,
   "metadata": {
    "collapsed": false
   },
   "outputs": [],
   "source": [
    "mdata = pd.DataFrame(mls,index=['r1e3', 'r2e3', 'r3e3', 'r4e3','r5e3'], columns=['J=0', 'J0', 'J1', 'J2'])\n",
    "ndata = pd.DataFrame(nls,index=['r1e3', 'r2e3', 'r3e3', 'r4e3','r5e3'], columns=['J=0', 'J0', 'J1', 'J2'])\n",
    "Tdata = pd.DataFrame(TLs,index=['r1e3', 'r2e3', 'r3e3', 'r4e3','r5e3'], columns=['J=0', 'J0', 'J1', 'J2'])"
   ]
  },
  {
   "cell_type": "code",
   "execution_count": null,
   "metadata": {
    "collapsed": false
   },
   "outputs": [],
   "source": [
    "mdata"
   ]
  },
  {
   "cell_type": "code",
   "execution_count": null,
   "metadata": {
    "collapsed": false
   },
   "outputs": [],
   "source": [
    "ax = mdata.plot(grid=False, figsize=(12,9), lw=3)\n",
    "ax.set_xlabel('Radius [$10^3$ AU]')\n",
    "ax.set_ylabel('Mass [M$_{\\odot}$]')"
   ]
  },
  {
   "cell_type": "code",
   "execution_count": null,
   "metadata": {
    "collapsed": false
   },
   "outputs": [],
   "source": [
    "ax = ndata.plot(grid=False, logy=True, figsize=(12,9), lw=3)\n",
    "ax.set_xlabel('Radius [AU]')\n",
    "ndata"
   ]
  },
  {
   "cell_type": "code",
   "execution_count": null,
   "metadata": {
    "collapsed": false
   },
   "outputs": [],
   "source": [
    "ax = Tdata.plot(grid=False, figsize=(12,9), lw=3)\n",
    "ax.set_xlabel('Radius [AU]')\n",
    "Tdata"
   ]
  },
  {
   "cell_type": "markdown",
   "metadata": {},
   "source": [
    "## Density - Temperature phase diagram"
   ]
  },
  {
   "cell_type": "code",
   "execution_count": null,
   "metadata": {
    "collapsed": false
   },
   "outputs": [],
   "source": [
    "def plot_temp(ax, snap, selection, **kwargs):\n",
    "    dens = snap.gas.get_number_density()\n",
    "    temp = snap.gas.get_temperature()\n",
    "    #ax.hexbin(dens[selection],temp[selection], gridsize=250, bins='log', xscale='log', yscale='log', mincnt=1)\n",
    "    ax.scatter(dens[selection],temp[selection], **kwargs)\n",
    "    ax.set_xscale('log')\n",
    "    ax.set_yscale('log')\n",
    "    ax.axhline(2.725 * (snap.header.Redshift + 1),\n",
    "               linestyle='--', color='k')\n",
    "    return ax\n",
    "    \n",
    "#with sns.axes_style(\"white\"):\n",
    "fig, axarr = plt.subplots(5,4, sharex=True, sharey=True, figsize=(16,16))\n",
    "for i,snap in enumerate(snaplist):\n",
    "    for j, ml in enumerate(mls):\n",
    "        axarr[j,i] = plot_temp(axarr[j,i], snap, rls[j][i], s=1, c='k')\n",
    "        #axarr[j,i].plot(ndata.iat[j,i], Tdata.iat[j,i], 'ro', ms=8)\n",
    "        axarr[j,i].text(.03,.05, '{:.2f}'.format(mdata.iat[j,i]) + r'$\\,$M$_{\\odot}$', \n",
    "                        ha='left', va='bottom', size=20, transform=axarr[j,i].transAxes)\n",
    "        \n",
    "axarr[0,0].set_xlim(1e5, 1.5e12)\n",
    "axarr[0,0].set_ylim(10, 2e4)\n",
    "for a in axarr[:, 0]:\n",
    "    a.set_ylabel('Temperature [K]')\n",
    "for a in axarr[-1, :]:\n",
    "    a.set_xlabel('n [cm$^{-3}$]') \n",
    "\n",
    "plt.setp([a.get_xticklabels()[1::2] for a in axarr[-1, :]], visible=False)\n",
    "fig.subplots_adjust(hspace=0, wspace=0)\n",
    "\n",
    "axarr[0,0].set_title(r'J = 0')\n",
    "axarr[0,1].set_title(r'J = J$_{0}$')\n",
    "axarr[0,2].set_title(r'J = 10 J$_{0}$')\n",
    "axarr[0,3].set_title(r'J = 100 J$_{0}$')\n",
    "\n",
    "axarr[0,0].text(.03,.95, r'$r\\leq 10^3$ AU', ha='left', va='top', size=20, transform=axarr[0,0].transAxes)\n",
    "axarr[1,0].text(.03,.95, r'$1 < r \\leq 2$', ha='left', va='top', size=20, transform=axarr[1,0].transAxes)\n",
    "axarr[2,0].text(.03,.95, r'$2 < r \\leq 3$', ha='left', va='top', size=20, transform=axarr[2,0].transAxes)\n",
    "axarr[3,0].text(.03,.95, r'$3 < r \\leq 4$', ha='left', va='top', size=20, transform=axarr[3,0].transAxes)\n",
    "axarr[4,0].text(.03,.95, r'$4 < r \\leq 5$', ha='left', va='top', size=20, transform=axarr[4,0].transAxes)\n",
    "\n",
    "fig.savefig('figures/radial_bins/temp.png', bbox_inches='tight')"
   ]
  },
  {
   "cell_type": "code",
   "execution_count": null,
   "metadata": {
    "collapsed": false
   },
   "outputs": [],
   "source": [
    "def plot_temp(ax, snap, selection, **kwargs):\n",
    "    dens = snap.gas.get_number_density()\n",
    "    temp = snap.gas.get_temperature()\n",
    "    cmb = kwargs.pop('cmb', True)\n",
    "    #ax.hexbin(dens[selection],temp[selection], gridsize=250, bins='log', xscale='log', yscale='log', mincnt=1)\n",
    "    ax.scatter(dens[selection],temp[selection], **kwargs)\n",
    "    ax.set_xscale('log')\n",
    "    ax.set_yscale('log')\n",
    "    if cmb:\n",
    "        ax.axhline(2.725 * (snap.header.Redshift + 1),\n",
    "                   linestyle='--', color='k')\n",
    "    return ax\n",
    "    \n",
    "clist = ['k', 'b', 'g', 'r', 'orange']\n",
    "markCMB = [False, False, False, True, False]\n",
    "#with sns.axes_style(\"white\"):\n",
    "fig, axarr = plt.subplots(4,1, sharex=True, sharey=True, figsize=(9,16))\n",
    "for i,snap in enumerate(snaplist):\n",
    "    for j in xrange(4):\n",
    "        axarr[j] = plot_temp(axarr[j], snap, rls[j][i], cmb=markCMB[i], edgecolor=clist[i], s=3, c=clist[i])\n",
    "        #axarr[j,i].plot(ndata.iat[j,i], Tdata.iat[j,i], 'ro', ms=8)\n",
    "        #axarr[j].text(.03,.05, '{:.2f}'.format(mdata.iat[j,i]) + r'$\\,$M$_{\\odot}$', \n",
    "        #              ha='left', va='bottom', size=20, transform=axarr[j].transAxes)\n",
    "        \n",
    "axarr[0].set_xlim(1e5, 1.5e12)\n",
    "axarr[0].set_ylim(50, 2e3)\n",
    "for a in axarr[:]:\n",
    "    a.set_ylabel('T [K]')\n",
    "axarr[-1].set_xlabel('n [cm$^{-3}$]') \n",
    "\n",
    "plt.setp(axarr[-1].get_xticklabels()[1::2], visible=False)\n",
    "fig.subplots_adjust(hspace=0, wspace=0)\n",
    "'''\n",
    "axarr[0,0].set_title(r'J = 0')\n",
    "axarr[0,1].set_title(r'J = J$_{0}$')\n",
    "axarr[0,2].set_title(r'J = 10 J$_{0}$')\n",
    "axarr[0,3].set_title(r'J = 100 J$_{0}$')\n",
    "'''\n",
    "axarr[0].text(.03,.95, r'$\\leq 1000\\,$AU', ha='left', va='top', size=20, transform=axarr[0].transAxes)\n",
    "axarr[1].text(.03,.95, r'$1000-2000\\,$AU', ha='left', va='top', size=20, transform=axarr[1].transAxes)\n",
    "axarr[2].text(.03,.95, r'$2000-3000\\,$AU', ha='left', va='top', size=20, transform=axarr[2].transAxes)\n",
    "axarr[3].text(.03,.95, r'$3000-4000\\,$AU', ha='left', va='top', size=20, transform=axarr[3].transAxes)\n",
    "\n",
    "fig.savefig('figures/radial_bins/temp-overlay.png', bbox_inches='tight')"
   ]
  }
 ],
 "metadata": {
  "kernelspec": {
   "display_name": "Python 2",
   "language": "python",
   "name": "python2"
  },
  "language_info": {
   "codemirror_mode": {
    "name": "ipython",
    "version": 2
   },
   "file_extension": ".py",
   "mimetype": "text/x-python",
   "name": "python",
   "nbconvert_exporter": "python",
   "pygments_lexer": "ipython2",
   "version": "2.7.9"
  }
 },
 "nbformat": 4,
 "nbformat_minor": 0
}
