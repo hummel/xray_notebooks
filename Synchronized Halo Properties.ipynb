{
 "metadata": {
  "name": ""
 },
 "nbformat": 3,
 "nbformat_minor": 0,
 "worksheets": [
  {
   "cells": [
    {
     "cell_type": "code",
     "collapsed": false,
     "input": [
      "%matplotlib inline\n",
      "import numpy as np\n",
      "import pandas as pd\n",
      "import matplotlib as mpl\n",
      "from matplotlib import pyplot as plt\n",
      "mpl.rc('figure', figsize=(12,9))\n",
      "mpl.rc('font', size=20.)\n",
      "\n",
      "mpl.rc('font', family='serif')\n",
      "mpl.rc('text', usetex=True)\n",
      "mpl.rc('axes', color_cycle=['k','b','g','r','yellow'])\n",
      "\n",
      "import pyGadget"
     ],
     "language": "python",
     "metadata": {},
     "outputs": [],
     "prompt_number": 1
    },
    {
     "cell_type": "code",
     "collapsed": false,
     "input": [
      "sim0 = pyGadget.sim.Simulation('stampede/vanilla')\n",
      "sim1 = pyGadget.sim.Simulation('stampede/XR_sfr_1e-3')\n",
      "sim2 = pyGadget.sim.Simulation('stampede/XR_sfr_1e-2')\n",
      "sim3 = pyGadget.sim.Simulation('stampede/XR_sfr_1e-1')\n",
      "\n",
      "halo0 = pyGadget.halo.Halo(sim0)\n",
      "halo1 = pyGadget.halo.Halo(sim1)\n",
      "halo2 = pyGadget.halo.Halo(sim2)\n",
      "halo3 = pyGadget.halo.Halo(sim3)\n",
      "\n",
      "name = ['J = 0', 'J = J$_0$', 'J = 10 J$_0$', 'J = 100 J$_0$', 'J = 1000 J$_0$']"
     ],
     "language": "python",
     "metadata": {},
     "outputs": [],
     "prompt_number": 2
    },
    {
     "cell_type": "code",
     "collapsed": false,
     "input": [
      "t0 = pd.read_csv(sim0.plotpath+sim0.name+'/snaptimes.csv', names=[sim0.name, 'time'])\n",
      "t1 = pd.read_csv(sim1.plotpath+sim1.name+'/snaptimes.csv', names=[sim1.name, 'time'])\n",
      "t2 = pd.read_csv(sim2.plotpath+sim2.name+'/snaptimes.csv', names=[sim2.name, 'time'])\n",
      "t3 = pd.read_csv(sim3.plotpath+sim3.name+'/snaptimes.csv', names=[sim3.name, 'time'])"
     ],
     "language": "python",
     "metadata": {},
     "outputs": [],
     "prompt_number": 3
    },
    {
     "cell_type": "code",
     "collapsed": false,
     "input": [
      "for tseries, halo in [(t0, halo0), (t1, halo1), (t2, halo2), (t3, halo3)]:\n",
      "    tseries[halo.sim.name+'-mass'] = 0\n",
      "    tseries['z'] = 1/tseries.time - 1\n",
      "    for i in tseries.index:\n",
      "        halo.load(int(tseries.ix[i][halo.sim.name]), 'total_gas')\n",
      "        tseries.at[i,halo.sim.name+'-mass'] = halo.data[-1]\n",
      "    print tseries.tail()"
     ],
     "language": "python",
     "metadata": {},
     "outputs": [
      {
       "output_type": "stream",
       "stream": "stdout",
       "text": [
        "      stampede/vanilla      time  stampede/vanilla-mass          z\n",
        "1754              1754  0.038405                  27010  25.038294\n",
        "1755              1755  0.038405                  27010  25.038292\n",
        "1756              1756  0.038405                  27010  25.038289\n",
        "1757              1757  0.038405                  27010  25.038287\n",
        "1758              1900  0.038405                  27011  25.037964\n",
        "\n",
        "[5 rows x 4 columns]\n",
        "      stampede/XR_sfr_1e-3     time  stampede/XR_sfr_1e-3-mass          z\n",
        "1764                  1848  0.03735                      21768  25.774049\n",
        "1765                  1849  0.03735                      21768  25.774047\n",
        "1766                  1850  0.03735                      21768  25.774045\n",
        "1767                  1851  0.03735                      21768  25.774042\n",
        "1768                  1852  0.03735                      21769  25.774040\n",
        "\n",
        "[5 rows x 4 columns]"
       ]
      },
      {
       "output_type": "stream",
       "stream": "stdout",
       "text": [
        "\n",
        "      stampede/XR_sfr_1e-2      time  stampede/XR_sfr_1e-2-mass          z\n",
        "1718                  1726  0.036131                      19180  26.676975\n",
        "1719                  1727  0.036131                      19180  26.676973\n",
        "1720                  1728  0.036131                      19180  26.676970\n",
        "1721                  1729  0.036131                      19180  26.676968\n",
        "1722                  1730  0.036131                      19180  26.676965\n",
        "\n",
        "[5 rows x 4 columns]"
       ]
      },
      {
       "output_type": "stream",
       "stream": "stdout",
       "text": [
        "\n",
        "      stampede/XR_sfr_1e-1      time  stampede/XR_sfr_1e-1-mass          z\n",
        "1803                  1815  0.036191                      11880  26.631430\n",
        "1804                  1816  0.036191                      11880  26.631427\n",
        "1805                  1817  0.036191                      11880  26.631425\n",
        "1806                  1818  0.036191                      11880  26.631422\n",
        "1807                  1819  0.036191                      11880  26.631419\n",
        "\n",
        "[5 rows x 4 columns]"
       ]
      },
      {
       "output_type": "stream",
       "stream": "stdout",
       "text": [
        "\n"
       ]
      }
     ],
     "prompt_number": 4
    },
    {
     "cell_type": "code",
     "collapsed": false,
     "input": [
      "times = pd.merge(t0,t1, on='time', how='outer')\n",
      "times = pd.merge(times,t2, on='time', how='outer')\n",
      "times = pd.merge(times,t3, on='time', how='outer')\n",
      "times['z'] = 1/times.time - 1\n",
      "times.sort_index(by='time', inplace=True)"
     ],
     "language": "python",
     "metadata": {},
     "outputs": [],
     "prompt_number": 5
    },
    {
     "cell_type": "code",
     "collapsed": false,
     "input": [
      "#times[sim0.name+'-mass'].plot()\n",
      "for i,(tseries,sim) in enumerate([(t0,sim0), (t1,sim1), (t2,sim2), (t3,sim3)]):\n",
      "    plt.plot(tseries.z, tseries[sim.name+'-mass'], lw=2, label=name[i])\n",
      "plt.xlim(40,25)\n",
      "plt.ylim(1e3,5e4)\n",
      "plt.semilogy()\n",
      "plt.legend(loc=2)\n",
      "plt.xlabel('Redshift')\n",
      "plt.ylabel('Halo Gas [M$_{\\odot}$]')\n",
      "plt.savefig('figures/halo/enclosed_gas_z.png', bbox_inches='tight')"
     ],
     "language": "python",
     "metadata": {},
     "outputs": [
      {
       "metadata": {},
       "output_type": "display_data",
       "png": "[encoded data removed]",
       "text": [
        "<matplotlib.figure.Figure at 0x7161d50>"
       ]
      }
     ],
     "prompt_number": 12
    },
    {
     "cell_type": "heading",
     "level": 1,
     "metadata": {},
     "source": [
      "Enclosed Halo Gas Mass"
     ]
    },
    {
     "cell_type": "raw",
     "metadata": {},
     "source": [
      "x = 'radius'\n",
      "y = 'total_gas'\n",
      "\n",
      "halo0.load(n0, x, y)\n",
      "halo1.load(n1, x, y)\n",
      "halo2.load(n2, x, y)\n",
      "halo3.load(n3, x, y)\n",
      "\n",
      "lw = 2.5\n",
      "i = 0\n",
      "for halo in [halo0,halo1,halo2,halo3]:\n",
      "    r = halo.data[:,0]\n",
      "    m = halo.data[:,1]\n",
      "    plt.loglog(r, m, label=name[i], lw=lw)\n",
      "    i += 1\n",
      "plt.xlim(1e-4,1e2)\n",
      "#plt.ylim(1e-4,1e6)\n",
      "plt.legend(loc=0)\n",
      "plt.xlabel('Radius [pc]')\n",
      "plt.ylabel('Enclosed Mass [$M_{\\odot}$]')\n",
      "plt.savefig('figures/halo/halo_gas_mass'+tag+'.png', bbox_inches='tight')\n",
      "plt.show()"
     ]
    },
    {
     "cell_type": "heading",
     "level": 1,
     "metadata": {},
     "source": [
      "Halo Surface Density"
     ]
    },
    {
     "cell_type": "raw",
     "metadata": {},
     "source": [
      "x = 'radius'\n",
      "y = 'shell_gas'\n",
      "halo0.load(n0, x, y)\n",
      "halo1.load(n1, x, y)\n",
      "halo2.load(n2, x, y)\n",
      "halo3.load(n3, x, y)\n",
      "\n",
      "lw = 2.5\n",
      "i = 0\n",
      "for halo in [halo0,halo1,halo2,halo3]:\n",
      "    r = halo.data[:,0]\n",
      "    m = halo.data[:,1]\n",
      "    r2 = r * 3.08568e18\n",
      "    r1 = np.concatenate((np.array([0.]),r2[:-1]))\n",
      "    a = np.pi * (r2*r2 - r1*r1)\n",
      "    surface_dens = m/a\n",
      "    plt.loglog(r*206264.806, surface_dens, label=name[i], lw=lw)\n",
      "    i += 1\n",
      "plt.xlim(50,2e7)\n",
      "plt.legend()\n",
      "plt.xlabel('Radius [AU]')\n",
      "plt.ylabel('Surface density [g cm$^{-2}$]')\n",
      "plt.savefig('figures/halo/surface_density'+tag+'.png', bbox_inches='tight')\n",
      "plt.show()"
     ]
    }
   ],
   "metadata": {}
  }
 ]
}