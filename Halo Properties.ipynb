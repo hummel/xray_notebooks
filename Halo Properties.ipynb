{
 "cells": [
  {
   "cell_type": "code",
   "execution_count": null,
   "metadata": {
    "collapsed": false
   },
   "outputs": [],
   "source": [
    "%matplotlib inline\n",
    "import os\n",
    "import numpy as np\n",
    "import pandas as pd\n",
    "from scipy import stats\n",
    "import matplotlib as mpl\n",
    "import seaborn as sns\n",
    "import matplotlib.pyplot as plt\n",
    "import pyGadget as pyg"
   ]
  },
  {
   "cell_type": "code",
   "execution_count": null,
   "metadata": {
    "collapsed": false
   },
   "outputs": [],
   "source": [
    "palette = [\"#404040\", \"#4C72B0\", \"#55A868\", \"#C44E52\", \"#8172B2\"]\n",
    "sns.set(context='paper', style='ticks', palette=palette, font='serif', font_scale=1.6)\n",
    "mpl.rc('text', usetex=True)"
   ]
  },
  {
   "cell_type": "code",
   "execution_count": null,
   "metadata": {
    "collapsed": false
   },
   "outputs": [],
   "source": [
    "#sns.set_palette(sns.cubehelix_palette(5,start=2.7,rot=0.,gamma=0.9,hue=0.9,light=0.8,dark=0.1,reverse=True))\n",
    "#sns.set_palette(palette)"
   ]
  },
  {
   "cell_type": "code",
   "execution_count": null,
   "metadata": {
    "collapsed": false
   },
   "outputs": [],
   "source": [
    "store = pd.HDFStore(os.getenv(\"HOME\")+\"/data/stampede/radial_properties.hdf5\")\n",
    "print store.keys()\n",
    "vanilla = store['vanilla']\n",
    "j0 = store['xr_tau2_J0']\n",
    "j1 = store['xr_tau2_J1']\n",
    "j2 = store['xr_tau2_J2']\n",
    "j3 = store['xr_tau2_J3']\n",
    "store.close()\n",
    "data = {'vanilla':vanilla, 'xr_tau2_J0':j0, 'xr_tau2_J1':j1, 'xr_tau2_J2':j2, 'xr_tau2_J3':j3}\n",
    "simlist = ['vanilla', 'xr_tau2_J0', 'xr_tau2_J1', 'xr_tau2_J2', 'xr_tau2_J3']"
   ]
  },
  {
   "cell_type": "code",
   "execution_count": null,
   "metadata": {
    "collapsed": false
   },
   "outputs": [],
   "source": [
    "simname = {'vanilla': r'J = 0',\n",
    "        'xr_tau2_J0': r'J = J$_{0}$', \n",
    "        'xr_tau2_J1': r'J = 10 J$_{0}$', \n",
    "        'xr_tau2_J2': r'J = 10$^2$ J$_{0}$',\n",
    "        'xr_tau2_J3': r'J = 10$^3$ J$_{0}$'}\n",
    "sink_form = {'vanilla': 355,\n",
    "          'xr_tau2_J0': 255, \n",
    "          'xr_tau2_J1': 169,\n",
    "          'xr_tau2_J2': 227,\n",
    "          'xr_tau2_J3': 70}"
   ]
  },
  {
   "cell_type": "code",
   "execution_count": null,
   "metadata": {
    "collapsed": false,
    "scrolled": false
   },
   "outputs": [],
   "source": [
    "vanilla.info()"
   ]
  },
  {
   "cell_type": "code",
   "execution_count": null,
   "metadata": {
    "collapsed": false
   },
   "outputs": [],
   "source": [
    "sinkt0 = pd.DataFrame()\n",
    "for sim in data.keys():\n",
    "    df = data[sim]\n",
    "    df['sim'] = sim\n",
    "    df = df[df.snapshot == sink_form[sim]]\n",
    "    df['mtot'] = df.gMshell.cumsum() / 1.989e33\n",
    "    sinkt0 = pd.concat((sinkt0, df))\n",
    "sinkt0['rpc'] = sinkt0.radius / 3.08e18\n",
    "sinkt0['rau'] = sinkt0.radius / 1.49e13\n",
    "sinkt0['gMsun'] = sinkt0.gMshell / 1.989e33\n",
    "sinkt0['vr_kms'] = sinkt0.vr / 1e5\n",
    "sinkt0['vphi_kms'] = sinkt0.vphi /1e5\n",
    "sinkt0['ndensity'] = sinkt0.gdensity * pyg.constants.X_h / pyg.constants.m_H\n",
    "sinkt0['mbe'] = 700 * (sinkt0.tshell/200)**1.5 / np.sqrt(sinkt0.ndensity/1e4)\n",
    "#sinkt0['Mtot'] = "
   ]
  },
  {
   "cell_type": "code",
   "execution_count": null,
   "metadata": {
    "collapsed": false
   },
   "outputs": [],
   "source": [
    "with sns.axes_style(\"ticks\"):\n",
    "    fig, axarr = plt.subplots(4, 1, sharex=True, figsize=(6,12))\n",
    "\n",
    "for i, gasprop in enumerate(['vr_kms', 'vphi_kms', 'tshell', 'mbe']):\n",
    "    for sim in simlist[:-1]:\n",
    "        df = sinkt0[sinkt0.sim == sim]\n",
    "        axarr[i].semilogx(df.rau, df[gasprop], ls='-', marker='o', ms=3, label=simname[sim])\n",
    "axarr[2].set_yscale('log')\n",
    "axarr[3].set_yscale('log')\n",
    "axarr[0].set_ylim(-2.4,0)\n",
    "axarr[1].set_ylim(-1.5,3.9)\n",
    "axarr[2].set_ylim(80, 1.5e3)\n",
    "#axarr[3].set_ylim(1e2,1e11)\n",
    "axarr[-1].set_xlim(1e2, 1e6)\n",
    "axarr[0].legend(loc=0)\n",
    "\n",
    "axarr[0].set_ylabel('Radial Velocity [km/s]')\n",
    "axarr[1].set_ylabel('Rotational Velocity [km/s]')\n",
    "axarr[2].set_ylabel('Temperature [K]')\n",
    "axarr[3].set_ylabel('Number Density [cm$^{-3}$]')\n",
    "axarr[-1].set_xlabel(\"Radius [AU]\")\n",
    "fig.subplots_adjust(hspace=0.01)\n",
    "sns.despine()\n",
    "fig.savefig('figures/radial_bins/radial_profile.png', bbox_inches='tight')"
   ]
  },
  {
   "cell_type": "code",
   "execution_count": null,
   "metadata": {
    "collapsed": false
   },
   "outputs": [],
   "source": [
    "sinkt0"
   ]
  },
  {
   "cell_type": "code",
   "execution_count": null,
   "metadata": {
    "collapsed": false
   },
   "outputs": [],
   "source": [
    "with sns.axes_style(\"white\"):\n",
    "    fig, ax = plt.subplots()\n",
    "\n",
    "for sim in simlist:\n",
    "    df = sinkt0[sinkt0.sim == sim]\n",
    "    l, = ax.plot(df.rau, df.mtot, label=simname[sim], lw=2.5)#, marker='o')\n",
    "    #ax.plot(df.rau, df.mbe, lw = 1.5, color=l.get_c(), zorder=1, marker='o', ms=3)\n",
    "ax.set_yscale('log')\n",
    "ax.set_xscale('log')\n",
    "#ax.set_xlim(50, 1e4)\n",
    "#ax.set_ylim(.2, 1e3)\n",
    "ax.legend(loc=0)"
   ]
  },
  {
   "cell_type": "code",
   "execution_count": null,
   "metadata": {
    "collapsed": false
   },
   "outputs": [],
   "source": [
    "simV = pyg.sim.Simulation('stampede/vanilla',length='AU', mass='solar', refine=False)\n",
    "sim0 = pyg.sim.Simulation('stampede/xr_tau2_J0',length='AU', mass='solar', refine=False)\n",
    "sim1 = pyg.sim.Simulation('stampede/xr_tau2_J1',length='AU', mass='solar', refine=False)\n",
    "sim2 = pyg.sim.Simulation('stampede/xr_tau2_J2',length='AU', mass='solar', refine=False)\n",
    "nV, n0, n1, n2, tag = 355, 255, 169, 227, '_t0'\n",
    "#nV, n0, n1, n2, tag = 1900, 1778, 1669, 1727, '_t5k'\n",
    "snapV = simV.load_snapshot(nV)\n",
    "snap0 = sim0.load_snapshot(n0)\n",
    "snap1 = sim1.load_snapshot(n1)\n",
    "snap2 = sim2.load_snapshot(n2)\n",
    "snaplist = [snapV, snap0, snap1, snap2]\n",
    "redshift = [snap.header.Redshift for snap in snaplist]"
   ]
  },
  {
   "cell_type": "code",
   "execution_count": null,
   "metadata": {
    "collapsed": false
   },
   "outputs": [],
   "source": [
    "rdisk = 16000 #AU\n",
    "rcore = 2062648.06 #10 pc in AU\n",
    "\n",
    "face = [[('x', 0.29518), ('z', 0.825), ('x',np.pi/2)],\n",
    "        [('z', 1.16486), ('x',np.pi/2)],\n",
    "        [('y', 1.87084), ('z', 2.1885), ('x',np.pi/2)],\n",
    "        [('y', 0.95307), ('z', 1.5884), ('x',np.pi/2)]\n",
    "       ]\n",
    "\n",
    "disk = pd.DataFrame()\n",
    "core = pd.DataFrame()\n",
    "for i, snap in enumerate(snaplist):\n",
    "    snap.gas.cleanup()\n",
    "    print '\\n'+snap.sim.name\n",
    "    pos = snap.gas.get_coords(system='spherical', centering='avg', view=face[i])\n",
    "    incore = np.where(snap.gas.spherical_coords[:,0] <= rcore)[0]\n",
    "    print '   ', incore.size, \"particles inside\", rcore, snap.sim.units.length_unit\n",
    "    pos = pos[incore]\n",
    "    vel = snap.gas.get_velocities(system='spherical')[incore]\n",
    "    mass = snap.gas.get_masses()[incore]\n",
    "    dens = snap.gas.get_number_density()[incore]\n",
    "    temp = snap.gas.get_temperature()[incore]\n",
    "    data = np.column_stack((pos[:,0],vel[:,0],vel[:,2],mass,dens,temp))\n",
    "    cols = ['radius', 'vr', 'vphi', 'mass', 'density', 'temperature']\n",
    "    df = pd.DataFrame(data, columns=cols)\n",
    "    df['sim'] = snap.sim.name.split('/')[1]\n",
    "    core = pd.concat((core, df))\n",
    "    disk = pd.concat((disk, df[df.radius <= rdisk]))\n",
    "    snap.gas.cleanup()\n",
    "    snap.close()"
   ]
  },
  {
   "cell_type": "code",
   "execution_count": null,
   "metadata": {
    "collapsed": false
   },
   "outputs": [],
   "source": [
    "grid = sns.FacetGrid(disk, hue='sim', size=8, hue_order=simlist)\n",
    "grid.map(plt.scatter, 'radius', 'vr', s=10)\n",
    "grid.set(xlim=(0, 15e3))\n",
    "#grid.set(xlim=(0,4))#, ylim=(0,1e3))\n",
    "grid.add_legend()"
   ]
  },
  {
   "cell_type": "code",
   "execution_count": null,
   "metadata": {
    "collapsed": false
   },
   "outputs": [],
   "source": [
    "grid = sns.FacetGrid(disk, hue='sim', size=8, hue_order=simlist)\n",
    "grid.map(plt.scatter, 'radius', 'vphi', s=10)\n",
    "grid.set(xlim=(0, 15e3))\n",
    "#grid.set(xlim=(0,4))#, ylim=(0,1e3))\n",
    "grid.add_legend()"
   ]
  },
  {
   "cell_type": "code",
   "execution_count": null,
   "metadata": {
    "collapsed": false
   },
   "outputs": [],
   "source": [
    "grid = sns.FacetGrid(disk, hue='sim', size=8, hue_order=simlist)\n",
    "grid.map(plt.scatter, 'radius', 'density', s=10)\n",
    "grid.set(xlim=(0, 15e3), yscale='log')\n",
    "#grid.set(xlim=(0,4))#, ylim=(0,1e3))\n",
    "grid.add_legend()"
   ]
  },
  {
   "cell_type": "code",
   "execution_count": null,
   "metadata": {
    "collapsed": false,
    "scrolled": false
   },
   "outputs": [],
   "source": [
    "grid = sns.FacetGrid(disk, hue='sim', size=8, hue_order=simlist)\n",
    "grid.map(plt.scatter, 'radius', 'temperature', s=10)\n",
    "grid.set(xlim=(0, 15e3))\n",
    "#grid.set(xlim=(0,4))#, ylim=(0,1e3))\n",
    "grid.add_legend()"
   ]
  },
  {
   "cell_type": "code",
   "execution_count": null,
   "metadata": {
    "collapsed": false,
    "scrolled": true
   },
   "outputs": [],
   "source": [
    "bigbins = np.linspace(0,16000,17)"
   ]
  },
  {
   "cell_type": "code",
   "execution_count": null,
   "metadata": {
    "collapsed": false,
    "scrolled": true
   },
   "outputs": [],
   "source": [
    "# bin the data\n",
    "grouped = disk.groupby(['sim', pd.cut(disk.radius, bigbins)])\n",
    "mbins = grouped.mean()\n",
    "mbins.rename(columns={'radius':'r_avg'}, inplace=True)\n",
    "mbins['mass'] = grouped['mass'].sum()\n",
    "mbins.reset_index('sim',inplace=True)\n",
    "mbins.iloc[::16]"
   ]
  },
  {
   "cell_type": "code",
   "execution_count": null,
   "metadata": {
    "collapsed": false
   },
   "outputs": [],
   "source": [
    "with sns.axes_style(\"white\"):\n",
    "    fig, ax = plt.subplots()\n",
    "\n",
    "#for i, gasprop in enumerate(['vr_kms', 'vphi_kms', 'tshell', 'ndensity']):\n",
    "for sim in simlist[:-1]:\n",
    "    df = mbins[mbins.sim == sim]\n",
    "    l, = ax.step(bigbins, np.concatenate((df.mass.values[:1], df.mass.values)), label=simname[sim], lw=2.5)\n",
    "    #ax.axhline(df.Mbe.iloc[0], ls='--', color=l.get_c(), zorder=1)\n",
    "    #ax.plot(midpoints, df.Mbe, color= l.get_c(), zorder=1, marker='o', ms=4)\n",
    "ax.set_xlim(0,10e3)\n",
    "ax.set_ylim(0,37)\n",
    "ax.legend(loc=0)\n",
    "ax.set_xlabel('Radius [AU]')\n",
    "ax.set_ylabel('Mass [M$_{\\odot}$]')\n",
    "fig.savefig('figures/radial_bins/mass_bins'+tag+'.png', bbox_inches='tight')"
   ]
  },
  {
   "cell_type": "code",
   "execution_count": null,
   "metadata": {
    "collapsed": false
   },
   "outputs": [],
   "source": [
    "# calculate the Bonnor-Ebert mass\n",
    "disk['Mbe'] = 700 * (disk.temperature/200)**1.5 / np.sqrt(disk.density/1e4)\n",
    "disk['cs'] = np.sqrt(pyg.constants.k_B * disk.temperature / pyg.constants.m_H)\n",
    "disk['omega'] = disk.vphi / (disk.radius * 149597871)\n",
    "disk['shu_acc'] = 0.975 * disk.cs**3 / pyg.constants.GRAVITY / 1.989e33 * 3.15569e7 * 1e3"
   ]
  },
  {
   "cell_type": "code",
   "execution_count": null,
   "metadata": {
    "collapsed": false,
    "scrolled": true
   },
   "outputs": [],
   "source": [
    "diskbins = np.linspace(0,1e4,20)\n",
    "rcm = diskbins * 1.49597871e13\n",
    "area = np.pi * (rcm[1:]**2 - rcm[:-1]**2)\n",
    "area"
   ]
  },
  {
   "cell_type": "code",
   "execution_count": null,
   "metadata": {
    "collapsed": false
   },
   "outputs": [],
   "source": [
    "midpoints = diskbins[:-1] + np.diff(diskbins)/2"
   ]
  },
  {
   "cell_type": "code",
   "execution_count": null,
   "metadata": {
    "collapsed": false,
    "scrolled": true
   },
   "outputs": [],
   "source": [
    "# bin the data\n",
    "grouped = disk.groupby(['sim', pd.cut(disk.radius, diskbins, labels=midpoints)])\n",
    "binned = grouped.mean()\n",
    "binned.rename(columns={'radius':'r_avg'}, inplace=True)\n",
    "binned['mass'] = grouped['mass'].sum()\n",
    "binned['nbe'] = binned.mass / binned.Mbe\n",
    "binned['area'] = np.concatenate([area]*4)\n",
    "binned['sigma'] = binned.mass / binned.area * 1.989e33\n",
    "binned['q'] = binned.cs * binned.omega / (np.pi * pyg.constants.GRAVITY * binned.sigma)\n",
    "binned.reset_index('sim',inplace=True)\n",
    "binned.iloc[::20]"
   ]
  },
  {
   "cell_type": "code",
   "execution_count": null,
   "metadata": {
    "collapsed": false
   },
   "outputs": [],
   "source": [
    "with sns.axes_style(\"ticks\"):\n",
    "    fig, axarr = plt.subplots(5, 1, sharex=True, figsize=(8,15))\n",
    "\n",
    "for i, gasprop in enumerate(['vr', 'vphi', 'shu_acc', 'sigma', 'q']):\n",
    "    for sim in simlist[:-1]:\n",
    "        df = binned[binned.sim == sim]\n",
    "        axarr[i].plot(midpoints,df[gasprop],\n",
    "                      ls='-', label=simname[sim], marker='o', ms=3)\n",
    "axarr[2].set_yscale('log')\n",
    "axarr[3].set_yscale('log')\n",
    "axarr[0].set_ylim(-2.4,0)\n",
    "axarr[1].set_ylim(1,3.9)\n",
    "#axarr[0].set_ylim(-1,1)\n",
    "#axarr[1].set_ylim(0,7.9)\n",
    "#axarr[2].set_ylim(80, 1.5e3)\n",
    "#axarr[3].set_ylim(1e5,5e11)\n",
    "axarr[-1].set_xlim(1e2, 1e4)\n",
    "axarr[-1].legend(loc=0)\n",
    "\n",
    "axarr[0].set_ylabel('Radial Velocity [km/s]')\n",
    "axarr[1].set_ylabel('Rotational Velocity [km/s]')\n",
    "axarr[2].set_ylabel('\\.{M} \\, [$10^{-3}\\,$M$_{\\odot}\\,$yr$^{-1}$]')\n",
    "axarr[2].text(.9,.9,\"$0.975 \\,c_s^3/G$\", ha='right', va='top', size=18, transform=axarr[i].transAxes)\n",
    "axarr[3].set_ylabel('Surface Density [cm$^{-2}$]')\n",
    "axarr[4].set_ylabel('Q')\n",
    "axarr[-1].set_xlabel(\"Radius [AU]\")\n",
    "fig.subplots_adjust(hspace=0.01)\n",
    "sns.despine()\n",
    "fig.savefig('figures/radial_bins/disk_profile.png', bbox_inches='tight')"
   ]
  },
  {
   "cell_type": "code",
   "execution_count": null,
   "metadata": {
    "collapsed": false
   },
   "outputs": [],
   "source": [
    "corebins = np.concatenate((np.zeros(1), sinkt0[sinkt0.sim == 'vanilla'].rau.values))\n",
    "corebins = pd.cut(core.radius, corebins, labels = corebins[1:])"
   ]
  },
  {
   "cell_type": "code",
   "execution_count": null,
   "metadata": {
    "collapsed": false
   },
   "outputs": [],
   "source": [
    "# bin the data\n",
    "grouped = core.groupby(['sim', corebins])\n",
    "cbinned = grouped.mean()\n",
    "cbinned['mass'] = grouped['mass'].sum()\n",
    "cbinned['cs'] = np.sqrt(pyg.constants.k_B * cbinned.temperature / pyg.constants.m_H)\n",
    "cbinned['accretion'] = 0.975 * cbinned.cs**3 / pyg.constants.GRAVITY / 1.989e33 * 3.15569e7 * 1e3\n",
    "cbinned.rename(columns={'radius':'r_avg'}, inplace=True)\n",
    "cbinned.reset_index('sim',inplace=True)\n",
    "cbinned.head()"
   ]
  },
  {
   "cell_type": "code",
   "execution_count": null,
   "metadata": {
    "collapsed": false,
    "scrolled": false
   },
   "outputs": [],
   "source": [
    "with sns.axes_style(\"ticks\"):\n",
    "    fig, axarr = plt.subplots(3, 1, sharex=True, figsize=(5,10))\n",
    "\n",
    "for i, gasprop in enumerate(['vphi', 'vr', 'accretion']):\n",
    "    for sim in simlist[:-1]:\n",
    "        df = cbinned[cbinned.sim == sim]\n",
    "        axarr[i].semilogx(df.index, df[gasprop].values, marker='o', ms=3, label=simname[sim])#\n",
    "    axarr[i].axvline(1e4, color='.8', zorder=1)\n",
    "#axarr[2].axhline(2.725 * (redshift[3] + 1), linestyle='--', color='.5')   \n",
    "\n",
    "axarr[0].set_ylim(-.95,3.9)\n",
    "axarr[1].set_ylim(-3,0)\n",
    "axarr[2].set_ylim(0, 5.9)\n",
    "axarr[-1].set_xlim(100, 2e6)\n",
    "\n",
    "axarr[1].legend(loc=0)\n",
    "axarr[0].set_ylabel('Rotational Velocity [km/s]')\n",
    "axarr[1].set_ylabel('Radial Velocity [km/s]')\n",
    "axarr[2].set_ylabel('\\.{M} \\, [$10^{-3}\\,$M$_{\\odot}\\,$yr$^{-1}$]')\n",
    "axarr[2].text(.9,.9,\"$0.975 \\,c_s^3/G$\", ha='right', va='top', size=18, transform=axarr[i].transAxes)\n",
    "axarr[-1].set_xlabel(\"Radius [AU]\")\n",
    "fig.subplots_adjust(hspace=0.01)\n",
    "sns.despine()\n",
    "fig.savefig('figures/radial_bins/core_profile.png', bbox_inches='tight', dpi=300)"
   ]
  }
 ],
 "metadata": {
  "kernelspec": {
   "display_name": "Python 2",
   "language": "python",
   "name": "python2"
  },
  "language_info": {
   "codemirror_mode": {
    "name": "ipython",
    "version": 2
   },
   "file_extension": ".py",
   "mimetype": "text/x-python",
   "name": "python",
   "nbconvert_exporter": "python",
   "pygments_lexer": "ipython2",
   "version": "2.7.10"
  }
 },
 "nbformat": 4,
 "nbformat_minor": 0
}
