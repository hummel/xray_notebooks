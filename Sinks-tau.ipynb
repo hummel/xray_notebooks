{
 "cells": [
  {
   "cell_type": "code",
   "execution_count": null,
   "metadata": {
    "collapsed": false
   },
   "outputs": [],
   "source": [
    "%matplotlib inline\n",
    "import os\n",
    "import numpy as np\n",
    "import pandas as pd\n",
    "import pyGadget\n",
    "import matplotlib as mpl\n",
    "from matplotlib import pyplot as plt\n",
    "mpl.rc('text', usetex=True)"
   ]
  },
  {
   "cell_type": "raw",
   "metadata": {},
   "source": [
    "mpl.rc('figure', figsize=(10,7.5))\n",
    "mpl.rc('font', size=20.)\n",
    "mpl.rc('font', family='serif')\n",
    "mpl.rc('text', usetex=True)\n",
    "mpl.rc('axes', color_cycle=['k','b','g','r','k','b','g','r'])"
   ]
  },
  {
   "cell_type": "code",
   "execution_count": null,
   "metadata": {
    "collapsed": false
   },
   "outputs": [],
   "source": [
    "import seaborn as sns\n",
    "sns.set_context('poster')\n",
    "sns.set_style('white')"
   ]
  },
  {
   "cell_type": "markdown",
   "metadata": {},
   "source": [
    "# Sink Accretion History"
   ]
  },
  {
   "cell_type": "code",
   "execution_count": null,
   "metadata": {
    "collapsed": false
   },
   "outputs": [],
   "source": [
    "simname = {'vanilla':r'J = 0',\n",
    "        'X0': '',#r'J = J$_0$', \n",
    "        'X1': '',#r'J = 10 J$_0$', \n",
    "        'X2': '',#r'J = 100 J$_0$', \n",
    "        'J0': r'J = J$_0$', \n",
    "        'J1': r'J = 10 J$_0$', \n",
    "        'J2': r'J = 100 J$_0$', \n",
    "        'J3': r'J = 1000 J$_0$'}\n",
    "name = ['vanilla', 'J0', 'J1', 'J2', 'J3', 'X0', 'X1', 'X2']"
   ]
  },
  {
   "cell_type": "code",
   "execution_count": null,
   "metadata": {
    "collapsed": false
   },
   "outputs": [],
   "source": [
    "sinkdata = pd.HDFStore(os.getenv(\"HOME\")+'/data/stampede/sinkdata.hdf5')\n",
    "dataV = sinkdata['vanilla']\n",
    "data0 = sinkdata['xr_tau_J0']\n",
    "data1 = sinkdata['xr_tau_J1']\n",
    "data2 = sinkdata['xr_tau_J2']\n",
    "data3 = sinkdata['xr_tau_J3']\n",
    "data4 = sinkdata['XR_sfr_1e-3']\n",
    "data5 = sinkdata['XR_sfr_1e-2']\n",
    "data6 = sinkdata['XR_sfr_1e-1']"
   ]
  },
  {
   "cell_type": "code",
   "execution_count": null,
   "metadata": {
    "collapsed": false
   },
   "outputs": [],
   "source": [
    "sinkdata"
   ]
  },
  {
   "cell_type": "code",
   "execution_count": null,
   "metadata": {
    "collapsed": false
   },
   "outputs": [],
   "source": [
    "sinkdata.close()"
   ]
  },
  {
   "cell_type": "code",
   "execution_count": null,
   "metadata": {
    "collapsed": false
   },
   "outputs": [],
   "source": [
    "sinksV = dataV.set_index('time')\n",
    "sinks0 = data0.set_index('time')\n",
    "sinks1 = data1.set_index('time')\n",
    "sinks2 = data2.set_index('time')\n",
    "sinks3 = data3.set_index('time')\n",
    "sinks4 = data4.set_index('time')\n",
    "sinks5 = data5.set_index('time')\n",
    "sinks6 = data6.set_index('time')"
   ]
  },
  {
   "cell_type": "code",
   "execution_count": null,
   "metadata": {
    "collapsed": false
   },
   "outputs": [],
   "source": [
    "fig = plt.figure(2, figsize=(12,8))\n",
    "ax0 = fig.add_subplot(221)\n",
    "ax1 = fig.add_subplot(222)\n",
    "ax2 = fig.add_subplot(223)\n",
    "ax3 = fig.add_subplot(224)\n",
    "\n",
    "slw = 3\n",
    "sls = ['-', '--']\n",
    "\n",
    "for i, (ax, shielded, unshielded) in enumerate([(ax0,sinks0, sinks4), (ax1,sinks1, sinks5),\n",
    "                                                (ax2,sinks2, sinks6), (ax3,sinks3, None)]):\n",
    "    for sinkID in sinksV.ID.unique():\n",
    "        growth = sinksV[sinksV.ID == sinkID]['mass']\n",
    "        ax = growth.plot(ax=ax, grid=False, lw=1, ls=':', color='.5')\n",
    "    if unshielded is not None:\n",
    "        for j,sinkID in enumerate(unshielded.ID.unique()):\n",
    "            growth = unshielded[unshielded.ID == sinkID]['mass']\n",
    "            ax = growth.plot(ax=ax, grid=False, lw=3, color='.85')\n",
    "    for j,sinkID in enumerate(shielded.ID.unique()):\n",
    "        growth = shielded[shielded.ID == sinkID]['mass']\n",
    "        ax = growth.plot(ax=ax, grid=False, lw=3, ls=sls[j/6])\n",
    "    ax.text(.03,.93, simname[name[i+1]], ha='left', va='top', size=20, transform=ax.transAxes)\n",
    "\n",
    "ax0.xaxis.set_visible(False)\n",
    "ax1.xaxis.set_visible(False)\n",
    "ax1.yaxis.set_visible(False)\n",
    "ax3.yaxis.set_visible(False)\n",
    "\n",
    "\n",
    "for ax in fig.axes:\n",
    "    ax.set_xlim(0,5000)\n",
    "    ax.set_ylim(0,30)\n",
    "ax0.set_yticks((5,10,15,20,25,30))\n",
    "ax2.set_yticks((0,5,10,15,20,25))\n",
    "ax2.set_xticks((0,1000,2000,3000,4000))\n",
    "ax3.set_xticks((1000,2000,3000,4000,5000))\n",
    "\n",
    "ax0.set_ylabel('Mass [$M_{\\odot}$]')\n",
    "ax2.set_ylabel('Mass [$M_{\\odot}$]')\n",
    "ax2.set_xlabel('Time [yr]')\n",
    "ax3.set_xlabel('Time [yr]')\n",
    "\n",
    "plt.tight_layout(w_pad=0.0,h_pad=0.0)\n",
    "fig.savefig('figures/sinks/sink_masses.png', bbox_inches='tight')"
   ]
  },
  {
   "cell_type": "code",
   "execution_count": null,
   "metadata": {
    "collapsed": false
   },
   "outputs": [],
   "source": [
    "fig, ax = plt.subplots()\n",
    "slw = 3\n",
    "sls = ['-', '--']\n",
    "\n",
    "for i, (shielded, unshielded) in enumerate([(sinks0, sinks4), (sinks1, sinks5),\n",
    "                                                (sinks2, sinks6), (sinks3, None)]):\n",
    "    ax.set_color_cycle(None)\n",
    "    for sinkID in sinksV.ID.unique():\n",
    "        growth = sinksV[sinksV.ID == sinkID]['mass']\n",
    "        ax = growth.plot(ax=ax, grid=False, lw=1, ls='--', color='.5')\n",
    "    if unshielded is not None:\n",
    "        for j,sinkID in enumerate(unshielded.ID.unique()):\n",
    "            growth = unshielded[unshielded.ID == sinkID]['mass']\n",
    "            ax = growth.plot(ax=ax, grid=False, lw=3, color='.85')\n",
    "    for j,sinkID in enumerate(shielded.ID.unique()):\n",
    "        growth = shielded[shielded.ID == sinkID]['mass']\n",
    "        ax = growth.plot(ax=ax, grid=False, lw=3, ls=sls[j/6])\n",
    "#    ax.text(.03,.93, simname[name[i+1]], ha='left', va='top', size=20, transform=ax.transAxes)\n",
    "\n",
    "ax.set_xlim(0,5000)\n",
    "ax.set_ylim(0,30)\n",
    "\n",
    "ax.set_ylabel('Mass [$M_{\\odot}$]')\n",
    "ax.set_xlabel('Time [yr]')\n",
    "\n",
    "plt.tight_layout(w_pad=0.0,h_pad=0.0)\n",
    "#fig.savefig('figures/sinks/sink_masses.png', bbox_inches='tight')"
   ]
  },
  {
   "cell_type": "code",
   "execution_count": null,
   "metadata": {
    "collapsed": false
   },
   "outputs": [],
   "source": [
    "total_mass = []\n",
    "for i,data in enumerate([dataV, data0, data1, data2, data3, data4, data5, data6]):\n",
    "    mtot = data[['time','mass']].groupby('time').sum()\n",
    "    mtot.rename(columns = {'mass':name[i]}, inplace=True)\n",
    "    total_mass.append(mtot)"
   ]
  },
  {
   "cell_type": "code",
   "execution_count": null,
   "metadata": {
    "collapsed": false
   },
   "outputs": [],
   "source": [
    "slw = 3\n",
    "with sns.color_palette(n_colors=4):\n",
    "    fig, ax = plt.subplots()\n",
    "df = total_mass[0]\n",
    "ax.plot(df.index, df.vanilla, label=simname['vanilla'], lw=slw, color='.25')\n",
    "for i,df in enumerate(total_mass[1:5]):\n",
    "    ax.plot(df.index, df[name[i+1]], label=simname[name[i+1]])\n",
    "for i,df in enumerate(total_mass[5:]):\n",
    "    ax.plot(df.index, df[name[i+5]], ls=':')\n",
    "\n",
    "    \n",
    "    \n",
    "leg = plt.legend(loc=0)\n",
    "plt.xlim(0,5000)\n",
    "plt.ylim(0,80)\n",
    "#plt.ylim(1,100); plt.semilogy()\n",
    "\n",
    "plt.ylabel('Mass [$M_{\\odot}$]')\n",
    "plt.xlabel('Time [yr]')\n",
    "plt.savefig('figures/sinks/total_sink_mass.png', bbox_inches='tight')"
   ]
  },
  {
   "cell_type": "code",
   "execution_count": null,
   "metadata": {
    "collapsed": false
   },
   "outputs": [],
   "source": [
    "most_massive_sink = []\n",
    "for i,data in enumerate([dataV, data0, data1, data2, data3, data4, data5, data6]):\n",
    "    mms = data[['time','mass']].groupby('time').max()\n",
    "    mms.rename(columns = {'mass':name[i]}, inplace=True)\n",
    "    most_massive_sink.append(mms)"
   ]
  },
  {
   "cell_type": "code",
   "execution_count": null,
   "metadata": {
    "collapsed": false
   },
   "outputs": [],
   "source": [
    "slw = 3\n",
    "count = 0\n",
    "with sns.color_palette(n_colors=4):\n",
    "    fig, ax = plt.subplots()\n",
    "df = most_massive_sink[0]\n",
    "ax.plot(df.index, df.vanilla, label=simname['vanilla'], lw=slw, color='.25')\n",
    "for i,df in enumerate(most_massive_sink[1:5]):\n",
    "    ax.plot(df.index, df[name[i+1]], label=simname[name[i+1]])\n",
    "for i,df in enumerate(most_massive_sink[5:]):\n",
    "    ax.plot(df.index, df[name[i+5]], ls=':')\n",
    "\n",
    "    \n",
    "leg = plt.legend(loc=0)\n",
    "plt.xlim(0,5000)\n",
    "plt.ylim(0,30)\n",
    "#plt.ylim(1,100); plt.semilogy()\n",
    "\n",
    "plt.ylabel('Mass [$M_{\\odot}$]')\n",
    "plt.xlabel('Time [yr]')\n",
    "plt.title('Most Massive Sink')\n",
    "plt.savefig('figures/sinks/most_massive_sink.png', bbox_inches='tight')"
   ]
  },
  {
   "cell_type": "code",
   "execution_count": null,
   "metadata": {
    "collapsed": false
   },
   "outputs": [],
   "source": [
    "slw = 3\n",
    "\n",
    "plt.figure()\n",
    "ax = gca()\n",
    "for i in xrange(4):\n",
    "    total_mass[i].plot(ax=ax, lw=slw)\n",
    "for i in xrange(4):\n",
    "    most_massive_sink[i].plot(ax=ax, ls='--', lw=slw, label=False)\n",
    "    \n",
    "leg = plt.legend(loc=0)\n",
    "plt.xlim(0,5000)\n",
    "plt.ylim(0,80)\n",
    "\n",
    "plt.ylabel('Mass [$M_{\\odot}$]')\n",
    "plt.xlabel('Time [yr]')\n",
    "plt.title('Total Mass vs Most Massive Sink')\n",
    "plt.savefig('figures/sinks/mms_comparison.png', bbox_inches='tight')"
   ]
  },
  {
   "cell_type": "code",
   "execution_count": null,
   "metadata": {
    "collapsed": false
   },
   "outputs": [],
   "source": [
    "slw = 3\n",
    "for i in xrange(4):\n",
    "    plt.plot(time, biggest_sink[i]/total_mass[i], lw=slw, label=name[i])\n",
    "leg = plt.legend(loc=0)\n",
    "plt.xlim(0,5000)\n",
    "#plt.ylim(0,70)\n",
    "\n",
    "plt.ylabel('Mass [$M_{\\odot}$]')\n",
    "plt.xlabel('Time [yr]')\n",
    "plt.title('Mass Fraction')\n",
    "plt.savefig('figures/sinks/mms_fraction.png', bbox_inches='tight')"
   ]
  },
  {
   "cell_type": "code",
   "execution_count": null,
   "metadata": {
    "collapsed": false
   },
   "outputs": [],
   "source": [
    "most_massive_sink = []\n",
    "for sim in [simV, sim1, sim2, sim3]:\n",
    "    mms = 0\n",
    "    for sink in sim.sinks:\n",
    "        if sink.mass.max() > mms:\n",
    "            mms = sink.mass.max()\n",
    "    most_massive_sink.append(mms)"
   ]
  },
  {
   "cell_type": "code",
   "execution_count": null,
   "metadata": {
    "collapsed": false
   },
   "outputs": [],
   "source": [
    "sms = 15\n",
    "slw = 3\n",
    "\n",
    "n_sims = 4\n",
    "index = [0, 1, 2, 3]\n",
    "index2 = 2\n",
    "n_tot = [2,2,6,3]\n",
    "n_pri = [2,2,2,3]\n",
    "n_sec = 4\n",
    "m_tot = [41., 23.2, 73.9, 10.7]\n",
    "m_pri = [41., 23.3, 43., 10.7]\n",
    "m_sec = 30.9\n",
    "\n",
    "fig = plt.figure(1, figsize=(8, 12))\n",
    "ax1 = fig.add_subplot(211)\n",
    "ax2 = fig.add_subplot(212)\n",
    "ax1.plot(index, m_pri, 'rs', ms=23, label=\"Central Disk\")\n",
    "ax1.plot(index, m_tot, 'bD', ms=20, label=\"Total Mass\")\n",
    "ax1.legend(loc=2)\n",
    "\n",
    "ax2.plot(index, n_pri, 'rs', ms=23, label=\"Central Disk\")\n",
    "ax2.plot(index, n_tot, 'bD', ms=20, label=\"Total\")\n",
    "#ax2.legend(loc=2)\n",
    "\n",
    "\n",
    "ax1.set_xlim(-.5,3.5)\n",
    "ax2.set_xlim(-.5,3.5)\n",
    "\n",
    "ax1.set_ylim(0, 80)\n",
    "ax2.set_ylim(0,7.5)\n",
    "\n",
    "ax1.xaxis.set_visible(False)\n",
    "ax1.set_yticks((10,20,30,40,50,60,70,80))\n",
    "\n",
    "ax2.set_xticks(index)\n",
    "ax2.set_xticklabels((0, 1, 10 , 100))\n",
    "\n",
    "ax1.set_title(\"5000yr after sink formation\")\n",
    "ax1.set_ylabel(\"Sink Mass [M$_{\\odot}$]\")\n",
    "ax2.set_xlabel(r\"J$_{\\textsc{xr}}$/J$_{0}$\")\n",
    "ax2.set_ylabel(\"Number of Sinks\")\n",
    "\n",
    "plt.tight_layout(w_pad=0.0,h_pad=0.0)\n",
    "fig.savefig('figures/sinks/mms.png', bbox_inches='tight')"
   ]
  }
 ],
 "metadata": {
  "kernelspec": {
   "display_name": "Python 2",
   "language": "python",
   "name": "python2"
  },
  "language_info": {
   "codemirror_mode": {
    "name": "ipython",
    "version": 2
   },
   "file_extension": ".py",
   "mimetype": "text/x-python",
   "name": "python",
   "nbconvert_exporter": "python",
   "pygments_lexer": "ipython2",
   "version": "2.7.9"
  }
 },
 "nbformat": 4,
 "nbformat_minor": 0
}
