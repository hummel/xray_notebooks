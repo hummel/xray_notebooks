{
 "cells": [
  {
   "cell_type": "markdown",
   "metadata": {},
   "source": [
    "# The First Stars: Formation under X-ray Feedback -- Phase Diagrams"
   ]
  },
  {
   "cell_type": "markdown",
   "metadata": {},
   "source": [
    "This notebook generates all simulation results figures for my current paper.  All simulations run on stampede.tacc.utexas.edu"
   ]
  },
  {
   "cell_type": "code",
   "execution_count": null,
   "metadata": {
    "collapsed": false
   },
   "outputs": [],
   "source": [
    "%matplotlib inline\n",
    "import numpy as np\n",
    "import matplotlib as mpl\n",
    "from matplotlib import pyplot as plt\n",
    "mpl.rc('font', size=20.)\n",
    "mpl.rc('font', family='serif')\n",
    "mpl.rc('text', usetex=True)\n",
    "import pyGadget"
   ]
  },
  {
   "cell_type": "code",
   "execution_count": null,
   "metadata": {
    "collapsed": false
   },
   "outputs": [],
   "source": [
    "simV = pyGadget.sim.Simulation('stampede/vanilla',length='pc')\n",
    "sim0 = pyGadget.sim.Simulation('stampede/xr_tau2_J0',length='pc')\n",
    "sim1 = pyGadget.sim.Simulation('stampede/xr_tau2_J1',length='pc')\n",
    "sim2 = pyGadget.sim.Simulation('stampede/xr_tau2_J2',length='pc')\n",
    "sim3 = pyGadget.sim.Simulation('stampede/xr_tau2_J3',length='pc')\n",
    "sim4 = pyGadget.sim.Simulation('stampede/XR_sfr_1e-3',length='pc')\n",
    "sim5 = pyGadget.sim.Simulation('stampede/xr_sfr_J1',length='pc')\n",
    "sim6 = pyGadget.sim.Simulation('stampede/XR_sfr_1e-1',length='pc')\n",
    "sim7 = pyGadget.sim.Simulation('stampede/XR_sfr_1e-0',length='pc')\n",
    "sims = [simV, sim0, sim1, sim2, sim3, sim4, sim5, sim6, sim7]"
   ]
  },
  {
   "cell_type": "code",
   "execution_count": null,
   "metadata": {
    "collapsed": false
   },
   "outputs": [],
   "source": [
    "simname = {'vanilla':r'J = 0',\n",
    "        'xr_tau_J0': r'J = J$_{0}$', \n",
    "        'xr_tau_J1': r'J = 10 J$_{0}$', \n",
    "        'xr_tau_J2': r'J = 10$^2$ J$_{0}$',\n",
    "        'xr_tau_J3': r'J = 10$^3$ J$_{0}$'}\n",
    "name = ['vanilla', 'xr_tau_J0', 'xr_tau_J1', 'xr_tau_J2', 'xr_tau_J3', 'XR_sfr_1e-3', 'XR_sfr_1e-2', 'XR_sfr_1e-1', 'XR_sfr_1e-0']"
   ]
  },
  {
   "cell_type": "code",
   "execution_count": null,
   "metadata": {
    "collapsed": false
   },
   "outputs": [],
   "source": [
    "#n0, n1, n2, n3, tag = 100, 102, 202, 135, '_z26'\n",
    "#n0, n1, n2, n3, tag = 615, 609, 236, 277, ''\n",
    "#n0, n1, n2, n3, tag = 355, 269, 201, 200, '_t0'\n",
    "nV, n0, n1, n2, n3, n4, n5, n6, n7, tag = 355, 255, 169, 227, 70, 269, 167, 200, 70, ''\n",
    "#n0, n1, n2, n3, tag = 665, 575, 502, 501, '_t1k'\n",
    "#n0, n1, n2, n3, tag = 974, 880, 802, 800, '_t2k'\n",
    "#n0, n1, n2, n3, tag = 1128, 1032, 951, 950, '_t2500'\n",
    "#n0, n1, n2, n3, tag = 1283, 1184, 1100, 1100, '_t3k'\n",
    "#n0, n1, n2, n3, tag = 1437, 1337, 1251, 1250, '_t3500'\n",
    "#n0, n1, n2, n3, tag = 1592, 1489, 1401, 1400, '_t4k'\n",
    "#n0, n1, n2, n3, tag = 1900, 1794, 1701, 1700, '_t5k'\n",
    "ns = [nV, n0, n1, n2, n3, n4, n5, n6, n7]"
   ]
  },
  {
   "cell_type": "code",
   "execution_count": null,
   "metadata": {
    "collapsed": false
   },
   "outputs": [],
   "source": [
    "snaps = {}\n",
    "for i, (sim, n) in enumerate(zip(sims, ns)):\n",
    "    s = sim.load_snapshot(n, 'ndensity', 'temp', 'h2frac', 'HDfrac', 'electron_frac')#, 'coordinates')#,stride=1e5)\n",
    "    s.gas.cleanup('ndensity', 'temp', 'h2frac', 'HDfrac', 'electron_frac')#, 'coordinates')\n",
    "    snaps[name[i]] = s"
   ]
  },
  {
   "cell_type": "markdown",
   "metadata": {},
   "source": [
    "## Density - Temperature phase diagram"
   ]
  },
  {
   "cell_type": "code",
   "execution_count": null,
   "metadata": {
    "collapsed": false
   },
   "outputs": [],
   "source": [
    "shielded = [snaps[i] for i in name[1:5]]\n",
    "unshielded = [snaps[i] for i in name[5:]]"
   ]
  },
  {
   "cell_type": "code",
   "execution_count": null,
   "metadata": {
    "collapsed": false
   },
   "outputs": [],
   "source": [
    "fig,axes = plt.subplots(2, 2, figsize=(16,12))\n",
    "axes = axes.flatten()\n",
    "sV = snaps['vanilla']\n",
    "for i, (ax, s1,s2) in enumerate(zip(axes,unshielded,shielded)):\n",
    "    ax = pyGadget.multiplot.Phase.temp(sV, ax, rasterized=True, color='.75', cmbline=False)\n",
    "    ax = pyGadget.multiplot.Phase.temp(s1,ax, rasterized=True, cmap=plt.cm.Reds_r)\n",
    "    ax = pyGadget.multiplot.Phase.temp(s2,ax, rasterized=True, cmap=plt.cm.Blues_r, cmbline=False)\n",
    "    ax.text(.97,.95, simname[name[i+1]], ha='right', va='top', size=25, transform=ax.transAxes)\n",
    "\n",
    "ax0,ax1,ax2,ax3 = axes\n",
    "ax0.xaxis.set_visible(False)\n",
    "ax1.xaxis.set_visible(False)\n",
    "ax1.yaxis.set_visible(False)\n",
    "ax3.yaxis.set_visible(False)\n",
    "ax2.set_xticks((1e-2,1e0,1e2,1e4,1e6,1e8,1e10))\n",
    "ax3.set_xticks((1e-2,1e0,1e2,1e4,1e6,1e8,1e10,1e12))\n",
    "ax0.set_yticks((1e2,1e3,1e4))\n",
    "ax2.set_yticks((10,1e2,1e3,1e4))\n",
    "\n",
    "fig.tight_layout(w_pad=0.0,h_pad=0.0)\n",
    "fig.savefig('figures/phase_diagrams/temp'+tag+'.pdf', bbox_inches='tight')"
   ]
  },
  {
   "cell_type": "markdown",
   "metadata": {},
   "source": [
    "## H2 molecular fraction - density phase diagram"
   ]
  },
  {
   "cell_type": "code",
   "execution_count": null,
   "metadata": {
    "collapsed": false
   },
   "outputs": [],
   "source": [
    "fig,axes = plt.subplots(2, 2, figsize=(16,12))\n",
    "axes = axes.flatten()\n",
    "sV = snaps['vanilla']\n",
    "for i, (ax, s1,s2) in enumerate(zip(axes,unshielded,shielded)):\n",
    "    ax = pyGadget.multiplot.Phase.h2frac(sV, ax, rasterized=True, color='.75')\n",
    "    ax = pyGadget.multiplot.Phase.h2frac(s1,ax, rasterized=True, cmap=plt.cm.Reds_r)\n",
    "    ax = pyGadget.multiplot.Phase.h2frac(s2,ax, rasterized=True, cmap=plt.cm.Blues_r)\n",
    "    ax.text(.03,.97, simname[name[i+1]], ha='left', va='top', size=25, transform=ax.transAxes)\n",
    "\n",
    "ax0,ax1,ax2,ax3 = axes\n",
    "ax0.xaxis.set_visible(False)\n",
    "ax1.xaxis.set_visible(False)\n",
    "ax1.yaxis.set_visible(False)\n",
    "ax3.yaxis.set_visible(False)\n",
    "ax2.set_xticks((1e-2,1e0,1e2,1e4,1e6,1e8,1e10))\n",
    "ax3.set_xticks((1e-2,1e0,1e2,1e4,1e6,1e8,1e10,1e12))\n",
    "\n",
    "plt.tight_layout(w_pad=0.0,h_pad=0.0)\n",
    "fig.savefig('figures/phase_diagrams/H2'+tag+'.png', bbox_inches='tight')"
   ]
  },
  {
   "cell_type": "markdown",
   "metadata": {},
   "source": [
    "## HD molecular fraction - density phase diagram"
   ]
  },
  {
   "cell_type": "code",
   "execution_count": null,
   "metadata": {
    "collapsed": false
   },
   "outputs": [],
   "source": [
    "fig,axes = plt.subplots(2, 2, figsize=(16,12))\n",
    "axes = axes.flatten()\n",
    "sV = snaps['vanilla']\n",
    "for i, (ax, s1,s2) in enumerate(zip(axes,unshielded,shielded)):\n",
    "    ax = pyGadget.multiplot.Phase.HDfrac(sV, ax, rasterized=True, color='.75')\n",
    "    ax = pyGadget.multiplot.Phase.HDfrac(s1,ax, rasterized=True, cmap=plt.cm.Reds_r)\n",
    "    ax = pyGadget.multiplot.Phase.HDfrac(s2,ax, rasterized=True, cmap=plt.cm.Blues_r)\n",
    "    ax.text(.03,.95, simname[name[i+1]], ha='left', va='top', size=25, transform=ax.transAxes)\n",
    "\n",
    "ax0,ax1,ax2,ax3 = axes\n",
    "ax0.xaxis.set_visible(False)\n",
    "ax1.xaxis.set_visible(False)\n",
    "ax1.yaxis.set_visible(False)\n",
    "ax3.yaxis.set_visible(False)\n",
    "ax2.set_xticks((1e-2,1e0,1e2,1e4,1e6,1e8,1e10))\n",
    "ax3.set_xticks((1e-2,1e0,1e2,1e4,1e6,1e8,1e10,1e12))\n",
    "ax2.set_yticks((1e-10,1e-9,1e-8,1e-7,1e-6,1e-5))\n",
    "\n",
    "plt.tight_layout(w_pad=0.0,h_pad=0.0)\n",
    "fig.savefig('figures/phase_diagrams/HD'+tag+'.png', bbox_inches='tight')"
   ]
  },
  {
   "cell_type": "markdown",
   "metadata": {},
   "source": [
    "## Electron fraction - density phase diagram"
   ]
  },
  {
   "cell_type": "code",
   "execution_count": null,
   "metadata": {
    "collapsed": false
   },
   "outputs": [],
   "source": [
    "fig,axes = plt.subplots(2, 2, figsize=(16,12))\n",
    "axes = axes.flatten()\n",
    "sV = snaps['vanilla']\n",
    "for i, (ax, s1,s2) in enumerate(zip(axes,unshielded,shielded)):\n",
    "    ax = pyGadget.multiplot.Phase.electron_frac(sV, ax, rasterized=True, color='.75')\n",
    "    ax = pyGadget.multiplot.Phase.electron_frac(s1,ax, rasterized=True, cmap=plt.cm.Reds_r)\n",
    "    ax = pyGadget.multiplot.Phase.electron_frac(s2,ax, rasterized=True, cmap=plt.cm.Blues_r)\n",
    "    ax.text(.05,.1, simname[name[i+1]], ha='left', va='top', size=25, transform=ax.transAxes)\n",
    "\n",
    "ax0,ax1,ax2,ax3 = axes\n",
    "ax0.xaxis.set_visible(False)\n",
    "ax1.xaxis.set_visible(False)\n",
    "ax1.yaxis.set_visible(False)\n",
    "ax3.yaxis.set_visible(False)\n",
    "ax2.set_xticks((1e-2,1e0,1e2,1e4,1e6,1e8,1e10))\n",
    "ax3.set_xticks((1e-2,1e0,1e2,1e4,1e6,1e8,1e10,1e12))\n",
    "#ax2.set_yticks((1e-10,1e-9,1e-8,1e-7,1e-6,1e-5))\n",
    "\n",
    "plt.tight_layout(w_pad=0.0,h_pad=0.0)\n",
    "fig.savefig('figures/phase_diagrams/elec'+tag+'.png', bbox_inches='tight')"
   ]
  },
  {
   "cell_type": "markdown",
   "metadata": {},
   "source": [
    "## Electron fraction - overlay"
   ]
  },
  {
   "cell_type": "code",
   "execution_count": null,
   "metadata": {
    "collapsed": false
   },
   "outputs": [],
   "source": [
    "fig = plt.figure(3, figsize=(12,9))\n",
    "ax = fig.add_subplot(111)\n",
    "ax = pyGadget.multiplot.Phase.electron_frac(snapV,ax, cmap=plt.cm.Greys_r, rasterized=True)\n",
    "ax = pyGadget.multiplot.Phase.electron_frac(snap4,ax, cmap=plt.cm.Blues_r, rasterized=True)\n",
    "ax = pyGadget.multiplot.Phase.electron_frac(snap5,ax, cmap=plt.cm.Greens_r, rasterized=True)\n",
    "ax = pyGadget.multiplot.Phase.electron_frac(snap6,ax, cmap=plt.cm.Reds_r, rasterized=True)\n",
    "\n",
    "#ax0.text(.05,.1, r'J = 0', ha='left', va='top', size=25, transform=ax0.transAxes)\n",
    "#ax1.text(.05,.1, r'J = J$_{0}$', ha='left', va='top', size=25, transform=ax1.transAxes)\n",
    "#ax2.text(.05,.1, r'J = 10 J$_{0}$', ha='left', va='top', size=25, transform=ax2.transAxes)\n",
    "#ax3.text(.05,.1, r'J = 100 J$_{0}$', ha='left', va='top', size=25, transform=ax3.transAxes)\n",
    "\n",
    "fig.savefig('figures/phase_diagrams/elec-overlay'+tag+'.png', bbox_inches='tight')"
   ]
  },
  {
   "cell_type": "markdown",
   "metadata": {},
   "source": [
    "## H2 fraction - overlay"
   ]
  },
  {
   "cell_type": "code",
   "execution_count": null,
   "metadata": {
    "collapsed": false
   },
   "outputs": [],
   "source": [
    "fig = plt.figure(3, figsize=(12,9))\n",
    "ax = fig.add_subplot(111)\n",
    "ax = pyGadget.multiplot.Phase.h2frac(snapV,ax, cmap=plt.cm.Greys_r, rasterized=True)\n",
    "ax = pyGadget.multiplot.Phase.h2frac(snap4,ax, cmap=plt.cm.Blues_r, rasterized=True)\n",
    "ax = pyGadget.multiplot.Phase.h2frac(snap5,ax, cmap=plt.cm.Greens_r, rasterized=True)\n",
    "ax = pyGadget.multiplot.Phase.h2frac(snap6,ax, cmap=plt.cm.Reds_r, rasterized=True)\n",
    "\n",
    "#ax0.text(.05,.1, r'J = 0', ha='left', va='top', size=25, transform=ax0.transAxes)\n",
    "#ax1.text(.05,.1, r'J = J$_{0}$', ha='left', va='top', size=25, transform=ax1.transAxes)\n",
    "#ax2.text(.05,.1, r'J = 10 J$_{0}$', ha='left', va='top', size=25, transform=ax2.transAxes)\n",
    "#ax3.text(.05,.1, r'J = 100 J$_{0}$', ha='left', va='top', size=25, transform=ax3.transAxes)\n",
    "\n",
    "fig.savefig('figures/phase_diagrams/h2-overlay'+tag+'.png', bbox_inches='tight')"
   ]
  },
  {
   "cell_type": "markdown",
   "metadata": {},
   "source": [
    "## HD fraction - overlay"
   ]
  },
  {
   "cell_type": "code",
   "execution_count": null,
   "metadata": {
    "collapsed": false
   },
   "outputs": [],
   "source": [
    "fig = plt.figure(3, figsize=(12,9))\n",
    "ax = fig.add_subplot(111)\n",
    "ax = pyGadget.multiplot.Phase.HDfrac(snapV,ax, cmap=plt.cm.Greys_r, rasterized=True)\n",
    "ax = pyGadget.multiplot.Phase.HDfrac(snap4,ax, cmap=plt.cm.Blues_r, rasterized=True)\n",
    "ax = pyGadget.multiplot.Phase.HDfrac(snap5,ax, cmap=plt.cm.Greens_r, rasterized=True)\n",
    "ax = pyGadget.multiplot.Phase.HDfrac(snap6,ax, cmap=plt.cm.Reds_r, rasterized=True)\n",
    "\n",
    "#ax0.text(.05,.1, r'J = 0', ha='left', va='top', size=25, transform=ax0.transAxes)\n",
    "#ax1.text(.05,.1, r'J = J$_{0}$', ha='left', va='top', size=25, transform=ax1.transAxes)\n",
    "#ax2.text(.05,.1, r'J = 10 J$_{0}$', ha='left', va='top', size=25, transform=ax2.transAxes)\n",
    "#ax3.text(.05,.1, r'J = 100 J$_{0}$', ha='left', va='top', size=25, transform=ax3.transAxes)\n",
    "\n",
    "fig.savefig('figures/phase_diagrams/HD-overlay'+tag+'.png', bbox_inches='tight')"
   ]
  },
  {
   "cell_type": "markdown",
   "metadata": {},
   "source": [
    "## Combination Overlay"
   ]
  },
  {
   "cell_type": "code",
   "execution_count": null,
   "metadata": {
    "collapsed": false
   },
   "outputs": [],
   "source": [
    "snaplist = [snapV, snap4, snap5, snap6]\n",
    "fig, axarr = plt.subplots(3,1, sharex=True, figsize=(8,17))\n",
    "for i,func in enumerate([pyGadget.multiplot.Phase.electron_frac, pyGadget.multiplot.Phase.h2frac, pyGadget.multiplot.Phase.HDfrac]):\n",
    "    for j, colormap in enumerate([plt.cm.Greys_r, plt.cm.Blues_r, plt.cm.Greens_r, plt.cm.Reds_r]):\n",
    "        axarr[i] = func(snaplist[j], axarr[i], cmap=colormap, rasterized=True)\n",
    "        \n",
    "\n",
    "#axarr[-1].set_xlabel('n [cm$^{-3}$]') \n",
    "plt.setp([a.get_yticklabels()[::2] for a in axarr], visible=False)\n",
    "plt.setp(axarr[-1].get_xticklabels()[1::2], visible=False)\n",
    "fig.subplots_adjust(hspace=0, wspace=0)\n",
    "fig.savefig('figures/phase_diagrams/combo-overlay'+tag+'.png', bbox_inches='tight')"
   ]
  },
  {
   "cell_type": "markdown",
   "metadata": {},
   "source": [
    "## Halo Temperature vs Radius"
   ]
  },
  {
   "cell_type": "code",
   "execution_count": null,
   "metadata": {
    "collapsed": false
   },
   "outputs": [],
   "source": [
    "fig = plt.figure(2, figsize=(16,12))\n",
    "ax0 = fig.add_subplot(221)\n",
    "ax1 = fig.add_subplot(222)\n",
    "ax2 = fig.add_subplot(223)\n",
    "ax3 = fig.add_subplot(224)\n",
    "for i, (ax, snap) in enumerate([(ax0,snap1), (ax1,snap2), (ax2,snap3), (ax3,snap4)]):\n",
    "    ax = pyGadget.multiplot.Phase.radial_temp(snapV,ax, rasterized=True, color='.75')\n",
    "    ax = pyGadget.multiplot.Phase.radial_temp(snap,ax, rasterized=True, cmap=plt.cm.Blues_r)\n",
    "    ax.text(.03,.97, simname[name[i+1]], ha='left', va='top', size=25, transform=ax.transAxes)\n",
    "\n",
    "ax0.xaxis.set_visible(False)\n",
    "ax1.xaxis.set_visible(False)\n",
    "ax1.yaxis.set_visible(False)\n",
    "ax3.yaxis.set_visible(False)\n",
    "ax0.set_yticks((1e2,1e3,1e4))\n",
    "ax2.set_yticks((10,1e2,1e3,1e4))\n",
    "\n",
    "\n",
    "plt.tight_layout(w_pad=0.0,h_pad=0.0)\n",
    "fig.savefig('figures/phase_diagrams/radial_temp'+tag+'.png', bbox_inches='tight')"
   ]
  }
 ],
 "metadata": {
  "kernelspec": {
   "display_name": "Python 2",
   "language": "python",
   "name": "python2"
  },
  "language_info": {
   "codemirror_mode": {
    "name": "ipython",
    "version": 2
   },
   "file_extension": ".py",
   "mimetype": "text/x-python",
   "name": "python",
   "nbconvert_exporter": "python",
   "pygments_lexer": "ipython2",
   "version": "2.7.10"
  }
 },
 "nbformat": 4,
 "nbformat_minor": 0
}
