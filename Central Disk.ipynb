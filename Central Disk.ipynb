{
 "metadata": {
  "name": "",
  "signature": "sha256:2cbe313c5347400c97d0f03872c6b7c94294da4849c0767bb686037c941f8caf"
 },
 "nbformat": 3,
 "nbformat_minor": 0,
 "worksheets": [
  {
   "cells": [
    {
     "cell_type": "heading",
     "level": 1,
     "metadata": {},
     "source": [
      "The First Stars: Formation under X-ray Feedback -- Phase Diagrams"
     ]
    },
    {
     "cell_type": "markdown",
     "metadata": {},
     "source": [
      "This notebook generates all simulation results figures for my current paper.  All simulations run on stampede.tacc.utexas.edu"
     ]
    },
    {
     "cell_type": "code",
     "collapsed": false,
     "input": [
      "%matplotlib inline\n",
      "import numpy as np\n",
      "import matplotlib as mpl\n",
      "from matplotlib import pyplot as plt\n",
      "mpl.rc('font', size=20.)\n",
      "mpl.rc('font', family='serif')\n",
      "mpl.rc('text', usetex=True)\n",
      "import pyGadget"
     ],
     "language": "python",
     "metadata": {},
     "outputs": [],
     "prompt_number": 1
    },
    {
     "cell_type": "code",
     "collapsed": false,
     "input": [
      "simV = pyGadget.sim.Simulation('stampede/vanilla',length='AU', track_sinks=True)\n",
      "sim1 = pyGadget.sim.Simulation('stampede/XR_sfr_1e-3',length='AU', track_sinks=True)\n",
      "sim2 = pyGadget.sim.Simulation('stampede/XR_sfr_1e-2',length='AU', track_sinks=True)\n",
      "sim3 = pyGadget.sim.Simulation('stampede/XR_sfr_1e-1',length='AU', track_sinks=True)"
     ],
     "language": "python",
     "metadata": {},
     "outputs": [
      {
       "output_type": "stream",
       "stream": "stdout",
       "text": [
        "No sink specified: Selecting first sink to form...\n",
        "Key set: nform = 1\n",
        "Using sink ID 3103667\n",
        "Found sinkfiles.  Loading sinkdata."
       ]
      },
      {
       "output_type": "stream",
       "stream": "stdout",
       "text": [
        "\n",
        "Key set: nform ="
       ]
      },
      {
       "output_type": "stream",
       "stream": "stdout",
       "text": [
        " 2\n",
        "Using sink ID 3975878\n",
        "No sink specified: Selecting first sink to form..."
       ]
      },
      {
       "output_type": "stream",
       "stream": "stdout",
       "text": [
        "\n",
        "Key set: nform = 1\n",
        "Using sink ID 3362134\n",
        "Found sinkfiles.  Loading sinkdata."
       ]
      },
      {
       "output_type": "stream",
       "stream": "stdout",
       "text": [
        "\n",
        "Key set: nform ="
       ]
      },
      {
       "output_type": "stream",
       "stream": "stdout",
       "text": [
        " 2\n",
        "Using sink ID 4394567\n",
        "Key set: nform ="
       ]
      },
      {
       "output_type": "stream",
       "stream": "stdout",
       "text": [
        " 3\n",
        "Using sink ID 4011741\n",
        "No sink specified: Selecting first sink to form..."
       ]
      },
      {
       "output_type": "stream",
       "stream": "stdout",
       "text": [
        "\n",
        "Key set: nform = 1\n",
        "Using sink ID 3768236\n",
        "Found sinkfiles.  Loading sinkdata."
       ]
      },
      {
       "output_type": "stream",
       "stream": "stdout",
       "text": [
        "\n",
        "Key set: nform ="
       ]
      },
      {
       "output_type": "stream",
       "stream": "stdout",
       "text": [
        " 2\n",
        "Using sink ID 3755849\n",
        "Key set: nform ="
       ]
      },
      {
       "output_type": "stream",
       "stream": "stdout",
       "text": [
        " 3\n",
        "Using sink ID 3754749\n",
        "Key set: nform ="
       ]
      },
      {
       "output_type": "stream",
       "stream": "stdout",
       "text": [
        " 4\n",
        "Using sink ID 3975112\n",
        "Key set: nform ="
       ]
      },
      {
       "output_type": "stream",
       "stream": "stdout",
       "text": [
        " 5\n",
        "Using sink ID 4088092\n",
        "Key set: nform ="
       ]
      },
      {
       "output_type": "stream",
       "stream": "stdout",
       "text": [
        " 6\n",
        "Using sink ID 3719531\n",
        "Key set: nform ="
       ]
      },
      {
       "output_type": "stream",
       "stream": "stdout",
       "text": [
        " 7\n",
        "Using sink ID 4088845\n",
        "Key set: nform ="
       ]
      },
      {
       "output_type": "stream",
       "stream": "stdout",
       "text": [
        " 8\n",
        "Using sink ID 4407511\n",
        "Key set: nform ="
       ]
      },
      {
       "output_type": "stream",
       "stream": "stdout",
       "text": [
        " 9\n",
        "Using sink ID 4015446\n",
        "Key set: nform ="
       ]
      },
      {
       "output_type": "stream",
       "stream": "stdout",
       "text": [
        " 10\n",
        "Using sink ID 4958838\n",
        "No sink specified: Selecting first sink to form..."
       ]
      },
      {
       "output_type": "stream",
       "stream": "stdout",
       "text": [
        "\n",
        "Key set: nform = 1\n",
        "Using sink ID 3962586\n",
        "Found sinkfiles.  Loading sinkdata."
       ]
      },
      {
       "output_type": "stream",
       "stream": "stdout",
       "text": [
        "\n",
        "Key set: nform ="
       ]
      },
      {
       "output_type": "stream",
       "stream": "stdout",
       "text": [
        " 2\n",
        "Using sink ID 4036631\n",
        "Key set: nform ="
       ]
      },
      {
       "output_type": "stream",
       "stream": "stdout",
       "text": [
        " 3\n",
        "Using sink ID 4062203\n"
       ]
      }
     ],
     "prompt_number": 2
    },
    {
     "cell_type": "code",
     "collapsed": false,
     "input": [
      "#n0, n1, n2, n3, tag = 100, 102, 202, 135, '_z26'\n",
      "#n0, n1, n2, n3, tag = 615, 609, 236, 277, ''\n",
      "#n0, n1, n2, n3, tag = 355, 269, 201, 200, '_t0'\n",
      "#n0, n1, n2, n3, tag = 665, 575, 502, 501, '_t1k'\n",
      "#n0, n1, n2, n3, tag = 974, 880, 802, 800, '_t2k'\n",
      "#n0, n1, n2, n3, tag = 1128, 1032, 951, 950, '_t2500'\n",
      "#n0, n1, n2, n3, tag = 1283, 1184, 1100, 1100, '_t3k'\n",
      "#n0, n1, n2, n3, tag = 1437, 1337, 1251, 1250, '_t3500'\n",
      "#n0, n1, n2, n3, tag = 1592, 1489, 1401, 1400, '_t4k'\n",
      "n0, n1, n2, n3, tag = 1900, 1794, 1701, 1700, '_t5k'"
     ],
     "language": "python",
     "metadata": {},
     "outputs": [],
     "prompt_number": 3
    },
    {
     "cell_type": "code",
     "collapsed": false,
     "input": [
      "snapV = simV.load_snapshot(n0, 'ndensity', 'temp', 'h2frac', 'HDfrac', 'electron_frac','coordinates')#,stride=1e3)\n",
      "snap1 = sim1.load_snapshot(n1, 'ndensity', 'temp', 'h2frac', 'HDfrac', 'electron_frac','coordinates')#,stride=1e3)\n",
      "snap2 = sim2.load_snapshot(n2, 'ndensity', 'temp', 'h2frac', 'HDfrac', 'electron_frac','coordinates')#,stride=1e3)\n",
      "snap3 = sim3.load_snapshot(n3, 'ndensity', 'temp', 'h2frac', 'HDfrac', 'electron_frac','coordinates')#,stride=1e3)"
     ],
     "language": "python",
     "metadata": {},
     "outputs": [
      {
       "output_type": "stream",
       "stream": "stdout",
       "text": [
        "Turning on gas particle refinement.\n",
        "There are"
       ]
      },
      {
       "output_type": "stream",
       "stream": "stdout",
       "text": [
        " 7997231 highest resolution particles.\n",
        "Tracking sinks.\n",
        "2"
       ]
      },
      {
       "output_type": "stream",
       "stream": "stdout",
       "text": [
        " sinks found.\n",
        "Warning: Not Re-centering particle Velocities!"
       ]
      },
      {
       "output_type": "stream",
       "stream": "stdout",
       "text": [
        "\n",
        "Loading data..."
       ]
      },
      {
       "output_type": "stream",
       "stream": "stdout",
       "text": [
        "\n",
        "Turning on gas particle refinement."
       ]
      },
      {
       "output_type": "stream",
       "stream": "stdout",
       "text": [
        "\n",
        "There are"
       ]
      },
      {
       "output_type": "stream",
       "stream": "stdout",
       "text": [
        " 7998436 highest resolution particles.\n",
        "Tracking sinks.\n",
        "2"
       ]
      },
      {
       "output_type": "stream",
       "stream": "stdout",
       "text": [
        " sinks found.\n",
        "Warning: Not Re-centering particle Velocities!"
       ]
      },
      {
       "output_type": "stream",
       "stream": "stdout",
       "text": [
        "\n",
        "Loading data..."
       ]
      },
      {
       "output_type": "stream",
       "stream": "stdout",
       "text": [
        "\n",
        "Turning on gas particle refinement."
       ]
      },
      {
       "output_type": "stream",
       "stream": "stdout",
       "text": [
        "\n",
        "There are"
       ]
      },
      {
       "output_type": "stream",
       "stream": "stdout",
       "text": [
        " 7995003 highest resolution particles.\n",
        "Tracking sinks.\n",
        "6"
       ]
      },
      {
       "output_type": "stream",
       "stream": "stdout",
       "text": [
        " sinks found.\n",
        "Warning: Not Re-centering particle Velocities!"
       ]
      },
      {
       "output_type": "stream",
       "stream": "stdout",
       "text": [
        "\n",
        "Loading data..."
       ]
      },
      {
       "output_type": "stream",
       "stream": "stdout",
       "text": [
        "\n",
        "Turning on gas particle refinement."
       ]
      },
      {
       "output_type": "stream",
       "stream": "stdout",
       "text": [
        "\n",
        "There are"
       ]
      },
      {
       "output_type": "stream",
       "stream": "stdout",
       "text": [
        " 7999275 highest resolution particles.\n",
        "Tracking sinks.\n",
        "3"
       ]
      },
      {
       "output_type": "stream",
       "stream": "stdout",
       "text": [
        " sinks found.\n",
        "Warning: Not Re-centering particle Velocities!"
       ]
      },
      {
       "output_type": "stream",
       "stream": "stdout",
       "text": [
        "\n",
        "Loading data..."
       ]
      },
      {
       "output_type": "stream",
       "stream": "stdout",
       "text": [
        "\n"
       ]
      }
     ],
     "prompt_number": 4
    },
    {
     "cell_type": "code",
     "collapsed": false,
     "input": [
      "for snap in [snapV, snap1, snap2, snap3]:\n",
      "    xyz = snap.gas.get_coords()\n",
      "    uvw = snap.gas.get_velocities()\n",
      "    snap.update_sink_frame_ofR(xyz, uvw)\n",
      "    i = 0\n",
      "    print 'Locating sink...'\n",
      "    while snap.sinks[i].pid != snap.sim.sink1.sink_id:\n",
      "        i += 1\n",
      "    print 'Done'\n",
      "    sink = snap.sinks[i]\n",
      "    sinkpos = (sink.x, sink.y, sink.z)\n",
      "    sinkvel = (sink.vx, sink.vy, sink.vz)\n",
      "    pos = snap.gas.get_coords(system='spherical',\n",
      "                              center=sinkpos, vcenter=sinkvel)\n"
     ],
     "language": "python",
     "metadata": {},
     "outputs": [
      {
       "output_type": "stream",
       "stream": "stderr",
       "text": [
        "/home/r900-4/jhummel/research/pyGadget/pyGadget/coordinates.py:8: RuntimeWarning: invalid value encountered in divide\n",
        "  theta = np.arccos(z/r)\n",
        "/home/r900-4/jhummel/research/pyGadget/pyGadget/coordinates.py:43: RuntimeWarning: invalid value encountered in divide\n",
        "  unit_r = xyz / r\n"
       ]
      },
      {
       "output_type": "stream",
       "stream": "stdout",
       "text": [
        "Warning: Not Re-centering particle Velocities!\n",
        "Locating sink...\n",
        "Done\n",
        "Warning: Not Re-centering particle Velocities!"
       ]
      },
      {
       "output_type": "stream",
       "stream": "stdout",
       "text": [
        "\n",
        "Locating sink...\n",
        "Done\n",
        "Warning: Not Re-centering particle Velocities!"
       ]
      },
      {
       "output_type": "stream",
       "stream": "stdout",
       "text": [
        "\n",
        "Locating sink...\n",
        "Done\n",
        "Warning: Not Re-centering particle Velocities!"
       ]
      },
      {
       "output_type": "stream",
       "stream": "stdout",
       "text": [
        "\n",
        "Locating sink...\n",
        "Done\n"
       ]
      }
     ],
     "prompt_number": 5
    },
    {
     "cell_type": "code",
     "collapsed": false,
     "input": [
      "r1List = []\n",
      "r2List = []\n",
      "for snap in [snapV, snap1, snap2, snap3]:\n",
      "    inR1 = np.where(snap.gas.spherical_coords[:,0] < 1e3)[0]\n",
      "    inR2 = np.where((snap.gas.spherical_coords[:,0] > 1e3) & (snap.gas.spherical_coords[:,0] < 3.5e3))[0]\n",
      "    r1List.append(inR1)\n",
      "    r2List.append(inR2)"
     ],
     "language": "python",
     "metadata": {},
     "outputs": [],
     "prompt_number": 6
    }
   ],
   "metadata": {}
  }
 ]
}