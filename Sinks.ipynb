{
 "cells": [
  {
   "cell_type": "code",
   "execution_count": null,
   "metadata": {
    "collapsed": false
   },
   "outputs": [],
   "source": [
    "%matplotlib inline\n",
    "import os\n",
    "import numpy as np\n",
    "import pandas as pd\n",
    "import pyGadget\n",
    "import matplotlib as mpl\n",
    "from matplotlib import pyplot as plt\n",
    "mpl.rc('text', usetex=True)"
   ]
  },
  {
   "cell_type": "code",
   "execution_count": null,
   "metadata": {
    "collapsed": true
   },
   "outputs": [],
   "source": [
    "import seaborn as sns\n",
    "sns.set_context('poster')\n",
    "sns.set_style('white')"
   ]
  },
  {
   "cell_type": "markdown",
   "metadata": {},
   "source": [
    "# Sink Accretion History"
   ]
  },
  {
   "cell_type": "code",
   "execution_count": null,
   "metadata": {
    "collapsed": false
   },
   "outputs": [],
   "source": [
    "simname = {'vanilla':r'J = 0',\n",
    "        'X0': '',#r'J = J$_0$', \n",
    "        'X1': '',#r'J = 10 J$_0$', \n",
    "        'X2': '',#r'J = 100 J$_0$', \n",
    "        'J0': r'J = J$_0$', \n",
    "        'J1': r'J = 10 J$_0$', \n",
    "        'J2': r'J = 100 J$_0$', \n",
    "        'J3': r'J = 1000 J$_0$'}\n",
    "name = ['vanilla', 'J0', 'J1', 'J2', 'J3', 'X0', 'X1', 'X2']"
   ]
  },
  {
   "cell_type": "code",
   "execution_count": null,
   "metadata": {
    "collapsed": false
   },
   "outputs": [],
   "source": [
    "sinkdata = pd.HDFStore(os.getenv(\"HOME\")+'/data/stampede/sinkdata.hdf5')\n",
    "data0 = sinkdata['vanilla']\n",
    "data1 = sinkdata['XR_sfr_1e-3']\n",
    "data2 = sinkdata['XR_sfr_1e-2']\n",
    "data3 = sinkdata['XR_sfr_1e-1']\n",
    "data4 = sinkdata['xr_tau2_J0']\n",
    "data5 = sinkdata['xr_tau2_J1']\n",
    "data6 = sinkdata['xr_tau2_J2']\n",
    "sinkdata.close()"
   ]
  },
  {
   "cell_type": "code",
   "execution_count": null,
   "metadata": {
    "collapsed": false
   },
   "outputs": [],
   "source": [
    "sinks0 = data0.set_index('time')\n",
    "sinks1 = data1.set_index('time')\n",
    "sinks2 = data2.set_index('time')\n",
    "sinks3 = data3.set_index('time')\n",
    "sinks4 = data4.set_index('time')\n",
    "sinks5 = data5.set_index('time')\n",
    "sinks6 = data6.set_index('time')"
   ]
  },
  {
   "cell_type": "code",
   "execution_count": null,
   "metadata": {
    "collapsed": false
   },
   "outputs": [],
   "source": [
    "palette = [\"#4C72B0\", \"#55A868\", \"#C44E52\", \"#8172B2\", \"#CCB974\", \"#64B5CD\", \"#8172B2\"]\n",
    "sns.palplot(palette)"
   ]
  },
  {
   "cell_type": "code",
   "execution_count": null,
   "metadata": {
    "collapsed": false
   },
   "outputs": [],
   "source": [
    "with sns.color_palette(palette, n_colors=7):\n",
    "    fig, [[ax0,ax1], [ax2,ax3]] = plt.subplots(2, 2, figsize=(12,8))\n",
    "\n",
    "sls = ['-', '--']\n",
    "\n",
    "for i, (ax, unshielded, shielded) in enumerate([(ax0, None,sinks0), (ax1,sinks1, sinks4),\n",
    "                                                (ax2,sinks2, sinks5), (ax3,sinks3, sinks6)]):\n",
    "    if unshielded is not None:\n",
    "        for j,sinkID in enumerate(unshielded.ID.unique()):\n",
    "            growth = unshielded[unshielded.ID == sinkID]['mass']\n",
    "            ax = growth.plot(ax=ax, grid=False, lw=3, color='.85')\n",
    "    for j,sinkID in enumerate(shielded.ID.unique()):\n",
    "        growth = shielded[shielded.ID == sinkID]['mass']\n",
    "        ax = growth.plot(ax=ax, grid=False, lw=3)#, ls=sls[j/6])\n",
    "    ax.text(.03,.93, simname[name[i]], ha='left', va='top', size=20, transform=ax.transAxes)\n",
    "\n",
    "ax0.xaxis.set_visible(False)\n",
    "ax1.xaxis.set_visible(False)\n",
    "ax1.yaxis.set_visible(False)\n",
    "ax3.yaxis.set_visible(False)\n",
    "\n",
    "\n",
    "for ax in fig.axes:\n",
    "    ax.set_xlim(-20,5000)\n",
    "    ax.set_ylim(0,35)\n",
    "ax0.set_yticks((5,10,15,20,25,30,35))\n",
    "ax2.set_yticks((0,5,10,15,20,25,30))\n",
    "ax2.set_xticks((0,1000,2000,3000,4000))\n",
    "ax3.set_xticks((1000,2000,3000,4000,5000))\n",
    "\n",
    "ax0.set_ylabel('Mass [$M_{\\odot}$]')\n",
    "ax2.set_ylabel('Mass [$M_{\\odot}$]')\n",
    "ax2.set_xlabel('Time [yr]')\n",
    "ax3.set_xlabel('Time [yr]')\n",
    "\n",
    "#ax0.text(.03,.97, r'J = 0', ha='left', va='top', size=25, transform=ax0.transAxes)\n",
    "#ax1.text(.03,.97, r'J = J$_{0}$', ha='left', va='top', size=25, transform=ax1.transAxes)\n",
    "#ax2.text(.03,.97, r'J = 10 J$_{0}$', ha='left', va='top', size=25, transform=ax2.transAxes)\n",
    "#ax3.text(.03,.97, r'J = 100 J$_{0}$', ha='left', va='top', size=25, transform=ax3.transAxes)\n",
    "\n",
    "plt.tight_layout(w_pad=0.0,h_pad=0.0)\n",
    "fig.savefig('figures/sinks/sink_masses.pdf', bbox_inches='tight')\n",
    "#mpl.rc('axes', color_cycle=['k','b','g','r','k','b','g','r'])"
   ]
  },
  {
   "cell_type": "code",
   "execution_count": null,
   "metadata": {
    "collapsed": false
   },
   "outputs": [],
   "source": [
    "total_mass = []\n",
    "for i,data in enumerate([data0, data1, data2, data3]):\n",
    "    mtot = data[['time','mass']].groupby('time').sum()\n",
    "    mtot.rename(columns = {'mass':name[i]}, inplace=True)\n",
    "    total_mass.append(mtot)"
   ]
  },
  {
   "cell_type": "code",
   "execution_count": null,
   "metadata": {
    "collapsed": false
   },
   "outputs": [],
   "source": [
    "slw = 3\n",
    "with sns.color_palette(n_colors=4):\n",
    "    fig, ax = plt.subplots()\n",
    "df = total_mass[0]\n",
    "ax.plot(df.index, df.vanilla, label=simname['vanilla'], lw=slw, color='.25')\n",
    "for i,df in enumerate(total_mass[1:]):\n",
    "    ax.plot(df.index, df[name[i+1]], label=simname[name[i+1]])\n",
    "leg = plt.legend(loc=0)\n",
    "plt.xlim(0,5000)\n",
    "plt.ylim(0,80)\n",
    "#plt.ylim(1,100); plt.semilogy()\n",
    "\n",
    "plt.ylabel('Mass [$M_{\\odot}$]')\n",
    "plt.xlabel('Time [yr]')\n",
    "plt.savefig('figures/sinks/total_sink_mass.png', bbox_inches='tight')"
   ]
  },
  {
   "cell_type": "code",
   "execution_count": null,
   "metadata": {
    "collapsed": false
   },
   "outputs": [],
   "source": [
    "for i in xrange(4):\n",
    "    df = total_mass[i]\n",
    "    print df[df.index >= 5000].head(1), '\\n'"
   ]
  },
  {
   "cell_type": "code",
   "execution_count": null,
   "metadata": {
    "collapsed": false
   },
   "outputs": [],
   "source": [
    "most_massive_sink = []\n",
    "for i,data in enumerate([data0, data1, data2, data3]):\n",
    "    mms = data[['time','mass']].groupby('time').max()\n",
    "    mms.rename(columns = {'mass':name[i]}, inplace=True)\n",
    "    most_massive_sink.append(mms)"
   ]
  },
  {
   "cell_type": "code",
   "execution_count": null,
   "metadata": {
    "collapsed": false
   },
   "outputs": [],
   "source": [
    "slw = 3\n",
    "count = 0\n",
    "with sns.color_palette(n_colors=4):\n",
    "    fig, ax = plt.subplots()\n",
    "df = most_massive_sink[0]\n",
    "ax.plot(df.index, df.vanilla, label=simname['vanilla'], lw=slw, color='.25')\n",
    "for i,df in enumerate(most_massive_sink[1:]):\n",
    "    ax.plot(df.index, df[name[i+1]], label=simname[name[i+1]])\n",
    "  \n",
    "leg = plt.legend(loc=0)\n",
    "plt.xlim(0,5000)\n",
    "plt.ylim(0,30)\n",
    "#plt.ylim(1,100); plt.semilogy()\n",
    "\n",
    "plt.ylabel('Mass [$M_{\\odot}$]')\n",
    "plt.xlabel('Time [yr]')\n",
    "plt.title('Most Massive Sink')\n",
    "plt.savefig('figures/sinks/most_massive_sink.png', bbox_inches='tight')"
   ]
  }
 ],
 "metadata": {
  "kernelspec": {
   "display_name": "Python 2",
   "language": "python",
   "name": "python2"
  },
  "language_info": {
   "codemirror_mode": {
    "name": "ipython",
    "version": 2
   },
   "file_extension": ".py",
   "mimetype": "text/x-python",
   "name": "python",
   "nbconvert_exporter": "python",
   "pygments_lexer": "ipython2",
   "version": "2.7.10"
  }
 },
 "nbformat": 4,
 "nbformat_minor": 0
}
