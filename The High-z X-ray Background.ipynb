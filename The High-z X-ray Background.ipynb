{
 "cells": [
  {
   "cell_type": "markdown",
   "metadata": {},
   "source": [
    "# Estimating the average X-ray backgound at high redshifts"
   ]
  },
  {
   "cell_type": "markdown",
   "metadata": {},
   "source": [
    "At very high redshifts, the primary source of X-rays will be from High-Mass X-ray Binaries (HMXBs).  Given an estimate of the Star Formation Rate Density (SFRD), we can calculate the corresponding energy density of X-rays in space ($u_{\\rm \\small XR}$) by assuming values for the typical number, mass, luminosity and lifespan of HMXBs:\n",
    "\n",
    "$$u_{\\rm \\small XR}(z) = f_{\\rm \\small HMXB} \\Psi_{*}(z) \\langle\\frac{L_{\\rm \\small XR}}{M_{\\rm \\small HMXB}}\\rangle \\Delta t_{\\rm \\small HMXB} \\; t_{\\rm \\small H}(z) (1+z)^3,$$\n",
    "\n",
    "where $$f_{\\rm \\small HMXB} \\equiv {\\rm fraction \\; of \\; stars \\; by \\; mass\\; dying \\; as \\; HMXBs}$$\n",
    "\n",
    "$$\\Psi_*(z) \\equiv {\\rm comoving \\; SFR \\; in \\;M}_{\\odot} \\; {\\rm yr}^{-1} \\; {\\rm Mpc}^{-3}$$\n",
    "\n",
    "$$L_{\\rm \\small XR} \\equiv {\\rm HMXB \\; X\\!-\\!ray \\; luminosity}$$\n",
    "\n",
    "$$M_{\\rm \\small HMXB} \\equiv {\\rm HMXB \\; mass}$$\n",
    "\n",
    "$$\\Delta t_{\\rm \\small HMXB} \\equiv {\\rm typical \\; HMXB \\; lifespan}$$\n",
    "\n",
    "$$t_{\\rm \\small H} \\equiv {\\rm Hubble \\; time \\; at \\; redshift \\;}z$$\n",
    "\n",
    "Here, $t_{\\rm \\small H}$ accounts for the time X-rays have had to propagate through the universe since their creation, and the factor of $(1+z)^3$ is required to convert from a comoving SFRD to a physical X-ray energy density."
   ]
  },
  {
   "cell_type": "markdown",
   "metadata": {},
   "source": [
    "## HMXB (High-Mass X-Ray Binary) property assumptions:"
   ]
  },
  {
   "cell_type": "markdown",
   "metadata": {},
   "source": [
    "The fraction of stars by mass that end up as HMXBs is determined by the mass fraction of stars forming black holes, the fraction of black holes in binary systems, and the fraction of binaries close enough for mass transfer to\n",
    "occur. For Population III (Pop III) stars, we estimate this efficiency factor as $$ f_{\\rm \\small HMXB} = f_{\\rm \\small BH} f_{\\rm binary} f_{\\rm close} \\simeq \\left(\\frac{1}{2}\\right) \\left(\\frac{1}{2}\\right) \\left(\\frac{2}{15}\\right) = \\frac{1}{30}$$"
   ]
  },
  {
   "cell_type": "code",
   "execution_count": null,
   "metadata": {
    "collapsed": false
   },
   "outputs": [],
   "source": [
    "f_xrb = 1./30."
   ]
  },
  {
   "cell_type": "markdown",
   "metadata": {},
   "source": [
    "We assume the typical lifetime of a HMXB is $10^7$ years."
   ]
  },
  {
   "cell_type": "code",
   "execution_count": null,
   "metadata": {
    "collapsed": false
   },
   "outputs": [],
   "source": [
    "t_xrb = 1e7 "
   ]
  },
  {
   "cell_type": "markdown",
   "metadata": {},
   "source": [
    "HMXBs will accrete material at close to the Eddington limit,\n",
    "so we can approximate\n",
    "\n",
    "$$\\frac{L_{\\rm \\small HMXB}}{M_{\\rm \\small HMXB}} \\simeq l_{\\rm \\small EDD} = 10^{38} {\\rm \\; erg\\;s}^{-1} {\\rm \\; M_{\\odot}}^{-1}$$\n",
    "\n",
    "But, this gives us an estimate of the total bolometric luminosity of the HMXB, not the X-Ray luminosity.  For a $\\rm 100 \\; M_{\\odot}$ BH accreting at a rate of $\\rm 10^{-6} \\; M_{\\odot} \\; yr^{-1}$, approximately 30% of the total luminosity is between 1 keV and 10 keV.  So, \n",
    "$$L_{\\rm \\small XR} = \\frac{1}{3} L_{\\rm \\small HMXB}$$"
   ]
  },
  {
   "cell_type": "code",
   "execution_count": null,
   "metadata": {
    "collapsed": false
   },
   "outputs": [],
   "source": [
    "l_xrb = 1e38 / 3"
   ]
  },
  {
   "cell_type": "markdown",
   "metadata": {},
   "source": [
    "## Assumed Star Formation Rate Density:"
   ]
  },
  {
   "cell_type": "markdown",
   "metadata": {},
   "source": [
    "We use the star formation rate density determined by Greif & Bromm (2006).  To do so we load the file 'sfr_GB06.dat' containing the comoving SFR as a function of redshift in units of solar masses per year per cubic Mpc. This was extracted from Figure 7 (dotted line) of GB06 and extended to redshift 100 using a log-linear extrapolation."
   ]
  },
  {
   "cell_type": "code",
   "execution_count": null,
   "metadata": {
    "collapsed": false
   },
   "outputs": [],
   "source": [
    "import os\n",
    "from astropy.io import ascii\n",
    "fname = '../jxr/sfr_GB06.dat'\n",
    "sfdata = ascii.read(fname)\n",
    "z = sfdata['z']\n",
    "sfr = sfdata['sfr']"
   ]
  },
  {
   "cell_type": "code",
   "execution_count": null,
   "metadata": {
    "collapsed": false
   },
   "outputs": [],
   "source": [
    "def find_closest(A, target):\n",
    "    #A must be sorted\n",
    "    idx = A.searchsorted(target)\n",
    "    idx = np.clip(idx, 1, len(A)-1)\n",
    "    left = A[idx-1]\n",
    "    right = A[idx]\n",
    "    idx -= target - left < right - target\n",
    "    return idx"
   ]
  },
  {
   "cell_type": "markdown",
   "metadata": {},
   "source": [
    "## Calculate $u_{\\rm \\small XR}$:"
   ]
  },
  {
   "cell_type": "markdown",
   "metadata": {},
   "source": [
    "First calculate the hubble time for each redshift point and convert it to seconds."
   ]
  },
  {
   "cell_type": "code",
   "execution_count": null,
   "metadata": {
    "collapsed": false
   },
   "outputs": [],
   "source": [
    "import astropy\n",
    "from astropy.cosmology import WMAP9\n",
    "from astropy import units\n",
    "t_H = WMAP9.age(z) #returns age of universe in Gyr\n",
    "t_s = t_H.to('s').value #just want the array, not the unit information\n",
    "\n",
    "z3 = (1+z)**3 # (1+z)^3 (defined for convenience)"
   ]
  },
  {
   "cell_type": "markdown",
   "metadata": {},
   "source": [
    "Now calculate $u_{\\rm \\small XR}$ and convert to cgs units."
   ]
  },
  {
   "cell_type": "code",
   "execution_count": null,
   "metadata": {
    "collapsed": false
   },
   "outputs": [],
   "source": [
    "# X-ray energy density (erg/Mpc^3)\n",
    "u_xr = f_xrb * t_xrb * l_xrb * t_s * sfr * z3\n",
    "# Convert to cgs units (Mpc --> cm)\n",
    "u_xr /= (3.08e24)**3"
   ]
  },
  {
   "cell_type": "markdown",
   "metadata": {},
   "source": [
    "## Calculate $J_{\\rm \\small XR}$:"
   ]
  },
  {
   "cell_type": "markdown",
   "metadata": {},
   "source": [
    "The average intensity of this radiation, $J_{\\rm \\small XR}(z)$ is then given by\n",
    "$$J_{\\rm \\small XR}(z) = \\int_{1 {\\rm keV}}^{10 {\\rm keV}} J_{\\rm \\small XR}(z,\\nu) d\\nu = \\frac{c}{4\\pi} u_{\\rm \\small XR}(z)$$"
   ]
  },
  {
   "cell_type": "code",
   "execution_count": null,
   "metadata": {
    "collapsed": false
   },
   "outputs": [],
   "source": [
    "import numpy as np\n",
    "J_xr = u_xr * 2.99792458e+10 / (4*np.pi)"
   ]
  },
  {
   "cell_type": "markdown",
   "metadata": {},
   "source": [
    "Following Inayoshi & Omukai (2011), we define\n",
    "$$J_{\\rm \\small XR}(z,\\nu) = J_0(z) \\left(\\frac{\\nu}{\\nu_0}\\right)^{-1.5} d\\nu$$"
   ]
  },
  {
   "cell_type": "code",
   "execution_count": null,
   "metadata": {
    "collapsed": false
   },
   "outputs": [],
   "source": [
    "h = 4.135667516e-15\n",
    "from scipy import integrate\n",
    "def J_nu(v):\n",
    "    return (v/(1e3/h))**-1.5"
   ]
  },
  {
   "cell_type": "markdown",
   "metadata": {},
   "source": [
    "This allows us to calculate the normalization factor $J_{\\rm \\small 0}(z)$ for plugging into our simulations."
   ]
  },
  {
   "cell_type": "code",
   "execution_count": null,
   "metadata": {
    "collapsed": false
   },
   "outputs": [],
   "source": [
    "integral = integrate.quad(J_nu, 1e3/h, 1e4/h)\n",
    "J0 = J_xr / integral[0] # integrate.quad returns tuple with result + abserror"
   ]
  },
  {
   "cell_type": "markdown",
   "metadata": {},
   "source": [
    "### Save this to the file 'jxr.dat' for loading into GADGET."
   ]
  },
  {
   "cell_type": "code",
   "execution_count": null,
   "metadata": {
    "collapsed": false
   },
   "outputs": [],
   "source": [
    "jdata = np.zeros((z.size,2))\n",
    "jdata[:,0] = z[::-1]\n",
    "jdata[:,1] = J0[::-1]\n",
    "np.savetxt('jxr.dat', jdata, fmt='%.8e %.8e')"
   ]
  },
  {
   "cell_type": "markdown",
   "metadata": {},
   "source": [
    "# Now let's make some plots."
   ]
  },
  {
   "cell_type": "code",
   "execution_count": null,
   "metadata": {
    "collapsed": false
   },
   "outputs": [],
   "source": [
    "%matplotlib inline\n",
    "from matplotlib import pyplot as plt\n",
    "import seaborn as sns\n",
    "sns.set_style('white')\n",
    "sns.set_context('poster')"
   ]
  },
  {
   "cell_type": "markdown",
   "metadata": {},
   "source": [
    "First lets plot the SFR as a function of redshift:"
   ]
  },
  {
   "cell_type": "code",
   "execution_count": null,
   "metadata": {
    "collapsed": false
   },
   "outputs": [],
   "source": [
    "plt.rcParams['figure.figsize'] = (8,6)\n",
    "plt.rcParams['text.usetex'] = True\n",
    "plt.rc('font', size=18.)\n",
    "plt.semilogy(z,sfr, 'k')\n",
    "plt.xlabel('Redshift')\n",
    "plt.ylabel(r'SFR [M$_{\\odot}$ yr$^{-1} Mpc$^{-3}$]')\n",
    "plt.savefig('sfr.png')"
   ]
  },
  {
   "cell_type": "markdown",
   "metadata": {},
   "source": [
    "Now plot u<sub>XR</sub> as a function of redshift:"
   ]
  },
  {
   "cell_type": "code",
   "execution_count": null,
   "metadata": {
    "collapsed": false
   },
   "outputs": [],
   "source": [
    "plt.plot(z,np.log10(u_xr), 'k')\n",
    "plt.xlabel('Redshift')\n",
    "plt.ylabel(r'Log u$_{\\textsc{xr}}$ [erg cm$^{-3}$]')\n",
    "plt.savefig('u_xr.png', bbox_inches='tight')"
   ]
  },
  {
   "cell_type": "markdown",
   "metadata": {},
   "source": [
    "And then, our various models for J<sub>XR</sub>:"
   ]
  },
  {
   "cell_type": "code",
   "execution_count": null,
   "metadata": {
    "collapsed": false
   },
   "outputs": [],
   "source": [
    "sns.palplot(sns.color_palette())"
   ]
  },
  {
   "cell_type": "code",
   "execution_count": null,
   "metadata": {
    "collapsed": false
   },
   "outputs": [],
   "source": [
    "current_palette = sns.color_palette()\n",
    "fig, ax = plt.subplots()\n",
    "ax.axvspan(25.04, 25.84, color='.9', zorder=1)\n",
    "\n",
    "for i,hm in [(2,1e6),(0,2e5)]:\n",
    "    #gammaCrit = 2.6e-7 * ((hm/1e6)**(2./3.)) *((1+z)/20)**(2.5)\n",
    "    gammaCrit = 3.4e-4 * ((hm/1e6)**(2./3.)) *((1+z)/20)**(2.5)\n",
    "    ax.fill_between(z, np.log10(gammaCrit),np.log10(gammaCrit/2), color=current_palette[i], zorder=2)\n",
    "    #ax.plot(z, np.log10(gammaCrit), color=current_palette[i])\n",
    "ax.plot(z, np.log10(J_xr), '.7')\n",
    "ax.plot(z, np.log10(J_xr*10), '.5')\n",
    "ax.plot(z, np.log10(J_xr*100), '.3')\n",
    "ax.plot(z, np.log10(J_xr*1000), '.1')\n",
    "\n",
    "\n",
    "ax.set_xlim(20,50)\n",
    "ax.set_ylim(-8,-2)\n",
    "ax.set_xlabel('Redshift')\n",
    "ax.set_ylabel(r'Log J$_{\\textsc{xr}}$ [erg s$^{-1}$ cm$^{-2}$ sr$^{-1}$]')\n",
    "#fig.savefig('figures/J_xr.png', bbox_inches='tight')\n",
    "fig.savefig('figures/J_xr.pdf', bbox_inches='tight')"
   ]
  },
  {
   "cell_type": "code",
   "execution_count": null,
   "metadata": {
    "collapsed": true
   },
   "outputs": [],
   "source": []
  }
 ],
 "metadata": {
  "kernelspec": {
   "display_name": "Python 2",
   "language": "python",
   "name": "python2"
  },
  "language_info": {
   "codemirror_mode": {
    "name": "ipython",
    "version": 2
   },
   "file_extension": ".py",
   "mimetype": "text/x-python",
   "name": "python",
   "nbconvert_exporter": "python",
   "pygments_lexer": "ipython2",
   "version": "2.7.9"
  }
 },
 "nbformat": 4,
 "nbformat_minor": 0
}
