{
 "cells": [
  {
   "cell_type": "markdown",
   "metadata": {},
   "source": [
    "# The First Stars: Formation under X-ray Feedback -- Structure Visualization"
   ]
  },
  {
   "cell_type": "markdown",
   "metadata": {},
   "source": [
    "This notebook generates all simulation results figures for my current paper.  All simulations run on stampede.tacc.utexas.edu"
   ]
  },
  {
   "cell_type": "code",
   "execution_count": null,
   "metadata": {
    "collapsed": false
   },
   "outputs": [],
   "source": [
    "%matplotlib inline\n",
    "import numpy as np\n",
    "import matplotlib as mpl\n",
    "from matplotlib import pyplot as plt"
   ]
  },
  {
   "cell_type": "raw",
   "metadata": {},
   "source": [
    "mpl.rc('font', size=20.)\n",
    "mpl.rc('font', family='serif')\n",
    "mpl.rc('text', usetex=True)"
   ]
  },
  {
   "cell_type": "code",
   "execution_count": null,
   "metadata": {
    "collapsed": false
   },
   "outputs": [],
   "source": [
    "import seaborn as sns\n",
    "sns.set_context('poster')\n",
    "sns.set_style('white')"
   ]
  },
  {
   "cell_type": "code",
   "execution_count": null,
   "metadata": {
    "collapsed": false
   },
   "outputs": [],
   "source": [
    "import pyGadget"
   ]
  },
  {
   "cell_type": "markdown",
   "metadata": {},
   "source": [
    "Use the final snapshot of the vanilla simulation."
   ]
  },
  {
   "cell_type": "code",
   "execution_count": null,
   "metadata": {
    "collapsed": false
   },
   "outputs": [],
   "source": [
    "sims = ['vanilla', 'xr_tau_J0', 'xr_tau_J1', 'xr_tau_J2', 'xr_tau_J3']\n",
    "#sims = ['vanilla', 'XR_sfr_1e-3', 'XR_sfr_1e-2', 'XR_sfr_1e-1']\n",
    "n0 = [306, 327, 271, 235]\n",
    "n5k = [1900, 1851, 1870, 1810, 1758]\n",
    "#n5k = [1900, 1794, 1701, 1700]\n",
    "t0 = '_t0'\n",
    "t5k = '_t5k'\n",
    "vsnap, nsnap, tag = 615, n5k, t5k"
   ]
  },
  {
   "cell_type": "code",
   "execution_count": null,
   "metadata": {
    "collapsed": false
   },
   "outputs": [],
   "source": [
    "i=3\n",
    "sim = pyGadget.sim.Simulation('stampede/'+sims[i])\n",
    "snap = sim.load_snapshot(nsnap[i], track_sinks=True)"
   ]
  },
  {
   "cell_type": "code",
   "execution_count": null,
   "metadata": {
    "collapsed": false
   },
   "outputs": [],
   "source": [
    "snap.gas.orient_box(centering='avg')"
   ]
  },
  {
   "cell_type": "code",
   "execution_count": null,
   "metadata": {
    "collapsed": false,
    "scrolled": true
   },
   "outputs": [],
   "source": [
    "radians = np.linspace(0,np.pi,90)\n",
    "imlist = []\n",
    "for theta in radians:\n",
    "    view = [('y',0.917768),('z', theta)]\n",
    "    img = pyGadget.visualize.project(snap, 'ndensity', '5000AU', view, centering='avg', depth=2.)\n",
    "    imlist.append(img[2])"
   ]
  },
  {
   "cell_type": "code",
   "execution_count": null,
   "metadata": {
    "collapsed": false,
    "scrolled": false
   },
   "outputs": [],
   "source": [
    "from IPython.html import widgets\n",
    "def plot(i):\n",
    "    plt.imshow(imlist[i], cmap=plt.cm.bone)\n",
    "\n",
    "widgets.interact(plot, i=(0,89))"
   ]
  },
  {
   "cell_type": "code",
   "execution_count": null,
   "metadata": {
    "collapsed": false
   },
   "outputs": [],
   "source": [
    "radians[8]"
   ]
  },
  {
   "cell_type": "markdown",
   "metadata": {},
   "source": [
    "# 4 Panel Simulation Comparison Plots"
   ]
  },
  {
   "cell_type": "markdown",
   "metadata": {},
   "source": [
    "For each sim, picking the snapshot just prior to the formation of the first sink."
   ]
  },
  {
   "cell_type": "code",
   "execution_count": null,
   "metadata": {
    "collapsed": false
   },
   "outputs": [],
   "source": [
    "simlist = []\n",
    "snaplist = []\n",
    "for i,simname in enumerate(sims):\n",
    "    sim = pyGadget.sim.Simulation('stampede/'+sims[i])\n",
    "    sim.set_coordinate_system('physical')\n",
    "    snap = sim.load_snapshot(nsnap[i], track_sinks=True)\n",
    "    snap.gas.orient_box(centering='avg', view='face', dens_lim=9e11)\n",
    "    simlist.append(sim)\n",
    "    snaplist.append(snap)"
   ]
  },
  {
   "cell_type": "markdown",
   "metadata": {},
   "source": [
    "## Disk Structure"
   ]
  },
  {
   "cell_type": "markdown",
   "metadata": {},
   "source": [
    "### Density structure"
   ]
  },
  {
   "cell_type": "code",
   "execution_count": null,
   "metadata": {
    "collapsed": false
   },
   "outputs": [],
   "source": [
    "import copy\n",
    "imlist = []\n",
    "sinklist = []\n",
    "scale = '15000AU'\n",
    "\n",
    "face = [[('x', 0.29518), ('z', 0.825), ('x',np.pi/2)],\n",
    "        [('y', 0.494183), ('z', 1.12956), ('x',np.pi/2)],\n",
    "        [('y', 0.6), ('z', 1.2), ('x',np.pi/2)],\n",
    "        [('y', 0.56478), ('z', 1.69434), ('x',np.pi/2)],\n",
    "        [('y', 0.917768), ('z', 0.28239), ('x',np.pi/2)]]\n",
    "edge = [[('x', 0.29518), ('z', 0.825)],\n",
    "        [('y', 0.494183), ('z', 1.12956)],\n",
    "        [('y', 0.6), ('z', 1.2)],\n",
    "        [('y', 0.56478), ('z', 1.69434)],\n",
    "        [('y', 0.917768), ('z', 0.28239)]\n",
    "        ]\n",
    "for view in [face, edge]:\n",
    "    count = 0\n",
    "    for snap in snaplist:\n",
    "        imlist.append(pyGadget.visualize.project(snap, 'ndensity', scale, view[count], centering='avg', \n",
    "                                                 depth=2., dens_lim=None))\n",
    "        sinklist.append(copy.deepcopy(snap.sinks))\n",
    "        count += 1\n",
    "#    snap.close()"
   ]
  },
  {
   "cell_type": "code",
   "execution_count": null,
   "metadata": {
    "collapsed": false,
    "scrolled": false
   },
   "outputs": [],
   "source": [
    "from mpl_toolkits.axes_grid1 import ImageGrid\n",
    "\n",
    "sim = ['J = 0', 'J = J$_{0}$', 'J = 10 J$_{0}$', 'J = 100 J$_{0}$', 'J = 1000 J$_{0}$']\n",
    "bbox_props = dict(boxstyle=\"round\", fc=\"k\", ec=\"k\", alpha=0.5)\n",
    "ticks = [(7,8,9,10,11),(6,7,8,9,10)]\n",
    "\n",
    "fig = plt.figure(1, (22, 8), dpi=600)\n",
    "grid = ImageGrid(fig, 111, # similar to subplot(111)\n",
    "                nrows_ncols = (2, 5), # creates 4x2 grid of axes\n",
    "                axes_pad=0.0, # pad between axes in inch.\n",
    "                cbar_mode = 'edge', cbar_location = 'right', cbar_size='7%', cbar_pad=0.0\n",
    "                )\n",
    "for i in range(10):\n",
    "    x = imlist[i][0]\n",
    "    y = imlist[i][1]\n",
    "    im = imlist[i][2]\n",
    "    ax = grid[i]\n",
    "    img = ax.imshow(im, extent=[x.min(),x.max(),y.min(),y.max()], cmap=plt.cm.bone, origin='lower')\n",
    "    ax.xaxis.set_visible(False)\n",
    "    ax.yaxis.set_visible(False)\n",
    "    img.set_clim((6.5,10.75))\n",
    "    #img.set_clim((8,12))\n",
    "    \n",
    "    cb = plt.colorbar(img, cax=grid.cbar_axes[i])\n",
    "    #cb.set_ticks(ticks[i/4])\n",
    "    cb.set_ticks((7,8,9,10))\n",
    "    cb.ax.tick_params(left='on', labelsize=15, labelcolor='k')\n",
    "    #if clabel[i]: \n",
    "    cb.set_label('Log Number Density \\n    [cm$^{-3}$]')\n",
    "    \n",
    "    for sink in sinklist[i]:\n",
    "        #mscale = sink.mass*6./27. + .33\n",
    "        mscale = np.log(sink.mass) +1\n",
    "        ax.plot(sink.x, sink.y, 'ko', ms=mscale, mew=1)\n",
    "    ax.set_xlim(x.min(), x.max())\n",
    "    ax.set_ylim(y.min(), y.max())\n",
    "\n",
    "    if i > 4:\n",
    "        cb.set_ticks(ticks[i/5])\n",
    "        ax.text(0.5, 0.025, sim[i-5], color='w', ha='center', va='bottom', size=18, \n",
    "                transform=grid[i].transAxes, bbox=bbox_props)\n",
    "\n",
    "plt.show()\n",
    "fig.savefig('figures/structure/disks-tau.png', bbox_inches='tight', dpi=100)"
   ]
  },
  {
   "cell_type": "code",
   "execution_count": null,
   "metadata": {
    "collapsed": true
   },
   "outputs": [],
   "source": []
  }
 ],
 "metadata": {
  "kernelspec": {
   "display_name": "Python 2",
   "language": "python",
   "name": "python2"
  },
  "language_info": {
   "codemirror_mode": {
    "name": "ipython",
    "version": 2
   },
   "file_extension": ".py",
   "mimetype": "text/x-python",
   "name": "python",
   "nbconvert_exporter": "python",
   "pygments_lexer": "ipython2",
   "version": "2.7.9"
  }
 },
 "nbformat": 4,
 "nbformat_minor": 0
}
